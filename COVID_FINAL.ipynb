{
 "cells": [
  {
   "cell_type": "markdown",
   "metadata": {},
   "source": [
    "# What is COVID-19?<br>\n",
    "\n",
    "As  stated  by  WHO  Coronavirus  disease  (COVID-19)  is  an  infectious  disease  caused  by  a  newly  discovered  coronavirus. Most  people  infected  with  the  COVID-19  virus  will  experience  mild  to  moderate  respiratory  illness  and  recover  without requiring  special  treatment. Older people,  and  those  with  underlying  medical  problems  like  cardiovascular  disease,  diabetes, chronic  respiratory  disease,  and  cancer  are  more  likely  to  develop serious  illness.  This  project  aims  at  exploring  COVID-19 through  data  analysis  and  projections.\n",
    "\n",
    "## Symptoms :\n",
    "1. Trouble breathing\n",
    "1. Constant pain or pressure in your chest\n",
    "1. Bluish lips or face\n",
    "1. Sudden confusion\n",
    "1. etc\n",
    "\n",
    "<img src=\"SARS-CoV-2-Virus-COVID-19.jpg\" length='1000' height='500' >\n",
    "\n",
    "### Be  strong  and  Keep  safe.\n",
    "\n",
    "\n"
   ]
  },
  {
   "cell_type": "code",
   "execution_count": 1,
   "metadata": {},
   "outputs": [],
   "source": [
    "import pandas as pd\n",
    "import numpy as np\n",
    "\n",
    "import plotly as py\n",
    "import plotly.graph_objects as go\n",
    "import plotly_express as px\n",
    "\n",
    "from functools import reduce\n",
    "\n",
    "from IPython.core.display import display, HTML \n",
    "from ipywidgets import interact, interactive, fixed, interact_manual\n",
    "import ipywidgets as widgets\n"
   ]
  },
  {
   "cell_type": "code",
   "execution_count": 2,
   "metadata": {},
   "outputs": [],
   "source": [
    "confirmed_df = pd.read_csv(\"https://raw.githubusercontent.com/CSSEGISandData/COVID-19/master/csse_covid_19_data/csse_covid_19_time_series/time_series_covid19_confirmed_global.csv\")\n",
    "death_df = pd.read_csv(\"https://raw.githubusercontent.com/CSSEGISandData/COVID-19/master/csse_covid_19_data/csse_covid_19_time_series/time_series_covid19_deaths_global.csv\")\n",
    "recovered_df = pd.read_csv(\"https://raw.githubusercontent.com/CSSEGISandData/COVID-19/master/csse_covid_19_data/csse_covid_19_time_series/time_series_covid19_recovered_global.csv\")\n",
    "country_df=pd.read_csv('https://raw.githubusercontent.com/CSSEGISandData/COVID-19/web-data/data/cases_country.csv')"
   ]
  },
  {
   "cell_type": "code",
   "execution_count": 3,
   "metadata": {},
   "outputs": [],
   "source": [
    "#confirmed_df.head()"
   ]
  },
  {
   "cell_type": "code",
   "execution_count": 4,
   "metadata": {},
   "outputs": [],
   "source": [
    "#print('death_df=',death_df.shape)\n",
    "#print('recovered_df=',recovered_df.shape)\n",
    "#print('confirmed_df=',confirmed_df.shape)\n",
    "#print('country_df=',country_df.shape)\n",
    "#country_df.head()"
   ]
  },
  {
   "cell_type": "code",
   "execution_count": 5,
   "metadata": {},
   "outputs": [],
   "source": [
    "#Finding total count:\n",
    "\n",
    "confirmed_total = int(country_df['Confirmed'].sum())\n",
    "deaths_total = int(country_df['Deaths'].sum())\n",
    "recovered_total = int(country_df['Recovered'].sum())\n",
    "active_total = int(country_df['Active'].sum())"
   ]
  },
  {
   "cell_type": "code",
   "execution_count": 6,
   "metadata": {},
   "outputs": [
    {
     "data": {
      "text/html": [
       "<div style = 'background-color:#D3D3D3; padding: 30px ; border-color: #6E6E6E ; border-width: .4em; border-style: solid'><span style='color:#4169E1; font-size:30px;'> Confirmed: 14127864</span><span style='color:#A52A2A; font-size:30px;margin-left:20px;'> Deaths: 603269</span><span style='color:#228B22; font-size:30px; margin-left:20px;'> Recovered: 7912449</span></div>"
      ],
      "text/plain": [
       "<IPython.core.display.HTML object>"
      ]
     },
     "metadata": {},
     "output_type": "display_data"
    }
   ],
   "source": [
    "#display total \n",
    "display(HTML(\"<div style = 'background-color:#D3D3D3; padding: 30px ; border-color: #6E6E6E ; border-width: .4em; border-style: solid'>\" +\n",
    "             \"<span style='color:#4169E1; font-size:30px;'> Confirmed: \"  + str(confirmed_total) +\"</span>\" +\n",
    "             \"<span style='color:#A52A2A; font-size:30px;margin-left:20px;'> Deaths: \" + str(deaths_total) + \"</span>\"+\n",
    "             \"<span style='color:#228B22; font-size:30px; margin-left:20px;'> Recovered: \" + str(recovered_total) + \"</span>\"+\n",
    "             \"</div>\")\n",
    "       )"
   ]
  },
  {
   "cell_type": "code",
   "execution_count": 7,
   "metadata": {},
   "outputs": [],
   "source": [
    "#Data cleaning\n",
    "\n",
    "def nan_val(df):\n",
    "    nan_cols={i : df[i].isnull().sum() for i in df.columns if df[i].isnull().any()}\n",
    "#    print(nan_cols)\n",
    "nan_val(confirmed_df)\n",
    "nan_val(death_df)\n",
    "nan_val(recovered_df)\n",
    "nan_val(country_df)\n",
    "\n"
   ]
  },
  {
   "cell_type": "code",
   "execution_count": 8,
   "metadata": {},
   "outputs": [],
   "source": [
    "#renaming few columns for ease of typing\n",
    "for i in [recovered_df,confirmed_df,death_df]:\n",
    "    i.rename({'Province/State':'state'},axis='columns',inplace=True)\n",
    "    i.rename({'Country/Region': 'country'}, axis='columns',inplace=True)\n",
    "\n",
    "# we also deduce that People_Tested and People_Hospitalized column in the country_df dataset do not have any value\n",
    "#Hence we drop all the above columns and rename a few for ease \n",
    "\n",
    "country_df.dropna(axis = 1, how ='all', inplace = True)\n",
    "country_df.rename({'Country_Region': 'country', 'Long_': 'Long'}, axis='columns',inplace=True)\n",
    "\n",
    "#for i in [recovered_df,confirmed_df,death_df,country_df]:\n",
    "#    print(i.columns)"
   ]
  },
  {
   "cell_type": "code",
   "execution_count": 9,
   "metadata": {},
   "outputs": [],
   "source": [
    "# no duplicate column found\n",
    "# outliers needed even if present as real time data\n",
    "# UID and ISO3 may be useful so not removing yet\n",
    "\n",
    "\n",
    "'''converting all column names to lower case for better ease in future'''\n",
    "def column_lower(df):\n",
    "    df.columns = [x.lower() for x in df.columns]\n",
    "#    print(df.columns)  \n",
    "column_lower(confirmed_df)\n",
    "column_lower(death_df)\n",
    "column_lower(recovered_df)\n",
    "column_lower(country_df)\n",
    "        \n",
    "    \n",
    "#cleaning complete\n"
   ]
  },
  {
   "cell_type": "markdown",
   "metadata": {},
   "source": [
    "## World Choropleth Map for Active cases"
   ]
  },
  {
   "cell_type": "code",
   "execution_count": 58,
   "metadata": {},
   "outputs": [
    {
     "data": {
      "application/vnd.plotly.v1+json": {
       "config": {
        "plotlyServerURL": "https://plot.ly"
       },
       "data": [
        {
         "autocolorscale": false,
         "colorbar": {
          "title": {
           "text": "No of ACTIVE cases"
          }
         },
         "colorscale": [
          [
           0,
           "rgb(247,251,255)"
          ],
          [
           0.125,
           "rgb(222,235,247)"
          ],
          [
           0.25,
           "rgb(198,219,239)"
          ],
          [
           0.375,
           "rgb(158,202,225)"
          ],
          [
           0.5,
           "rgb(107,174,214)"
          ],
          [
           0.625,
           "rgb(66,146,198)"
          ],
          [
           0.75,
           "rgb(33,113,181)"
          ],
          [
           0.875,
           "rgb(8,81,156)"
          ],
          [
           1,
           "rgb(8,48,107)"
          ]
         ],
         "locations": [
          "AUS",
          "AUT",
          "CAN",
          "CHN",
          "DNK",
          "FIN",
          "FRA",
          "DEU",
          "ISL",
          "IRL",
          "ITA",
          "NLD",
          "NOR",
          "RUS",
          "SWE",
          "CHE",
          "GBR",
          "USA",
          "ESP",
          "MEX",
          "CHL",
          "BRA",
          "PER",
          "COL",
          "JPN",
          "UKR",
          "IND",
          "PAK",
          "AFG",
          "ALB",
          "DZA",
          "AND",
          "AGO",
          "ATG",
          "ARG",
          "ARM",
          "AZE",
          "BHS",
          "BHR",
          "BGD",
          "BRB",
          "BLR",
          "BEL",
          "BLZ",
          "BEN",
          "BTN",
          "BOL",
          "BIH",
          "BWA",
          "BRN",
          "BGR",
          "BFA",
          "MMR",
          "BDI",
          "CPV",
          "KHM",
          "CMR",
          "CAF",
          "TCD",
          "COM",
          "COG",
          "COD",
          "CRI",
          "CIV",
          "HRV",
          "CUB",
          "CYP",
          "CZE",
          null,
          "DJI",
          "DMA",
          "DOM",
          "ECU",
          "EGY",
          "SLV",
          "GNQ",
          "ERI",
          "EST",
          "SWZ",
          "ETH",
          "FJI",
          "GAB",
          "GMB",
          "GEO",
          "GHA",
          "GRC",
          "GRD",
          "GTM",
          "GIN",
          "GNB",
          "GUY",
          "HTI",
          "VAT",
          "HND",
          "HUN",
          "IDN",
          "IRN",
          "IRQ",
          "ISR",
          "JAM",
          "JOR",
          "KAZ",
          "KEN",
          "KOR",
          "XKS",
          "KWT",
          "KGZ",
          "LAO",
          "LVA",
          "LBN",
          "LSO",
          "LBR",
          "LBY",
          "LIE",
          "LTU",
          "LUX",
          null,
          "MDG",
          "MWI",
          "MYS",
          "MDV",
          "MLI",
          "MLT",
          "MRT",
          "MUS",
          "MDA",
          "MCO",
          "MNG",
          "MNE",
          "MAR",
          "MOZ",
          "NAM",
          "NPL",
          "NZL",
          "NIC",
          "NER",
          "NGA",
          "MKD",
          "OMN",
          "PAN",
          "PNG",
          "PRY",
          "PHL",
          "POL",
          "PRT",
          "QAT",
          "ROU",
          "RWA",
          "KNA",
          "LCA",
          "VCT",
          "SMR",
          "STP",
          "SAU",
          "SEN",
          "SRB",
          "SYC",
          "SLE",
          "SGP",
          "SVK",
          "SVN",
          "SOM",
          "ZAF",
          "SSD",
          "LKA",
          "SDN",
          "SUR",
          "SYR",
          "TWN",
          "TJK",
          "TZA",
          "THA",
          "TLS",
          "TGO",
          "TTO",
          "TUN",
          "TUR",
          "UGA",
          "ARE",
          "URY",
          "UZB",
          "VEN",
          "VNM",
          "PSE",
          "ESH",
          "YEM",
          "ZMB",
          "ZWE"
         ],
         "marker": {
          "line": {
           "color": "black",
           "width": 0.5
          }
         },
         "reversescale": false,
         "text": [
          "Australia",
          "Austria",
          "Canada",
          "China",
          "Denmark",
          "Finland",
          "France",
          "Germany",
          "Iceland",
          "Ireland",
          "Italy",
          "Netherlands",
          "Norway",
          "Russia",
          "Sweden",
          "Switzerland",
          "United Kingdom",
          "US",
          "Spain",
          "Mexico",
          "Chile",
          "Brazil",
          "Peru",
          "Colombia",
          "Japan",
          "Ukraine",
          "India",
          "Pakistan",
          "Afghanistan",
          "Albania",
          "Algeria",
          "Andorra",
          "Angola",
          "Antigua and Barbuda",
          "Argentina",
          "Armenia",
          "Azerbaijan",
          "Bahamas",
          "Bahrain",
          "Bangladesh",
          "Barbados",
          "Belarus",
          "Belgium",
          "Belize",
          "Benin",
          "Bhutan",
          "Bolivia",
          "Bosnia and Herzegovina",
          "Botswana",
          "Brunei",
          "Bulgaria",
          "Burkina Faso",
          "Burma",
          "Burundi",
          "Cabo Verde",
          "Cambodia",
          "Cameroon",
          "Central African Republic",
          "Chad",
          "Comoros",
          "Congo (Brazzaville)",
          "Congo (Kinshasa)",
          "Costa Rica",
          "Cote d'Ivoire",
          "Croatia",
          "Cuba",
          "Cyprus",
          "Czechia",
          "Diamond Princess",
          "Djibouti",
          "Dominica",
          "Dominican Republic",
          "Ecuador",
          "Egypt",
          "El Salvador",
          "Equatorial Guinea",
          "Eritrea",
          "Estonia",
          "Eswatini",
          "Ethiopia",
          "Fiji",
          "Gabon",
          "Gambia",
          "Georgia",
          "Ghana",
          "Greece",
          "Grenada",
          "Guatemala",
          "Guinea",
          "Guinea-Bissau",
          "Guyana",
          "Haiti",
          "Holy See",
          "Honduras",
          "Hungary",
          "Indonesia",
          "Iran",
          "Iraq",
          "Israel",
          "Jamaica",
          "Jordan",
          "Kazakhstan",
          "Kenya",
          "Korea, South",
          "Kosovo",
          "Kuwait",
          "Kyrgyzstan",
          "Laos",
          "Latvia",
          "Lebanon",
          "Lesotho",
          "Liberia",
          "Libya",
          "Liechtenstein",
          "Lithuania",
          "Luxembourg",
          "MS Zaandam",
          "Madagascar",
          "Malawi",
          "Malaysia",
          "Maldives",
          "Mali",
          "Malta",
          "Mauritania",
          "Mauritius",
          "Moldova",
          "Monaco",
          "Mongolia",
          "Montenegro",
          "Morocco",
          "Mozambique",
          "Namibia",
          "Nepal",
          "New Zealand",
          "Nicaragua",
          "Niger",
          "Nigeria",
          "North Macedonia",
          "Oman",
          "Panama",
          "Papua New Guinea",
          "Paraguay",
          "Philippines",
          "Poland",
          "Portugal",
          "Qatar",
          "Romania",
          "Rwanda",
          "Saint Kitts and Nevis",
          "Saint Lucia",
          "Saint Vincent and the Grenadines",
          "San Marino",
          "Sao Tome and Principe",
          "Saudi Arabia",
          "Senegal",
          "Serbia",
          "Seychelles",
          "Sierra Leone",
          "Singapore",
          "Slovakia",
          "Slovenia",
          "Somalia",
          "South Africa",
          "South Sudan",
          "Sri Lanka",
          "Sudan",
          "Suriname",
          "Syria",
          "Taiwan*",
          "Tajikistan",
          "Tanzania",
          "Thailand",
          "Timor-Leste",
          "Togo",
          "Trinidad and Tobago",
          "Tunisia",
          "Turkey",
          "Uganda",
          "United Arab Emirates",
          "Uruguay",
          "Uzbekistan",
          "Venezuela",
          "Vietnam",
          "West Bank and Gaza",
          "Western Sahara",
          "Yemen",
          "Zambia",
          "Zimbabwe"
         ],
         "type": "choropleth",
         "uid": "bcb6dd80-438e-4b94-a2fd-8b67c502edbe",
         "z": [
          3160,
          1361,
          4395,
          652,
          353,
          110,
          102417,
          6065,
          11,
          614,
          12456,
          90647,
          632,
          206078,
          71662,
          1513,
          248083,
          2441845,
          81459,
          28786,
          21279,
          539957,
          98756,
          95215,
          4737,
          26358,
          359060,
          57886,
          10899,
          1585,
          5461,
          25,
          410,
          16,
          67343,
          10708,
          8490,
          27,
          4161,
          89387,
          6,
          7921,
          36410,
          16,
          789,
          9,
          36171,
          4051,
          473,
          0,
          4112,
          105,
          62,
          102,
          1018,
          38,
          2056,
          3048,
          12,
          10,
          1958,
          3818,
          7104,
          6002,
          1192,
          57,
          169,
          4659,
          48,
          138,
          0,
          24748,
          35790,
          54984,
          4442,
          2178,
          96,
          40,
          829,
          6223,
          8,
          2404,
          40,
          108,
          3513,
          2396,
          0,
          27377,
          1158,
          1128,
          145,
          3091,
          0,
          27323,
          497,
          37598,
          22327,
          28060,
          26323,
          80,
          178,
          28072,
          7857,
          898,
          2708,
          9436,
          9107,
          0,
          136,
          1175,
          236,
          520,
          1277,
          3,
          234,
          965,
          7,
          3305,
          1643,
          96,
          558,
          555,
          3,
          2406,
          2,
          5906,
          7,
          76,
          1618,
          2102,
          996,
          1044,
          5871,
          22,
          766,
          20,
          20049,
          3704,
          22424,
          23850,
          8,
          1948,
          41464,
          8204,
          13605,
          3148,
          12194,
          670,
          2,
          4,
          6,
          1,
          402,
          52283,
          2575,
          4858,
          81,
          404,
          4051,
          425,
          261,
          1569,
          154607,
          973,
          674,
          4258,
          324,
          327,
          4,
          1247,
          305,
          92,
          0,
          205,
          4,
          191,
          12507,
          33,
          7456,
          88,
          6813,
          7232,
          26,
          6217,
          1,
          441,
          1251,
          958
         ]
        }
       ],
       "layout": {
        "autosize": true,
        "geo": {
         "bgcolor": "lightgrey",
         "projection": {
          "type": "equirectangular"
         },
         "showcoastlines": false,
         "showframe": false
        },
        "height": 900,
        "template": {
         "data": {
          "bar": [
           {
            "error_x": {
             "color": "#2a3f5f"
            },
            "error_y": {
             "color": "#2a3f5f"
            },
            "marker": {
             "line": {
              "color": "#E5ECF6",
              "width": 0.5
             }
            },
            "type": "bar"
           }
          ],
          "barpolar": [
           {
            "marker": {
             "line": {
              "color": "#E5ECF6",
              "width": 0.5
             }
            },
            "type": "barpolar"
           }
          ],
          "carpet": [
           {
            "aaxis": {
             "endlinecolor": "#2a3f5f",
             "gridcolor": "white",
             "linecolor": "white",
             "minorgridcolor": "white",
             "startlinecolor": "#2a3f5f"
            },
            "baxis": {
             "endlinecolor": "#2a3f5f",
             "gridcolor": "white",
             "linecolor": "white",
             "minorgridcolor": "white",
             "startlinecolor": "#2a3f5f"
            },
            "type": "carpet"
           }
          ],
          "choropleth": [
           {
            "colorbar": {
             "outlinewidth": 0,
             "ticks": ""
            },
            "type": "choropleth"
           }
          ],
          "contour": [
           {
            "colorbar": {
             "outlinewidth": 0,
             "ticks": ""
            },
            "colorscale": [
             [
              0,
              "#0d0887"
             ],
             [
              0.1111111111111111,
              "#46039f"
             ],
             [
              0.2222222222222222,
              "#7201a8"
             ],
             [
              0.3333333333333333,
              "#9c179e"
             ],
             [
              0.4444444444444444,
              "#bd3786"
             ],
             [
              0.5555555555555556,
              "#d8576b"
             ],
             [
              0.6666666666666666,
              "#ed7953"
             ],
             [
              0.7777777777777778,
              "#fb9f3a"
             ],
             [
              0.8888888888888888,
              "#fdca26"
             ],
             [
              1,
              "#f0f921"
             ]
            ],
            "type": "contour"
           }
          ],
          "contourcarpet": [
           {
            "colorbar": {
             "outlinewidth": 0,
             "ticks": ""
            },
            "type": "contourcarpet"
           }
          ],
          "heatmap": [
           {
            "colorbar": {
             "outlinewidth": 0,
             "ticks": ""
            },
            "colorscale": [
             [
              0,
              "#0d0887"
             ],
             [
              0.1111111111111111,
              "#46039f"
             ],
             [
              0.2222222222222222,
              "#7201a8"
             ],
             [
              0.3333333333333333,
              "#9c179e"
             ],
             [
              0.4444444444444444,
              "#bd3786"
             ],
             [
              0.5555555555555556,
              "#d8576b"
             ],
             [
              0.6666666666666666,
              "#ed7953"
             ],
             [
              0.7777777777777778,
              "#fb9f3a"
             ],
             [
              0.8888888888888888,
              "#fdca26"
             ],
             [
              1,
              "#f0f921"
             ]
            ],
            "type": "heatmap"
           }
          ],
          "heatmapgl": [
           {
            "colorbar": {
             "outlinewidth": 0,
             "ticks": ""
            },
            "colorscale": [
             [
              0,
              "#0d0887"
             ],
             [
              0.1111111111111111,
              "#46039f"
             ],
             [
              0.2222222222222222,
              "#7201a8"
             ],
             [
              0.3333333333333333,
              "#9c179e"
             ],
             [
              0.4444444444444444,
              "#bd3786"
             ],
             [
              0.5555555555555556,
              "#d8576b"
             ],
             [
              0.6666666666666666,
              "#ed7953"
             ],
             [
              0.7777777777777778,
              "#fb9f3a"
             ],
             [
              0.8888888888888888,
              "#fdca26"
             ],
             [
              1,
              "#f0f921"
             ]
            ],
            "type": "heatmapgl"
           }
          ],
          "histogram": [
           {
            "marker": {
             "colorbar": {
              "outlinewidth": 0,
              "ticks": ""
             }
            },
            "type": "histogram"
           }
          ],
          "histogram2d": [
           {
            "colorbar": {
             "outlinewidth": 0,
             "ticks": ""
            },
            "colorscale": [
             [
              0,
              "#0d0887"
             ],
             [
              0.1111111111111111,
              "#46039f"
             ],
             [
              0.2222222222222222,
              "#7201a8"
             ],
             [
              0.3333333333333333,
              "#9c179e"
             ],
             [
              0.4444444444444444,
              "#bd3786"
             ],
             [
              0.5555555555555556,
              "#d8576b"
             ],
             [
              0.6666666666666666,
              "#ed7953"
             ],
             [
              0.7777777777777778,
              "#fb9f3a"
             ],
             [
              0.8888888888888888,
              "#fdca26"
             ],
             [
              1,
              "#f0f921"
             ]
            ],
            "type": "histogram2d"
           }
          ],
          "histogram2dcontour": [
           {
            "colorbar": {
             "outlinewidth": 0,
             "ticks": ""
            },
            "colorscale": [
             [
              0,
              "#0d0887"
             ],
             [
              0.1111111111111111,
              "#46039f"
             ],
             [
              0.2222222222222222,
              "#7201a8"
             ],
             [
              0.3333333333333333,
              "#9c179e"
             ],
             [
              0.4444444444444444,
              "#bd3786"
             ],
             [
              0.5555555555555556,
              "#d8576b"
             ],
             [
              0.6666666666666666,
              "#ed7953"
             ],
             [
              0.7777777777777778,
              "#fb9f3a"
             ],
             [
              0.8888888888888888,
              "#fdca26"
             ],
             [
              1,
              "#f0f921"
             ]
            ],
            "type": "histogram2dcontour"
           }
          ],
          "mesh3d": [
           {
            "colorbar": {
             "outlinewidth": 0,
             "ticks": ""
            },
            "type": "mesh3d"
           }
          ],
          "parcoords": [
           {
            "line": {
             "colorbar": {
              "outlinewidth": 0,
              "ticks": ""
             }
            },
            "type": "parcoords"
           }
          ],
          "pie": [
           {
            "automargin": true,
            "type": "pie"
           }
          ],
          "scatter": [
           {
            "marker": {
             "colorbar": {
              "outlinewidth": 0,
              "ticks": ""
             }
            },
            "type": "scatter"
           }
          ],
          "scatter3d": [
           {
            "line": {
             "colorbar": {
              "outlinewidth": 0,
              "ticks": ""
             }
            },
            "marker": {
             "colorbar": {
              "outlinewidth": 0,
              "ticks": ""
             }
            },
            "type": "scatter3d"
           }
          ],
          "scattercarpet": [
           {
            "marker": {
             "colorbar": {
              "outlinewidth": 0,
              "ticks": ""
             }
            },
            "type": "scattercarpet"
           }
          ],
          "scattergeo": [
           {
            "marker": {
             "colorbar": {
              "outlinewidth": 0,
              "ticks": ""
             }
            },
            "type": "scattergeo"
           }
          ],
          "scattergl": [
           {
            "marker": {
             "colorbar": {
              "outlinewidth": 0,
              "ticks": ""
             }
            },
            "type": "scattergl"
           }
          ],
          "scattermapbox": [
           {
            "marker": {
             "colorbar": {
              "outlinewidth": 0,
              "ticks": ""
             }
            },
            "type": "scattermapbox"
           }
          ],
          "scatterpolar": [
           {
            "marker": {
             "colorbar": {
              "outlinewidth": 0,
              "ticks": ""
             }
            },
            "type": "scatterpolar"
           }
          ],
          "scatterpolargl": [
           {
            "marker": {
             "colorbar": {
              "outlinewidth": 0,
              "ticks": ""
             }
            },
            "type": "scatterpolargl"
           }
          ],
          "scatterternary": [
           {
            "marker": {
             "colorbar": {
              "outlinewidth": 0,
              "ticks": ""
             }
            },
            "type": "scatterternary"
           }
          ],
          "surface": [
           {
            "colorbar": {
             "outlinewidth": 0,
             "ticks": ""
            },
            "colorscale": [
             [
              0,
              "#0d0887"
             ],
             [
              0.1111111111111111,
              "#46039f"
             ],
             [
              0.2222222222222222,
              "#7201a8"
             ],
             [
              0.3333333333333333,
              "#9c179e"
             ],
             [
              0.4444444444444444,
              "#bd3786"
             ],
             [
              0.5555555555555556,
              "#d8576b"
             ],
             [
              0.6666666666666666,
              "#ed7953"
             ],
             [
              0.7777777777777778,
              "#fb9f3a"
             ],
             [
              0.8888888888888888,
              "#fdca26"
             ],
             [
              1,
              "#f0f921"
             ]
            ],
            "type": "surface"
           }
          ],
          "table": [
           {
            "cells": {
             "fill": {
              "color": "#EBF0F8"
             },
             "line": {
              "color": "white"
             }
            },
            "header": {
             "fill": {
              "color": "#C8D4E3"
             },
             "line": {
              "color": "white"
             }
            },
            "type": "table"
           }
          ]
         },
         "layout": {
          "annotationdefaults": {
           "arrowcolor": "#2a3f5f",
           "arrowhead": 0,
           "arrowwidth": 1
          },
          "coloraxis": {
           "colorbar": {
            "outlinewidth": 0,
            "ticks": ""
           }
          },
          "colorscale": {
           "diverging": [
            [
             0,
             "#8e0152"
            ],
            [
             0.1,
             "#c51b7d"
            ],
            [
             0.2,
             "#de77ae"
            ],
            [
             0.3,
             "#f1b6da"
            ],
            [
             0.4,
             "#fde0ef"
            ],
            [
             0.5,
             "#f7f7f7"
            ],
            [
             0.6,
             "#e6f5d0"
            ],
            [
             0.7,
             "#b8e186"
            ],
            [
             0.8,
             "#7fbc41"
            ],
            [
             0.9,
             "#4d9221"
            ],
            [
             1,
             "#276419"
            ]
           ],
           "sequential": [
            [
             0,
             "#0d0887"
            ],
            [
             0.1111111111111111,
             "#46039f"
            ],
            [
             0.2222222222222222,
             "#7201a8"
            ],
            [
             0.3333333333333333,
             "#9c179e"
            ],
            [
             0.4444444444444444,
             "#bd3786"
            ],
            [
             0.5555555555555556,
             "#d8576b"
            ],
            [
             0.6666666666666666,
             "#ed7953"
            ],
            [
             0.7777777777777778,
             "#fb9f3a"
            ],
            [
             0.8888888888888888,
             "#fdca26"
            ],
            [
             1,
             "#f0f921"
            ]
           ],
           "sequentialminus": [
            [
             0,
             "#0d0887"
            ],
            [
             0.1111111111111111,
             "#46039f"
            ],
            [
             0.2222222222222222,
             "#7201a8"
            ],
            [
             0.3333333333333333,
             "#9c179e"
            ],
            [
             0.4444444444444444,
             "#bd3786"
            ],
            [
             0.5555555555555556,
             "#d8576b"
            ],
            [
             0.6666666666666666,
             "#ed7953"
            ],
            [
             0.7777777777777778,
             "#fb9f3a"
            ],
            [
             0.8888888888888888,
             "#fdca26"
            ],
            [
             1,
             "#f0f921"
            ]
           ]
          },
          "colorway": [
           "#636efa",
           "#EF553B",
           "#00cc96",
           "#ab63fa",
           "#FFA15A",
           "#19d3f3",
           "#FF6692",
           "#B6E880",
           "#FF97FF",
           "#FECB52"
          ],
          "font": {
           "color": "#2a3f5f"
          },
          "geo": {
           "bgcolor": "white",
           "lakecolor": "white",
           "landcolor": "#E5ECF6",
           "showlakes": true,
           "showland": true,
           "subunitcolor": "white"
          },
          "hoverlabel": {
           "align": "left"
          },
          "hovermode": "closest",
          "mapbox": {
           "style": "light"
          },
          "paper_bgcolor": "white",
          "plot_bgcolor": "#E5ECF6",
          "polar": {
           "angularaxis": {
            "gridcolor": "white",
            "linecolor": "white",
            "ticks": ""
           },
           "bgcolor": "#E5ECF6",
           "radialaxis": {
            "gridcolor": "white",
            "linecolor": "white",
            "ticks": ""
           }
          },
          "scene": {
           "xaxis": {
            "backgroundcolor": "#E5ECF6",
            "gridcolor": "white",
            "gridwidth": 2,
            "linecolor": "white",
            "showbackground": true,
            "ticks": "",
            "zerolinecolor": "white"
           },
           "yaxis": {
            "backgroundcolor": "#E5ECF6",
            "gridcolor": "white",
            "gridwidth": 2,
            "linecolor": "white",
            "showbackground": true,
            "ticks": "",
            "zerolinecolor": "white"
           },
           "zaxis": {
            "backgroundcolor": "#E5ECF6",
            "gridcolor": "white",
            "gridwidth": 2,
            "linecolor": "white",
            "showbackground": true,
            "ticks": "",
            "zerolinecolor": "white"
           }
          },
          "shapedefaults": {
           "line": {
            "color": "#2a3f5f"
           }
          },
          "ternary": {
           "aaxis": {
            "gridcolor": "white",
            "linecolor": "white",
            "ticks": ""
           },
           "baxis": {
            "gridcolor": "white",
            "linecolor": "white",
            "ticks": ""
           },
           "bgcolor": "#E5ECF6",
           "caxis": {
            "gridcolor": "white",
            "linecolor": "white",
            "ticks": ""
           }
          },
          "title": {
           "x": 0.05
          },
          "xaxis": {
           "automargin": true,
           "gridcolor": "white",
           "linecolor": "white",
           "ticks": "",
           "title": {
            "standoff": 15
           },
           "zerolinecolor": "white",
           "zerolinewidth": 2
          },
          "yaxis": {
           "automargin": true,
           "gridcolor": "white",
           "linecolor": "white",
           "ticks": "",
           "title": {
            "standoff": 15
           },
           "zerolinecolor": "white",
           "zerolinewidth": 2
          }
         }
        },
        "title": {
         "text": "Active Case Count",
         "x": 0.5
        },
        "width": 1000
       }
      },
      "text/html": [
       "<div>\n",
       "        \n",
       "        \n",
       "            <div id=\"50d85092-aedc-41c9-8d42-ce42f991ad4b\" class=\"plotly-graph-div\" style=\"height:900px; width:1000px;\"></div>\n",
       "            <script type=\"text/javascript\">\n",
       "                require([\"plotly\"], function(Plotly) {\n",
       "                    window.PLOTLYENV=window.PLOTLYENV || {};\n",
       "                    \n",
       "                if (document.getElementById(\"50d85092-aedc-41c9-8d42-ce42f991ad4b\")) {\n",
       "                    Plotly.newPlot(\n",
       "                        '50d85092-aedc-41c9-8d42-ce42f991ad4b',\n",
       "                        [{\"autocolorscale\": false, \"colorbar\": {\"title\": {\"text\": \"No of ACTIVE cases\"}}, \"colorscale\": [[0.0, \"rgb(247,251,255)\"], [0.125, \"rgb(222,235,247)\"], [0.25, \"rgb(198,219,239)\"], [0.375, \"rgb(158,202,225)\"], [0.5, \"rgb(107,174,214)\"], [0.625, \"rgb(66,146,198)\"], [0.75, \"rgb(33,113,181)\"], [0.875, \"rgb(8,81,156)\"], [1.0, \"rgb(8,48,107)\"]], \"locations\": [\"AUS\", \"AUT\", \"CAN\", \"CHN\", \"DNK\", \"FIN\", \"FRA\", \"DEU\", \"ISL\", \"IRL\", \"ITA\", \"NLD\", \"NOR\", \"RUS\", \"SWE\", \"CHE\", \"GBR\", \"USA\", \"ESP\", \"MEX\", \"CHL\", \"BRA\", \"PER\", \"COL\", \"JPN\", \"UKR\", \"IND\", \"PAK\", \"AFG\", \"ALB\", \"DZA\", \"AND\", \"AGO\", \"ATG\", \"ARG\", \"ARM\", \"AZE\", \"BHS\", \"BHR\", \"BGD\", \"BRB\", \"BLR\", \"BEL\", \"BLZ\", \"BEN\", \"BTN\", \"BOL\", \"BIH\", \"BWA\", \"BRN\", \"BGR\", \"BFA\", \"MMR\", \"BDI\", \"CPV\", \"KHM\", \"CMR\", \"CAF\", \"TCD\", \"COM\", \"COG\", \"COD\", \"CRI\", \"CIV\", \"HRV\", \"CUB\", \"CYP\", \"CZE\", null, \"DJI\", \"DMA\", \"DOM\", \"ECU\", \"EGY\", \"SLV\", \"GNQ\", \"ERI\", \"EST\", \"SWZ\", \"ETH\", \"FJI\", \"GAB\", \"GMB\", \"GEO\", \"GHA\", \"GRC\", \"GRD\", \"GTM\", \"GIN\", \"GNB\", \"GUY\", \"HTI\", \"VAT\", \"HND\", \"HUN\", \"IDN\", \"IRN\", \"IRQ\", \"ISR\", \"JAM\", \"JOR\", \"KAZ\", \"KEN\", \"KOR\", \"XKS\", \"KWT\", \"KGZ\", \"LAO\", \"LVA\", \"LBN\", \"LSO\", \"LBR\", \"LBY\", \"LIE\", \"LTU\", \"LUX\", null, \"MDG\", \"MWI\", \"MYS\", \"MDV\", \"MLI\", \"MLT\", \"MRT\", \"MUS\", \"MDA\", \"MCO\", \"MNG\", \"MNE\", \"MAR\", \"MOZ\", \"NAM\", \"NPL\", \"NZL\", \"NIC\", \"NER\", \"NGA\", \"MKD\", \"OMN\", \"PAN\", \"PNG\", \"PRY\", \"PHL\", \"POL\", \"PRT\", \"QAT\", \"ROU\", \"RWA\", \"KNA\", \"LCA\", \"VCT\", \"SMR\", \"STP\", \"SAU\", \"SEN\", \"SRB\", \"SYC\", \"SLE\", \"SGP\", \"SVK\", \"SVN\", \"SOM\", \"ZAF\", \"SSD\", \"LKA\", \"SDN\", \"SUR\", \"SYR\", \"TWN\", \"TJK\", \"TZA\", \"THA\", \"TLS\", \"TGO\", \"TTO\", \"TUN\", \"TUR\", \"UGA\", \"ARE\", \"URY\", \"UZB\", \"VEN\", \"VNM\", \"PSE\", \"ESH\", \"YEM\", \"ZMB\", \"ZWE\"], \"marker\": {\"line\": {\"color\": \"black\", \"width\": 0.5}}, \"reversescale\": false, \"text\": [\"Australia\", \"Austria\", \"Canada\", \"China\", \"Denmark\", \"Finland\", \"France\", \"Germany\", \"Iceland\", \"Ireland\", \"Italy\", \"Netherlands\", \"Norway\", \"Russia\", \"Sweden\", \"Switzerland\", \"United Kingdom\", \"US\", \"Spain\", \"Mexico\", \"Chile\", \"Brazil\", \"Peru\", \"Colombia\", \"Japan\", \"Ukraine\", \"India\", \"Pakistan\", \"Afghanistan\", \"Albania\", \"Algeria\", \"Andorra\", \"Angola\", \"Antigua and Barbuda\", \"Argentina\", \"Armenia\", \"Azerbaijan\", \"Bahamas\", \"Bahrain\", \"Bangladesh\", \"Barbados\", \"Belarus\", \"Belgium\", \"Belize\", \"Benin\", \"Bhutan\", \"Bolivia\", \"Bosnia and Herzegovina\", \"Botswana\", \"Brunei\", \"Bulgaria\", \"Burkina Faso\", \"Burma\", \"Burundi\", \"Cabo Verde\", \"Cambodia\", \"Cameroon\", \"Central African Republic\", \"Chad\", \"Comoros\", \"Congo (Brazzaville)\", \"Congo (Kinshasa)\", \"Costa Rica\", \"Cote d'Ivoire\", \"Croatia\", \"Cuba\", \"Cyprus\", \"Czechia\", \"Diamond Princess\", \"Djibouti\", \"Dominica\", \"Dominican Republic\", \"Ecuador\", \"Egypt\", \"El Salvador\", \"Equatorial Guinea\", \"Eritrea\", \"Estonia\", \"Eswatini\", \"Ethiopia\", \"Fiji\", \"Gabon\", \"Gambia\", \"Georgia\", \"Ghana\", \"Greece\", \"Grenada\", \"Guatemala\", \"Guinea\", \"Guinea-Bissau\", \"Guyana\", \"Haiti\", \"Holy See\", \"Honduras\", \"Hungary\", \"Indonesia\", \"Iran\", \"Iraq\", \"Israel\", \"Jamaica\", \"Jordan\", \"Kazakhstan\", \"Kenya\", \"Korea, South\", \"Kosovo\", \"Kuwait\", \"Kyrgyzstan\", \"Laos\", \"Latvia\", \"Lebanon\", \"Lesotho\", \"Liberia\", \"Libya\", \"Liechtenstein\", \"Lithuania\", \"Luxembourg\", \"MS Zaandam\", \"Madagascar\", \"Malawi\", \"Malaysia\", \"Maldives\", \"Mali\", \"Malta\", \"Mauritania\", \"Mauritius\", \"Moldova\", \"Monaco\", \"Mongolia\", \"Montenegro\", \"Morocco\", \"Mozambique\", \"Namibia\", \"Nepal\", \"New Zealand\", \"Nicaragua\", \"Niger\", \"Nigeria\", \"North Macedonia\", \"Oman\", \"Panama\", \"Papua New Guinea\", \"Paraguay\", \"Philippines\", \"Poland\", \"Portugal\", \"Qatar\", \"Romania\", \"Rwanda\", \"Saint Kitts and Nevis\", \"Saint Lucia\", \"Saint Vincent and the Grenadines\", \"San Marino\", \"Sao Tome and Principe\", \"Saudi Arabia\", \"Senegal\", \"Serbia\", \"Seychelles\", \"Sierra Leone\", \"Singapore\", \"Slovakia\", \"Slovenia\", \"Somalia\", \"South Africa\", \"South Sudan\", \"Sri Lanka\", \"Sudan\", \"Suriname\", \"Syria\", \"Taiwan*\", \"Tajikistan\", \"Tanzania\", \"Thailand\", \"Timor-Leste\", \"Togo\", \"Trinidad and Tobago\", \"Tunisia\", \"Turkey\", \"Uganda\", \"United Arab Emirates\", \"Uruguay\", \"Uzbekistan\", \"Venezuela\", \"Vietnam\", \"West Bank and Gaza\", \"Western Sahara\", \"Yemen\", \"Zambia\", \"Zimbabwe\"], \"type\": \"choropleth\", \"uid\": \"bcb6dd80-438e-4b94-a2fd-8b67c502edbe\", \"z\": [3160.0, 1361.0, 4395.0, 652.0, 353.0, 110.0, 102417.0, 6065.0, 11.0, 614.0, 12456.0, 90647.0, 632.0, 206078.0, 71662.0, 1513.0, 248083.0, 2441845.0, 81459.0, 28786.0, 21279.0, 539957.0, 98756.0, 95215.0, 4737.0, 26358.0, 359060.0, 57886.0, 10899.0, 1585.0, 5461.0, 25.0, 410.0, 16.0, 67343.0, 10708.0, 8490.0, 27.0, 4161.0, 89387.0, 6.0, 7921.0, 36410.0, 16.0, 789.0, 9.0, 36171.0, 4051.0, 473.0, 0.0, 4112.0, 105.0, 62.0, 102.0, 1018.0, 38.0, 2056.0, 3048.0, 12.0, 10.0, 1958.0, 3818.0, 7104.0, 6002.0, 1192.0, 57.0, 169.0, 4659.0, 48.0, 138.0, 0.0, 24748.0, 35790.0, 54984.0, 4442.0, 2178.0, 96.0, 40.0, 829.0, 6223.0, 8.0, 2404.0, 40.0, 108.0, 3513.0, 2396.0, 0.0, 27377.0, 1158.0, 1128.0, 145.0, 3091.0, 0.0, 27323.0, 497.0, 37598.0, 22327.0, 28060.0, 26323.0, 80.0, 178.0, 28072.0, 7857.0, 898.0, 2708.0, 9436.0, 9107.0, 0.0, 136.0, 1175.0, 236.0, 520.0, 1277.0, 3.0, 234.0, 965.0, 7.0, 3305.0, 1643.0, 96.0, 558.0, 555.0, 3.0, 2406.0, 2.0, 5906.0, 7.0, 76.0, 1618.0, 2102.0, 996.0, 1044.0, 5871.0, 22.0, 766.0, 20.0, 20049.0, 3704.0, 22424.0, 23850.0, 8.0, 1948.0, 41464.0, 8204.0, 13605.0, 3148.0, 12194.0, 670.0, 2.0, 4.0, 6.0, 1.0, 402.0, 52283.0, 2575.0, 4858.0, 81.0, 404.0, 4051.0, 425.0, 261.0, 1569.0, 154607.0, 973.0, 674.0, 4258.0, 324.0, 327.0, 4.0, 1247.0, 305.0, 92.0, 0.0, 205.0, 4.0, 191.0, 12507.0, 33.0, 7456.0, 88.0, 6813.0, 7232.0, 26.0, 6217.0, 1.0, 441.0, 1251.0, 958.0]}],\n",
       "                        {\"autosize\": true, \"geo\": {\"bgcolor\": \"lightgrey\", \"projection\": {\"type\": \"equirectangular\"}, \"showcoastlines\": false, \"showframe\": false}, \"height\": 900, \"template\": {\"data\": {\"bar\": [{\"error_x\": {\"color\": \"#2a3f5f\"}, \"error_y\": {\"color\": \"#2a3f5f\"}, \"marker\": {\"line\": {\"color\": \"#E5ECF6\", \"width\": 0.5}}, \"type\": \"bar\"}], \"barpolar\": [{\"marker\": {\"line\": {\"color\": \"#E5ECF6\", \"width\": 0.5}}, \"type\": \"barpolar\"}], \"carpet\": [{\"aaxis\": {\"endlinecolor\": \"#2a3f5f\", \"gridcolor\": \"white\", \"linecolor\": \"white\", \"minorgridcolor\": \"white\", \"startlinecolor\": \"#2a3f5f\"}, \"baxis\": {\"endlinecolor\": \"#2a3f5f\", \"gridcolor\": \"white\", \"linecolor\": \"white\", \"minorgridcolor\": \"white\", \"startlinecolor\": \"#2a3f5f\"}, \"type\": \"carpet\"}], \"choropleth\": [{\"colorbar\": {\"outlinewidth\": 0, \"ticks\": \"\"}, \"type\": \"choropleth\"}], \"contour\": [{\"colorbar\": {\"outlinewidth\": 0, \"ticks\": \"\"}, \"colorscale\": [[0.0, \"#0d0887\"], [0.1111111111111111, \"#46039f\"], [0.2222222222222222, \"#7201a8\"], [0.3333333333333333, \"#9c179e\"], [0.4444444444444444, \"#bd3786\"], [0.5555555555555556, \"#d8576b\"], [0.6666666666666666, \"#ed7953\"], [0.7777777777777778, \"#fb9f3a\"], [0.8888888888888888, \"#fdca26\"], [1.0, \"#f0f921\"]], \"type\": \"contour\"}], \"contourcarpet\": [{\"colorbar\": {\"outlinewidth\": 0, \"ticks\": \"\"}, \"type\": \"contourcarpet\"}], \"heatmap\": [{\"colorbar\": {\"outlinewidth\": 0, \"ticks\": \"\"}, \"colorscale\": [[0.0, \"#0d0887\"], [0.1111111111111111, \"#46039f\"], [0.2222222222222222, \"#7201a8\"], [0.3333333333333333, \"#9c179e\"], [0.4444444444444444, \"#bd3786\"], [0.5555555555555556, \"#d8576b\"], [0.6666666666666666, \"#ed7953\"], [0.7777777777777778, \"#fb9f3a\"], [0.8888888888888888, \"#fdca26\"], [1.0, \"#f0f921\"]], \"type\": \"heatmap\"}], \"heatmapgl\": [{\"colorbar\": {\"outlinewidth\": 0, \"ticks\": \"\"}, \"colorscale\": [[0.0, \"#0d0887\"], [0.1111111111111111, \"#46039f\"], [0.2222222222222222, \"#7201a8\"], [0.3333333333333333, \"#9c179e\"], [0.4444444444444444, \"#bd3786\"], [0.5555555555555556, \"#d8576b\"], [0.6666666666666666, \"#ed7953\"], [0.7777777777777778, \"#fb9f3a\"], [0.8888888888888888, \"#fdca26\"], [1.0, \"#f0f921\"]], \"type\": \"heatmapgl\"}], \"histogram\": [{\"marker\": {\"colorbar\": {\"outlinewidth\": 0, \"ticks\": \"\"}}, \"type\": \"histogram\"}], \"histogram2d\": [{\"colorbar\": {\"outlinewidth\": 0, \"ticks\": \"\"}, \"colorscale\": [[0.0, \"#0d0887\"], [0.1111111111111111, \"#46039f\"], [0.2222222222222222, \"#7201a8\"], [0.3333333333333333, \"#9c179e\"], [0.4444444444444444, \"#bd3786\"], [0.5555555555555556, \"#d8576b\"], [0.6666666666666666, \"#ed7953\"], [0.7777777777777778, \"#fb9f3a\"], [0.8888888888888888, \"#fdca26\"], [1.0, \"#f0f921\"]], \"type\": \"histogram2d\"}], \"histogram2dcontour\": [{\"colorbar\": {\"outlinewidth\": 0, \"ticks\": \"\"}, \"colorscale\": [[0.0, \"#0d0887\"], [0.1111111111111111, \"#46039f\"], [0.2222222222222222, \"#7201a8\"], [0.3333333333333333, \"#9c179e\"], [0.4444444444444444, \"#bd3786\"], [0.5555555555555556, \"#d8576b\"], [0.6666666666666666, \"#ed7953\"], [0.7777777777777778, \"#fb9f3a\"], [0.8888888888888888, \"#fdca26\"], [1.0, \"#f0f921\"]], \"type\": \"histogram2dcontour\"}], \"mesh3d\": [{\"colorbar\": {\"outlinewidth\": 0, \"ticks\": \"\"}, \"type\": \"mesh3d\"}], \"parcoords\": [{\"line\": {\"colorbar\": {\"outlinewidth\": 0, \"ticks\": \"\"}}, \"type\": \"parcoords\"}], \"pie\": [{\"automargin\": true, \"type\": \"pie\"}], \"scatter\": [{\"marker\": {\"colorbar\": {\"outlinewidth\": 0, \"ticks\": \"\"}}, \"type\": \"scatter\"}], \"scatter3d\": [{\"line\": {\"colorbar\": {\"outlinewidth\": 0, \"ticks\": \"\"}}, \"marker\": {\"colorbar\": {\"outlinewidth\": 0, \"ticks\": \"\"}}, \"type\": \"scatter3d\"}], \"scattercarpet\": [{\"marker\": {\"colorbar\": {\"outlinewidth\": 0, \"ticks\": \"\"}}, \"type\": \"scattercarpet\"}], \"scattergeo\": [{\"marker\": {\"colorbar\": {\"outlinewidth\": 0, \"ticks\": \"\"}}, \"type\": \"scattergeo\"}], \"scattergl\": [{\"marker\": {\"colorbar\": {\"outlinewidth\": 0, \"ticks\": \"\"}}, \"type\": \"scattergl\"}], \"scattermapbox\": [{\"marker\": {\"colorbar\": {\"outlinewidth\": 0, \"ticks\": \"\"}}, \"type\": \"scattermapbox\"}], \"scatterpolar\": [{\"marker\": {\"colorbar\": {\"outlinewidth\": 0, \"ticks\": \"\"}}, \"type\": \"scatterpolar\"}], \"scatterpolargl\": [{\"marker\": {\"colorbar\": {\"outlinewidth\": 0, \"ticks\": \"\"}}, \"type\": \"scatterpolargl\"}], \"scatterternary\": [{\"marker\": {\"colorbar\": {\"outlinewidth\": 0, \"ticks\": \"\"}}, \"type\": \"scatterternary\"}], \"surface\": [{\"colorbar\": {\"outlinewidth\": 0, \"ticks\": \"\"}, \"colorscale\": [[0.0, \"#0d0887\"], [0.1111111111111111, \"#46039f\"], [0.2222222222222222, \"#7201a8\"], [0.3333333333333333, \"#9c179e\"], [0.4444444444444444, \"#bd3786\"], [0.5555555555555556, \"#d8576b\"], [0.6666666666666666, \"#ed7953\"], [0.7777777777777778, \"#fb9f3a\"], [0.8888888888888888, \"#fdca26\"], [1.0, \"#f0f921\"]], \"type\": \"surface\"}], \"table\": [{\"cells\": {\"fill\": {\"color\": \"#EBF0F8\"}, \"line\": {\"color\": \"white\"}}, \"header\": {\"fill\": {\"color\": \"#C8D4E3\"}, \"line\": {\"color\": \"white\"}}, \"type\": \"table\"}]}, \"layout\": {\"annotationdefaults\": {\"arrowcolor\": \"#2a3f5f\", \"arrowhead\": 0, \"arrowwidth\": 1}, \"coloraxis\": {\"colorbar\": {\"outlinewidth\": 0, \"ticks\": \"\"}}, \"colorscale\": {\"diverging\": [[0, \"#8e0152\"], [0.1, \"#c51b7d\"], [0.2, \"#de77ae\"], [0.3, \"#f1b6da\"], [0.4, \"#fde0ef\"], [0.5, \"#f7f7f7\"], [0.6, \"#e6f5d0\"], [0.7, \"#b8e186\"], [0.8, \"#7fbc41\"], [0.9, \"#4d9221\"], [1, \"#276419\"]], \"sequential\": [[0.0, \"#0d0887\"], [0.1111111111111111, \"#46039f\"], [0.2222222222222222, \"#7201a8\"], [0.3333333333333333, \"#9c179e\"], [0.4444444444444444, \"#bd3786\"], [0.5555555555555556, \"#d8576b\"], [0.6666666666666666, \"#ed7953\"], [0.7777777777777778, \"#fb9f3a\"], [0.8888888888888888, \"#fdca26\"], [1.0, \"#f0f921\"]], \"sequentialminus\": [[0.0, \"#0d0887\"], [0.1111111111111111, \"#46039f\"], [0.2222222222222222, \"#7201a8\"], [0.3333333333333333, \"#9c179e\"], [0.4444444444444444, \"#bd3786\"], [0.5555555555555556, \"#d8576b\"], [0.6666666666666666, \"#ed7953\"], [0.7777777777777778, \"#fb9f3a\"], [0.8888888888888888, \"#fdca26\"], [1.0, \"#f0f921\"]]}, \"colorway\": [\"#636efa\", \"#EF553B\", \"#00cc96\", \"#ab63fa\", \"#FFA15A\", \"#19d3f3\", \"#FF6692\", \"#B6E880\", \"#FF97FF\", \"#FECB52\"], \"font\": {\"color\": \"#2a3f5f\"}, \"geo\": {\"bgcolor\": \"white\", \"lakecolor\": \"white\", \"landcolor\": \"#E5ECF6\", \"showlakes\": true, \"showland\": true, \"subunitcolor\": \"white\"}, \"hoverlabel\": {\"align\": \"left\"}, \"hovermode\": \"closest\", \"mapbox\": {\"style\": \"light\"}, \"paper_bgcolor\": \"white\", \"plot_bgcolor\": \"#E5ECF6\", \"polar\": {\"angularaxis\": {\"gridcolor\": \"white\", \"linecolor\": \"white\", \"ticks\": \"\"}, \"bgcolor\": \"#E5ECF6\", \"radialaxis\": {\"gridcolor\": \"white\", \"linecolor\": \"white\", \"ticks\": \"\"}}, \"scene\": {\"xaxis\": {\"backgroundcolor\": \"#E5ECF6\", \"gridcolor\": \"white\", \"gridwidth\": 2, \"linecolor\": \"white\", \"showbackground\": true, \"ticks\": \"\", \"zerolinecolor\": \"white\"}, \"yaxis\": {\"backgroundcolor\": \"#E5ECF6\", \"gridcolor\": \"white\", \"gridwidth\": 2, \"linecolor\": \"white\", \"showbackground\": true, \"ticks\": \"\", \"zerolinecolor\": \"white\"}, \"zaxis\": {\"backgroundcolor\": \"#E5ECF6\", \"gridcolor\": \"white\", \"gridwidth\": 2, \"linecolor\": \"white\", \"showbackground\": true, \"ticks\": \"\", \"zerolinecolor\": \"white\"}}, \"shapedefaults\": {\"line\": {\"color\": \"#2a3f5f\"}}, \"ternary\": {\"aaxis\": {\"gridcolor\": \"white\", \"linecolor\": \"white\", \"ticks\": \"\"}, \"baxis\": {\"gridcolor\": \"white\", \"linecolor\": \"white\", \"ticks\": \"\"}, \"bgcolor\": \"#E5ECF6\", \"caxis\": {\"gridcolor\": \"white\", \"linecolor\": \"white\", \"ticks\": \"\"}}, \"title\": {\"x\": 0.05}, \"xaxis\": {\"automargin\": true, \"gridcolor\": \"white\", \"linecolor\": \"white\", \"ticks\": \"\", \"title\": {\"standoff\": 15}, \"zerolinecolor\": \"white\", \"zerolinewidth\": 2}, \"yaxis\": {\"automargin\": true, \"gridcolor\": \"white\", \"linecolor\": \"white\", \"ticks\": \"\", \"title\": {\"standoff\": 15}, \"zerolinecolor\": \"white\", \"zerolinewidth\": 2}}}, \"title\": {\"text\": \"Active Case Count\", \"x\": 0.5}, \"width\": 1000},\n",
       "                        {\"responsive\": true}\n",
       "                    ).then(function(){\n",
       "                            \n",
       "var gd = document.getElementById('50d85092-aedc-41c9-8d42-ce42f991ad4b');\n",
       "var x = new MutationObserver(function (mutations, observer) {{\n",
       "        var display = window.getComputedStyle(gd).display;\n",
       "        if (!display || display === 'none') {{\n",
       "            console.log([gd, 'removed!']);\n",
       "            Plotly.purge(gd);\n",
       "            observer.disconnect();\n",
       "        }}\n",
       "}});\n",
       "\n",
       "// Listen for the removal of the full notebook cells\n",
       "var notebookContainer = gd.closest('#notebook-container');\n",
       "if (notebookContainer) {{\n",
       "    x.observe(notebookContainer, {childList: true});\n",
       "}}\n",
       "\n",
       "// Listen for the clearing of the current output cell\n",
       "var outputEl = gd.closest('.output');\n",
       "if (outputEl) {{\n",
       "    x.observe(outputEl, {childList: true});\n",
       "}}\n",
       "\n",
       "                        })\n",
       "                };\n",
       "                });\n",
       "            </script>\n",
       "        </div>"
      ]
     },
     "metadata": {},
     "output_type": "display_data"
    }
   ],
   "source": [
    "#Data visualisation \n",
    "\n",
    "#'''World map for active cases (country wise map downloaded from official chloropleth configuration)'''\n",
    "import plotly as py\n",
    "import plotly.graph_objects as go\n",
    "\n",
    "\n",
    "def plot_static(factor,title_bar,col,value):\n",
    "    fig = go.Figure(data=go.Choropleth(\n",
    "        locations = country_df['iso3'],\n",
    "        z = country_df[factor],\n",
    "        text = country_df['country'],\n",
    "        colorscale = col,\n",
    "        autocolorscale=False,\n",
    "        reversescale=False,\n",
    "        marker_line_color='black',\n",
    "        marker_line_width=0.5,\n",
    "        colorbar_title =title_bar,\n",
    "        \n",
    "    ))\n",
    "    fig.update_layout(\n",
    "        title_text = '{val} Case Count'.format(val = value ),\n",
    "        title_x = 0.5,\n",
    "        autosize=True,\n",
    "        width=1000, height=900,\n",
    "        geo=dict(\n",
    "            showframe = False,\n",
    "            showcoastlines = False,\n",
    "            bgcolor='lightgrey',\n",
    "            projection_type = 'equirectangular'\n",
    "        ))\n",
    "    fig = go.FigureWidget(fig)\n",
    "\n",
    "    fig.show()\n",
    "    \n",
    "plot_static('active','No of ACTIVE cases','blues', value='Active')\n"
   ]
  },
  {
   "cell_type": "markdown",
   "metadata": {},
   "source": [
    "## World Choropleth Map for Recovered cases"
   ]
  },
  {
   "cell_type": "code",
   "execution_count": 59,
   "metadata": {},
   "outputs": [
    {
     "data": {
      "application/vnd.plotly.v1+json": {
       "config": {
        "plotlyServerURL": "https://plot.ly"
       },
       "data": [
        {
         "autocolorscale": false,
         "colorbar": {
          "title": {
           "text": "No of Recovered cases"
          }
         },
         "colorscale": [
          [
           0,
           "rgb(247,252,245)"
          ],
          [
           0.125,
           "rgb(229,245,224)"
          ],
          [
           0.25,
           "rgb(199,233,192)"
          ],
          [
           0.375,
           "rgb(161,217,155)"
          ],
          [
           0.5,
           "rgb(116,196,118)"
          ],
          [
           0.625,
           "rgb(65,171,93)"
          ],
          [
           0.75,
           "rgb(35,139,69)"
          ],
          [
           0.875,
           "rgb(0,109,44)"
          ],
          [
           1,
           "rgb(0,68,27)"
          ]
         ],
         "locations": [
          "AUS",
          "AUT",
          "CAN",
          "CHN",
          "DNK",
          "FIN",
          "FRA",
          "DEU",
          "ISL",
          "IRL",
          "ITA",
          "NLD",
          "NOR",
          "RUS",
          "SWE",
          "CHE",
          "GBR",
          "USA",
          "ESP",
          "MEX",
          "CHL",
          "BRA",
          "PER",
          "COL",
          "JPN",
          "UKR",
          "IND",
          "PAK",
          "AFG",
          "ALB",
          "DZA",
          "AND",
          "AGO",
          "ATG",
          "ARG",
          "ARM",
          "AZE",
          "BHS",
          "BHR",
          "BGD",
          "BRB",
          "BLR",
          "BEL",
          "BLZ",
          "BEN",
          "BTN",
          "BOL",
          "BIH",
          "BWA",
          "BRN",
          "BGR",
          "BFA",
          "MMR",
          "BDI",
          "CPV",
          "KHM",
          "CMR",
          "CAF",
          "TCD",
          "COM",
          "COG",
          "COD",
          "CRI",
          "CIV",
          "HRV",
          "CUB",
          "CYP",
          "CZE",
          null,
          "DJI",
          "DMA",
          "DOM",
          "ECU",
          "EGY",
          "SLV",
          "GNQ",
          "ERI",
          "EST",
          "SWZ",
          "ETH",
          "FJI",
          "GAB",
          "GMB",
          "GEO",
          "GHA",
          "GRC",
          "GRD",
          "GTM",
          "GIN",
          "GNB",
          "GUY",
          "HTI",
          "VAT",
          "HND",
          "HUN",
          "IDN",
          "IRN",
          "IRQ",
          "ISR",
          "JAM",
          "JOR",
          "KAZ",
          "KEN",
          "KOR",
          "XKS",
          "KWT",
          "KGZ",
          "LAO",
          "LVA",
          "LBN",
          "LSO",
          "LBR",
          "LBY",
          "LIE",
          "LTU",
          "LUX",
          null,
          "MDG",
          "MWI",
          "MYS",
          "MDV",
          "MLI",
          "MLT",
          "MRT",
          "MUS",
          "MDA",
          "MCO",
          "MNG",
          "MNE",
          "MAR",
          "MOZ",
          "NAM",
          "NPL",
          "NZL",
          "NIC",
          "NER",
          "NGA",
          "MKD",
          "OMN",
          "PAN",
          "PNG",
          "PRY",
          "PHL",
          "POL",
          "PRT",
          "QAT",
          "ROU",
          "RWA",
          "KNA",
          "LCA",
          "VCT",
          "SMR",
          "STP",
          "SAU",
          "SEN",
          "SRB",
          "SYC",
          "SLE",
          "SGP",
          "SVK",
          "SVN",
          "SOM",
          "ZAF",
          "SSD",
          "LKA",
          "SDN",
          "SUR",
          "SYR",
          "TWN",
          "TJK",
          "TZA",
          "THA",
          "TLS",
          "TGO",
          "TTO",
          "TUN",
          "TUR",
          "UGA",
          "ARE",
          "URY",
          "UZB",
          "VEN",
          "VNM",
          "PSE",
          "ESH",
          "YEM",
          "ZMB",
          "ZWE"
         ],
         "marker": {
          "line": {
           "color": "black",
           "width": 0.5
          }
         },
         "reversescale": false,
         "text": [
          "Australia",
          "Austria",
          "Canada",
          "China",
          "Denmark",
          "Finland",
          "France",
          "Germany",
          "Iceland",
          "Ireland",
          "Italy",
          "Netherlands",
          "Norway",
          "Russia",
          "Sweden",
          "Switzerland",
          "United Kingdom",
          "US",
          "Spain",
          "Mexico",
          "Chile",
          "Brazil",
          "Peru",
          "Colombia",
          "Japan",
          "Ukraine",
          "India",
          "Pakistan",
          "Afghanistan",
          "Albania",
          "Algeria",
          "Andorra",
          "Angola",
          "Antigua and Barbuda",
          "Argentina",
          "Armenia",
          "Azerbaijan",
          "Bahamas",
          "Bahrain",
          "Bangladesh",
          "Barbados",
          "Belarus",
          "Belgium",
          "Belize",
          "Benin",
          "Bhutan",
          "Bolivia",
          "Bosnia and Herzegovina",
          "Botswana",
          "Brunei",
          "Bulgaria",
          "Burkina Faso",
          "Burma",
          "Burundi",
          "Cabo Verde",
          "Cambodia",
          "Cameroon",
          "Central African Republic",
          "Chad",
          "Comoros",
          "Congo (Brazzaville)",
          "Congo (Kinshasa)",
          "Costa Rica",
          "Cote d'Ivoire",
          "Croatia",
          "Cuba",
          "Cyprus",
          "Czechia",
          "Diamond Princess",
          "Djibouti",
          "Dominica",
          "Dominican Republic",
          "Ecuador",
          "Egypt",
          "El Salvador",
          "Equatorial Guinea",
          "Eritrea",
          "Estonia",
          "Eswatini",
          "Ethiopia",
          "Fiji",
          "Gabon",
          "Gambia",
          "Georgia",
          "Ghana",
          "Greece",
          "Grenada",
          "Guatemala",
          "Guinea",
          "Guinea-Bissau",
          "Guyana",
          "Haiti",
          "Holy See",
          "Honduras",
          "Hungary",
          "Indonesia",
          "Iran",
          "Iraq",
          "Israel",
          "Jamaica",
          "Jordan",
          "Kazakhstan",
          "Kenya",
          "Korea, South",
          "Kosovo",
          "Kuwait",
          "Kyrgyzstan",
          "Laos",
          "Latvia",
          "Lebanon",
          "Lesotho",
          "Liberia",
          "Libya",
          "Liechtenstein",
          "Lithuania",
          "Luxembourg",
          "MS Zaandam",
          "Madagascar",
          "Malawi",
          "Malaysia",
          "Maldives",
          "Mali",
          "Malta",
          "Mauritania",
          "Mauritius",
          "Moldova",
          "Monaco",
          "Mongolia",
          "Montenegro",
          "Morocco",
          "Mozambique",
          "Namibia",
          "Nepal",
          "New Zealand",
          "Nicaragua",
          "Niger",
          "Nigeria",
          "North Macedonia",
          "Oman",
          "Panama",
          "Papua New Guinea",
          "Paraguay",
          "Philippines",
          "Poland",
          "Portugal",
          "Qatar",
          "Romania",
          "Rwanda",
          "Saint Kitts and Nevis",
          "Saint Lucia",
          "Saint Vincent and the Grenadines",
          "San Marino",
          "Sao Tome and Principe",
          "Saudi Arabia",
          "Senegal",
          "Serbia",
          "Seychelles",
          "Sierra Leone",
          "Singapore",
          "Slovakia",
          "Slovenia",
          "Somalia",
          "South Africa",
          "South Sudan",
          "Sri Lanka",
          "Sudan",
          "Suriname",
          "Syria",
          "Taiwan*",
          "Tajikistan",
          "Tanzania",
          "Thailand",
          "Timor-Leste",
          "Togo",
          "Trinidad and Tobago",
          "Tunisia",
          "Turkey",
          "Uganda",
          "United Arab Emirates",
          "Uruguay",
          "Uzbekistan",
          "Venezuela",
          "Vietnam",
          "West Bank and Gaza",
          "Western Sahara",
          "Yemen",
          "Zambia",
          "Zimbabwe"
         ],
         "type": "choropleth",
         "uid": "4565130d-9bec-4195-a8e2-3802c0d80803",
         "z": [
          8162,
          17501,
          98281,
          80018,
          12410,
          6880,
          79371,
          187200,
          1895,
          23364,
          196483,
          194,
          8138,
          545909,
          null,
          29900,
          1403,
          1107204,
          150376,
          264202,
          296814,
          1428520,
          233982,
          80637,
          18944,
          31479,
          653751,
          198509,
          23243,
          2214,
          15430,
          803,
          199,
          57,
          49780,
          23123,
          17805,
          91,
          31188,
          110098,
          91,
          57370,
          17289,
          22,
          782,
          78,
          17882,
          3612,
          48,
          138,
          4033,
          887,
          271,
          207,
          902,
          133,
          13728,
          1288,
          800,
          311,
          626,
          4313,
          2818,
          7607,
          2825,
          2300,
          845,
          8725,
          651,
          4809,
          18,
          24423,
          31404,
          27302,
          6441,
          842,
          155,
          1912,
          769,
          2430,
          18,
          3865,
          49,
          895,
          22915,
          1374,
          23,
          4989,
          5233,
          773,
          156,
          3738,
          12,
          3565,
          3222,
          43268,
          235300,
          56495,
          20744,
          678,
          1021,
          40256,
          3983,
          12519,
          2640,
          48381,
          3821,
          19,
          1022,
          1485,
          69,
          496,
          380,
          81,
          1595,
          4333,
          null,
          3108,
          1107,
          8546,
          2340,
          1791,
          662,
          3153,
          331,
          13913,
          98,
          211,
          378,
          14360,
          397,
          32,
          11534,
          1506,
          2282,
          1013,
          14633,
          4676,
          42772,
          26520,
          8,
          1481,
          22067,
          29924,
          32790,
          102597,
          22488,
          811,
          15,
          19,
          29,
          656,
          325,
          191161,
          5809,
          14799,
          27,
          1219,
          43577,
          1523,
          1568,
          1444,
          178183,
          1175,
          2012,
          5601,
          600,
          144,
          440,
          5483,
          183,
          3096,
          24,
          546,
          124,
          1095,
          199834,
          1023,
          48917,
          917,
          9003,
          3852,
          356,
          1492,
          8,
          695,
          1450,
          438
         ]
        }
       ],
       "layout": {
        "autosize": true,
        "geo": {
         "bgcolor": "lightgrey",
         "projection": {
          "type": "equirectangular"
         },
         "showcoastlines": false,
         "showframe": false
        },
        "height": 900,
        "template": {
         "data": {
          "bar": [
           {
            "error_x": {
             "color": "#2a3f5f"
            },
            "error_y": {
             "color": "#2a3f5f"
            },
            "marker": {
             "line": {
              "color": "#E5ECF6",
              "width": 0.5
             }
            },
            "type": "bar"
           }
          ],
          "barpolar": [
           {
            "marker": {
             "line": {
              "color": "#E5ECF6",
              "width": 0.5
             }
            },
            "type": "barpolar"
           }
          ],
          "carpet": [
           {
            "aaxis": {
             "endlinecolor": "#2a3f5f",
             "gridcolor": "white",
             "linecolor": "white",
             "minorgridcolor": "white",
             "startlinecolor": "#2a3f5f"
            },
            "baxis": {
             "endlinecolor": "#2a3f5f",
             "gridcolor": "white",
             "linecolor": "white",
             "minorgridcolor": "white",
             "startlinecolor": "#2a3f5f"
            },
            "type": "carpet"
           }
          ],
          "choropleth": [
           {
            "colorbar": {
             "outlinewidth": 0,
             "ticks": ""
            },
            "type": "choropleth"
           }
          ],
          "contour": [
           {
            "colorbar": {
             "outlinewidth": 0,
             "ticks": ""
            },
            "colorscale": [
             [
              0,
              "#0d0887"
             ],
             [
              0.1111111111111111,
              "#46039f"
             ],
             [
              0.2222222222222222,
              "#7201a8"
             ],
             [
              0.3333333333333333,
              "#9c179e"
             ],
             [
              0.4444444444444444,
              "#bd3786"
             ],
             [
              0.5555555555555556,
              "#d8576b"
             ],
             [
              0.6666666666666666,
              "#ed7953"
             ],
             [
              0.7777777777777778,
              "#fb9f3a"
             ],
             [
              0.8888888888888888,
              "#fdca26"
             ],
             [
              1,
              "#f0f921"
             ]
            ],
            "type": "contour"
           }
          ],
          "contourcarpet": [
           {
            "colorbar": {
             "outlinewidth": 0,
             "ticks": ""
            },
            "type": "contourcarpet"
           }
          ],
          "heatmap": [
           {
            "colorbar": {
             "outlinewidth": 0,
             "ticks": ""
            },
            "colorscale": [
             [
              0,
              "#0d0887"
             ],
             [
              0.1111111111111111,
              "#46039f"
             ],
             [
              0.2222222222222222,
              "#7201a8"
             ],
             [
              0.3333333333333333,
              "#9c179e"
             ],
             [
              0.4444444444444444,
              "#bd3786"
             ],
             [
              0.5555555555555556,
              "#d8576b"
             ],
             [
              0.6666666666666666,
              "#ed7953"
             ],
             [
              0.7777777777777778,
              "#fb9f3a"
             ],
             [
              0.8888888888888888,
              "#fdca26"
             ],
             [
              1,
              "#f0f921"
             ]
            ],
            "type": "heatmap"
           }
          ],
          "heatmapgl": [
           {
            "colorbar": {
             "outlinewidth": 0,
             "ticks": ""
            },
            "colorscale": [
             [
              0,
              "#0d0887"
             ],
             [
              0.1111111111111111,
              "#46039f"
             ],
             [
              0.2222222222222222,
              "#7201a8"
             ],
             [
              0.3333333333333333,
              "#9c179e"
             ],
             [
              0.4444444444444444,
              "#bd3786"
             ],
             [
              0.5555555555555556,
              "#d8576b"
             ],
             [
              0.6666666666666666,
              "#ed7953"
             ],
             [
              0.7777777777777778,
              "#fb9f3a"
             ],
             [
              0.8888888888888888,
              "#fdca26"
             ],
             [
              1,
              "#f0f921"
             ]
            ],
            "type": "heatmapgl"
           }
          ],
          "histogram": [
           {
            "marker": {
             "colorbar": {
              "outlinewidth": 0,
              "ticks": ""
             }
            },
            "type": "histogram"
           }
          ],
          "histogram2d": [
           {
            "colorbar": {
             "outlinewidth": 0,
             "ticks": ""
            },
            "colorscale": [
             [
              0,
              "#0d0887"
             ],
             [
              0.1111111111111111,
              "#46039f"
             ],
             [
              0.2222222222222222,
              "#7201a8"
             ],
             [
              0.3333333333333333,
              "#9c179e"
             ],
             [
              0.4444444444444444,
              "#bd3786"
             ],
             [
              0.5555555555555556,
              "#d8576b"
             ],
             [
              0.6666666666666666,
              "#ed7953"
             ],
             [
              0.7777777777777778,
              "#fb9f3a"
             ],
             [
              0.8888888888888888,
              "#fdca26"
             ],
             [
              1,
              "#f0f921"
             ]
            ],
            "type": "histogram2d"
           }
          ],
          "histogram2dcontour": [
           {
            "colorbar": {
             "outlinewidth": 0,
             "ticks": ""
            },
            "colorscale": [
             [
              0,
              "#0d0887"
             ],
             [
              0.1111111111111111,
              "#46039f"
             ],
             [
              0.2222222222222222,
              "#7201a8"
             ],
             [
              0.3333333333333333,
              "#9c179e"
             ],
             [
              0.4444444444444444,
              "#bd3786"
             ],
             [
              0.5555555555555556,
              "#d8576b"
             ],
             [
              0.6666666666666666,
              "#ed7953"
             ],
             [
              0.7777777777777778,
              "#fb9f3a"
             ],
             [
              0.8888888888888888,
              "#fdca26"
             ],
             [
              1,
              "#f0f921"
             ]
            ],
            "type": "histogram2dcontour"
           }
          ],
          "mesh3d": [
           {
            "colorbar": {
             "outlinewidth": 0,
             "ticks": ""
            },
            "type": "mesh3d"
           }
          ],
          "parcoords": [
           {
            "line": {
             "colorbar": {
              "outlinewidth": 0,
              "ticks": ""
             }
            },
            "type": "parcoords"
           }
          ],
          "pie": [
           {
            "automargin": true,
            "type": "pie"
           }
          ],
          "scatter": [
           {
            "marker": {
             "colorbar": {
              "outlinewidth": 0,
              "ticks": ""
             }
            },
            "type": "scatter"
           }
          ],
          "scatter3d": [
           {
            "line": {
             "colorbar": {
              "outlinewidth": 0,
              "ticks": ""
             }
            },
            "marker": {
             "colorbar": {
              "outlinewidth": 0,
              "ticks": ""
             }
            },
            "type": "scatter3d"
           }
          ],
          "scattercarpet": [
           {
            "marker": {
             "colorbar": {
              "outlinewidth": 0,
              "ticks": ""
             }
            },
            "type": "scattercarpet"
           }
          ],
          "scattergeo": [
           {
            "marker": {
             "colorbar": {
              "outlinewidth": 0,
              "ticks": ""
             }
            },
            "type": "scattergeo"
           }
          ],
          "scattergl": [
           {
            "marker": {
             "colorbar": {
              "outlinewidth": 0,
              "ticks": ""
             }
            },
            "type": "scattergl"
           }
          ],
          "scattermapbox": [
           {
            "marker": {
             "colorbar": {
              "outlinewidth": 0,
              "ticks": ""
             }
            },
            "type": "scattermapbox"
           }
          ],
          "scatterpolar": [
           {
            "marker": {
             "colorbar": {
              "outlinewidth": 0,
              "ticks": ""
             }
            },
            "type": "scatterpolar"
           }
          ],
          "scatterpolargl": [
           {
            "marker": {
             "colorbar": {
              "outlinewidth": 0,
              "ticks": ""
             }
            },
            "type": "scatterpolargl"
           }
          ],
          "scatterternary": [
           {
            "marker": {
             "colorbar": {
              "outlinewidth": 0,
              "ticks": ""
             }
            },
            "type": "scatterternary"
           }
          ],
          "surface": [
           {
            "colorbar": {
             "outlinewidth": 0,
             "ticks": ""
            },
            "colorscale": [
             [
              0,
              "#0d0887"
             ],
             [
              0.1111111111111111,
              "#46039f"
             ],
             [
              0.2222222222222222,
              "#7201a8"
             ],
             [
              0.3333333333333333,
              "#9c179e"
             ],
             [
              0.4444444444444444,
              "#bd3786"
             ],
             [
              0.5555555555555556,
              "#d8576b"
             ],
             [
              0.6666666666666666,
              "#ed7953"
             ],
             [
              0.7777777777777778,
              "#fb9f3a"
             ],
             [
              0.8888888888888888,
              "#fdca26"
             ],
             [
              1,
              "#f0f921"
             ]
            ],
            "type": "surface"
           }
          ],
          "table": [
           {
            "cells": {
             "fill": {
              "color": "#EBF0F8"
             },
             "line": {
              "color": "white"
             }
            },
            "header": {
             "fill": {
              "color": "#C8D4E3"
             },
             "line": {
              "color": "white"
             }
            },
            "type": "table"
           }
          ]
         },
         "layout": {
          "annotationdefaults": {
           "arrowcolor": "#2a3f5f",
           "arrowhead": 0,
           "arrowwidth": 1
          },
          "coloraxis": {
           "colorbar": {
            "outlinewidth": 0,
            "ticks": ""
           }
          },
          "colorscale": {
           "diverging": [
            [
             0,
             "#8e0152"
            ],
            [
             0.1,
             "#c51b7d"
            ],
            [
             0.2,
             "#de77ae"
            ],
            [
             0.3,
             "#f1b6da"
            ],
            [
             0.4,
             "#fde0ef"
            ],
            [
             0.5,
             "#f7f7f7"
            ],
            [
             0.6,
             "#e6f5d0"
            ],
            [
             0.7,
             "#b8e186"
            ],
            [
             0.8,
             "#7fbc41"
            ],
            [
             0.9,
             "#4d9221"
            ],
            [
             1,
             "#276419"
            ]
           ],
           "sequential": [
            [
             0,
             "#0d0887"
            ],
            [
             0.1111111111111111,
             "#46039f"
            ],
            [
             0.2222222222222222,
             "#7201a8"
            ],
            [
             0.3333333333333333,
             "#9c179e"
            ],
            [
             0.4444444444444444,
             "#bd3786"
            ],
            [
             0.5555555555555556,
             "#d8576b"
            ],
            [
             0.6666666666666666,
             "#ed7953"
            ],
            [
             0.7777777777777778,
             "#fb9f3a"
            ],
            [
             0.8888888888888888,
             "#fdca26"
            ],
            [
             1,
             "#f0f921"
            ]
           ],
           "sequentialminus": [
            [
             0,
             "#0d0887"
            ],
            [
             0.1111111111111111,
             "#46039f"
            ],
            [
             0.2222222222222222,
             "#7201a8"
            ],
            [
             0.3333333333333333,
             "#9c179e"
            ],
            [
             0.4444444444444444,
             "#bd3786"
            ],
            [
             0.5555555555555556,
             "#d8576b"
            ],
            [
             0.6666666666666666,
             "#ed7953"
            ],
            [
             0.7777777777777778,
             "#fb9f3a"
            ],
            [
             0.8888888888888888,
             "#fdca26"
            ],
            [
             1,
             "#f0f921"
            ]
           ]
          },
          "colorway": [
           "#636efa",
           "#EF553B",
           "#00cc96",
           "#ab63fa",
           "#FFA15A",
           "#19d3f3",
           "#FF6692",
           "#B6E880",
           "#FF97FF",
           "#FECB52"
          ],
          "font": {
           "color": "#2a3f5f"
          },
          "geo": {
           "bgcolor": "white",
           "lakecolor": "white",
           "landcolor": "#E5ECF6",
           "showlakes": true,
           "showland": true,
           "subunitcolor": "white"
          },
          "hoverlabel": {
           "align": "left"
          },
          "hovermode": "closest",
          "mapbox": {
           "style": "light"
          },
          "paper_bgcolor": "white",
          "plot_bgcolor": "#E5ECF6",
          "polar": {
           "angularaxis": {
            "gridcolor": "white",
            "linecolor": "white",
            "ticks": ""
           },
           "bgcolor": "#E5ECF6",
           "radialaxis": {
            "gridcolor": "white",
            "linecolor": "white",
            "ticks": ""
           }
          },
          "scene": {
           "xaxis": {
            "backgroundcolor": "#E5ECF6",
            "gridcolor": "white",
            "gridwidth": 2,
            "linecolor": "white",
            "showbackground": true,
            "ticks": "",
            "zerolinecolor": "white"
           },
           "yaxis": {
            "backgroundcolor": "#E5ECF6",
            "gridcolor": "white",
            "gridwidth": 2,
            "linecolor": "white",
            "showbackground": true,
            "ticks": "",
            "zerolinecolor": "white"
           },
           "zaxis": {
            "backgroundcolor": "#E5ECF6",
            "gridcolor": "white",
            "gridwidth": 2,
            "linecolor": "white",
            "showbackground": true,
            "ticks": "",
            "zerolinecolor": "white"
           }
          },
          "shapedefaults": {
           "line": {
            "color": "#2a3f5f"
           }
          },
          "ternary": {
           "aaxis": {
            "gridcolor": "white",
            "linecolor": "white",
            "ticks": ""
           },
           "baxis": {
            "gridcolor": "white",
            "linecolor": "white",
            "ticks": ""
           },
           "bgcolor": "#E5ECF6",
           "caxis": {
            "gridcolor": "white",
            "linecolor": "white",
            "ticks": ""
           }
          },
          "title": {
           "x": 0.05
          },
          "xaxis": {
           "automargin": true,
           "gridcolor": "white",
           "linecolor": "white",
           "ticks": "",
           "title": {
            "standoff": 15
           },
           "zerolinecolor": "white",
           "zerolinewidth": 2
          },
          "yaxis": {
           "automargin": true,
           "gridcolor": "white",
           "linecolor": "white",
           "ticks": "",
           "title": {
            "standoff": 15
           },
           "zerolinecolor": "white",
           "zerolinewidth": 2
          }
         }
        },
        "title": {
         "text": "Recovered Case Count",
         "x": 0.5
        },
        "width": 1000
       }
      },
      "text/html": [
       "<div>\n",
       "        \n",
       "        \n",
       "            <div id=\"ad468da4-36fc-4052-b7db-27f120c7e628\" class=\"plotly-graph-div\" style=\"height:900px; width:1000px;\"></div>\n",
       "            <script type=\"text/javascript\">\n",
       "                require([\"plotly\"], function(Plotly) {\n",
       "                    window.PLOTLYENV=window.PLOTLYENV || {};\n",
       "                    \n",
       "                if (document.getElementById(\"ad468da4-36fc-4052-b7db-27f120c7e628\")) {\n",
       "                    Plotly.newPlot(\n",
       "                        'ad468da4-36fc-4052-b7db-27f120c7e628',\n",
       "                        [{\"autocolorscale\": false, \"colorbar\": {\"title\": {\"text\": \"No of Recovered cases\"}}, \"colorscale\": [[0.0, \"rgb(247,252,245)\"], [0.125, \"rgb(229,245,224)\"], [0.25, \"rgb(199,233,192)\"], [0.375, \"rgb(161,217,155)\"], [0.5, \"rgb(116,196,118)\"], [0.625, \"rgb(65,171,93)\"], [0.75, \"rgb(35,139,69)\"], [0.875, \"rgb(0,109,44)\"], [1.0, \"rgb(0,68,27)\"]], \"locations\": [\"AUS\", \"AUT\", \"CAN\", \"CHN\", \"DNK\", \"FIN\", \"FRA\", \"DEU\", \"ISL\", \"IRL\", \"ITA\", \"NLD\", \"NOR\", \"RUS\", \"SWE\", \"CHE\", \"GBR\", \"USA\", \"ESP\", \"MEX\", \"CHL\", \"BRA\", \"PER\", \"COL\", \"JPN\", \"UKR\", \"IND\", \"PAK\", \"AFG\", \"ALB\", \"DZA\", \"AND\", \"AGO\", \"ATG\", \"ARG\", \"ARM\", \"AZE\", \"BHS\", \"BHR\", \"BGD\", \"BRB\", \"BLR\", \"BEL\", \"BLZ\", \"BEN\", \"BTN\", \"BOL\", \"BIH\", \"BWA\", \"BRN\", \"BGR\", \"BFA\", \"MMR\", \"BDI\", \"CPV\", \"KHM\", \"CMR\", \"CAF\", \"TCD\", \"COM\", \"COG\", \"COD\", \"CRI\", \"CIV\", \"HRV\", \"CUB\", \"CYP\", \"CZE\", null, \"DJI\", \"DMA\", \"DOM\", \"ECU\", \"EGY\", \"SLV\", \"GNQ\", \"ERI\", \"EST\", \"SWZ\", \"ETH\", \"FJI\", \"GAB\", \"GMB\", \"GEO\", \"GHA\", \"GRC\", \"GRD\", \"GTM\", \"GIN\", \"GNB\", \"GUY\", \"HTI\", \"VAT\", \"HND\", \"HUN\", \"IDN\", \"IRN\", \"IRQ\", \"ISR\", \"JAM\", \"JOR\", \"KAZ\", \"KEN\", \"KOR\", \"XKS\", \"KWT\", \"KGZ\", \"LAO\", \"LVA\", \"LBN\", \"LSO\", \"LBR\", \"LBY\", \"LIE\", \"LTU\", \"LUX\", null, \"MDG\", \"MWI\", \"MYS\", \"MDV\", \"MLI\", \"MLT\", \"MRT\", \"MUS\", \"MDA\", \"MCO\", \"MNG\", \"MNE\", \"MAR\", \"MOZ\", \"NAM\", \"NPL\", \"NZL\", \"NIC\", \"NER\", \"NGA\", \"MKD\", \"OMN\", \"PAN\", \"PNG\", \"PRY\", \"PHL\", \"POL\", \"PRT\", \"QAT\", \"ROU\", \"RWA\", \"KNA\", \"LCA\", \"VCT\", \"SMR\", \"STP\", \"SAU\", \"SEN\", \"SRB\", \"SYC\", \"SLE\", \"SGP\", \"SVK\", \"SVN\", \"SOM\", \"ZAF\", \"SSD\", \"LKA\", \"SDN\", \"SUR\", \"SYR\", \"TWN\", \"TJK\", \"TZA\", \"THA\", \"TLS\", \"TGO\", \"TTO\", \"TUN\", \"TUR\", \"UGA\", \"ARE\", \"URY\", \"UZB\", \"VEN\", \"VNM\", \"PSE\", \"ESH\", \"YEM\", \"ZMB\", \"ZWE\"], \"marker\": {\"line\": {\"color\": \"black\", \"width\": 0.5}}, \"reversescale\": false, \"text\": [\"Australia\", \"Austria\", \"Canada\", \"China\", \"Denmark\", \"Finland\", \"France\", \"Germany\", \"Iceland\", \"Ireland\", \"Italy\", \"Netherlands\", \"Norway\", \"Russia\", \"Sweden\", \"Switzerland\", \"United Kingdom\", \"US\", \"Spain\", \"Mexico\", \"Chile\", \"Brazil\", \"Peru\", \"Colombia\", \"Japan\", \"Ukraine\", \"India\", \"Pakistan\", \"Afghanistan\", \"Albania\", \"Algeria\", \"Andorra\", \"Angola\", \"Antigua and Barbuda\", \"Argentina\", \"Armenia\", \"Azerbaijan\", \"Bahamas\", \"Bahrain\", \"Bangladesh\", \"Barbados\", \"Belarus\", \"Belgium\", \"Belize\", \"Benin\", \"Bhutan\", \"Bolivia\", \"Bosnia and Herzegovina\", \"Botswana\", \"Brunei\", \"Bulgaria\", \"Burkina Faso\", \"Burma\", \"Burundi\", \"Cabo Verde\", \"Cambodia\", \"Cameroon\", \"Central African Republic\", \"Chad\", \"Comoros\", \"Congo (Brazzaville)\", \"Congo (Kinshasa)\", \"Costa Rica\", \"Cote d'Ivoire\", \"Croatia\", \"Cuba\", \"Cyprus\", \"Czechia\", \"Diamond Princess\", \"Djibouti\", \"Dominica\", \"Dominican Republic\", \"Ecuador\", \"Egypt\", \"El Salvador\", \"Equatorial Guinea\", \"Eritrea\", \"Estonia\", \"Eswatini\", \"Ethiopia\", \"Fiji\", \"Gabon\", \"Gambia\", \"Georgia\", \"Ghana\", \"Greece\", \"Grenada\", \"Guatemala\", \"Guinea\", \"Guinea-Bissau\", \"Guyana\", \"Haiti\", \"Holy See\", \"Honduras\", \"Hungary\", \"Indonesia\", \"Iran\", \"Iraq\", \"Israel\", \"Jamaica\", \"Jordan\", \"Kazakhstan\", \"Kenya\", \"Korea, South\", \"Kosovo\", \"Kuwait\", \"Kyrgyzstan\", \"Laos\", \"Latvia\", \"Lebanon\", \"Lesotho\", \"Liberia\", \"Libya\", \"Liechtenstein\", \"Lithuania\", \"Luxembourg\", \"MS Zaandam\", \"Madagascar\", \"Malawi\", \"Malaysia\", \"Maldives\", \"Mali\", \"Malta\", \"Mauritania\", \"Mauritius\", \"Moldova\", \"Monaco\", \"Mongolia\", \"Montenegro\", \"Morocco\", \"Mozambique\", \"Namibia\", \"Nepal\", \"New Zealand\", \"Nicaragua\", \"Niger\", \"Nigeria\", \"North Macedonia\", \"Oman\", \"Panama\", \"Papua New Guinea\", \"Paraguay\", \"Philippines\", \"Poland\", \"Portugal\", \"Qatar\", \"Romania\", \"Rwanda\", \"Saint Kitts and Nevis\", \"Saint Lucia\", \"Saint Vincent and the Grenadines\", \"San Marino\", \"Sao Tome and Principe\", \"Saudi Arabia\", \"Senegal\", \"Serbia\", \"Seychelles\", \"Sierra Leone\", \"Singapore\", \"Slovakia\", \"Slovenia\", \"Somalia\", \"South Africa\", \"South Sudan\", \"Sri Lanka\", \"Sudan\", \"Suriname\", \"Syria\", \"Taiwan*\", \"Tajikistan\", \"Tanzania\", \"Thailand\", \"Timor-Leste\", \"Togo\", \"Trinidad and Tobago\", \"Tunisia\", \"Turkey\", \"Uganda\", \"United Arab Emirates\", \"Uruguay\", \"Uzbekistan\", \"Venezuela\", \"Vietnam\", \"West Bank and Gaza\", \"Western Sahara\", \"Yemen\", \"Zambia\", \"Zimbabwe\"], \"type\": \"choropleth\", \"uid\": \"4565130d-9bec-4195-a8e2-3802c0d80803\", \"z\": [8162.0, 17501.0, 98281.0, 80018.0, 12410.0, 6880.0, 79371.0, 187200.0, 1895.0, 23364.0, 196483.0, 194.0, 8138.0, 545909.0, null, 29900.0, 1403.0, 1107204.0, 150376.0, 264202.0, 296814.0, 1428520.0, 233982.0, 80637.0, 18944.0, 31479.0, 653751.0, 198509.0, 23243.0, 2214.0, 15430.0, 803.0, 199.0, 57.0, 49780.0, 23123.0, 17805.0, 91.0, 31188.0, 110098.0, 91.0, 57370.0, 17289.0, 22.0, 782.0, 78.0, 17882.0, 3612.0, 48.0, 138.0, 4033.0, 887.0, 271.0, 207.0, 902.0, 133.0, 13728.0, 1288.0, 800.0, 311.0, 626.0, 4313.0, 2818.0, 7607.0, 2825.0, 2300.0, 845.0, 8725.0, 651.0, 4809.0, 18.0, 24423.0, 31404.0, 27302.0, 6441.0, 842.0, 155.0, 1912.0, 769.0, 2430.0, 18.0, 3865.0, 49.0, 895.0, 22915.0, 1374.0, 23.0, 4989.0, 5233.0, 773.0, 156.0, 3738.0, 12.0, 3565.0, 3222.0, 43268.0, 235300.0, 56495.0, 20744.0, 678.0, 1021.0, 40256.0, 3983.0, 12519.0, 2640.0, 48381.0, 3821.0, 19.0, 1022.0, 1485.0, 69.0, 496.0, 380.0, 81.0, 1595.0, 4333.0, null, 3108.0, 1107.0, 8546.0, 2340.0, 1791.0, 662.0, 3153.0, 331.0, 13913.0, 98.0, 211.0, 378.0, 14360.0, 397.0, 32.0, 11534.0, 1506.0, 2282.0, 1013.0, 14633.0, 4676.0, 42772.0, 26520.0, 8.0, 1481.0, 22067.0, 29924.0, 32790.0, 102597.0, 22488.0, 811.0, 15.0, 19.0, 29.0, 656.0, 325.0, 191161.0, 5809.0, 14799.0, 27.0, 1219.0, 43577.0, 1523.0, 1568.0, 1444.0, 178183.0, 1175.0, 2012.0, 5601.0, 600.0, 144.0, 440.0, 5483.0, 183.0, 3096.0, 24.0, 546.0, 124.0, 1095.0, 199834.0, 1023.0, 48917.0, 917.0, 9003.0, 3852.0, 356.0, 1492.0, 8.0, 695.0, 1450.0, 438.0]}],\n",
       "                        {\"autosize\": true, \"geo\": {\"bgcolor\": \"lightgrey\", \"projection\": {\"type\": \"equirectangular\"}, \"showcoastlines\": false, \"showframe\": false}, \"height\": 900, \"template\": {\"data\": {\"bar\": [{\"error_x\": {\"color\": \"#2a3f5f\"}, \"error_y\": {\"color\": \"#2a3f5f\"}, \"marker\": {\"line\": {\"color\": \"#E5ECF6\", \"width\": 0.5}}, \"type\": \"bar\"}], \"barpolar\": [{\"marker\": {\"line\": {\"color\": \"#E5ECF6\", \"width\": 0.5}}, \"type\": \"barpolar\"}], \"carpet\": [{\"aaxis\": {\"endlinecolor\": \"#2a3f5f\", \"gridcolor\": \"white\", \"linecolor\": \"white\", \"minorgridcolor\": \"white\", \"startlinecolor\": \"#2a3f5f\"}, \"baxis\": {\"endlinecolor\": \"#2a3f5f\", \"gridcolor\": \"white\", \"linecolor\": \"white\", \"minorgridcolor\": \"white\", \"startlinecolor\": \"#2a3f5f\"}, \"type\": \"carpet\"}], \"choropleth\": [{\"colorbar\": {\"outlinewidth\": 0, \"ticks\": \"\"}, \"type\": \"choropleth\"}], \"contour\": [{\"colorbar\": {\"outlinewidth\": 0, \"ticks\": \"\"}, \"colorscale\": [[0.0, \"#0d0887\"], [0.1111111111111111, \"#46039f\"], [0.2222222222222222, \"#7201a8\"], [0.3333333333333333, \"#9c179e\"], [0.4444444444444444, \"#bd3786\"], [0.5555555555555556, \"#d8576b\"], [0.6666666666666666, \"#ed7953\"], [0.7777777777777778, \"#fb9f3a\"], [0.8888888888888888, \"#fdca26\"], [1.0, \"#f0f921\"]], \"type\": \"contour\"}], \"contourcarpet\": [{\"colorbar\": {\"outlinewidth\": 0, \"ticks\": \"\"}, \"type\": \"contourcarpet\"}], \"heatmap\": [{\"colorbar\": {\"outlinewidth\": 0, \"ticks\": \"\"}, \"colorscale\": [[0.0, \"#0d0887\"], [0.1111111111111111, \"#46039f\"], [0.2222222222222222, \"#7201a8\"], [0.3333333333333333, \"#9c179e\"], [0.4444444444444444, \"#bd3786\"], [0.5555555555555556, \"#d8576b\"], [0.6666666666666666, \"#ed7953\"], [0.7777777777777778, \"#fb9f3a\"], [0.8888888888888888, \"#fdca26\"], [1.0, \"#f0f921\"]], \"type\": \"heatmap\"}], \"heatmapgl\": [{\"colorbar\": {\"outlinewidth\": 0, \"ticks\": \"\"}, \"colorscale\": [[0.0, \"#0d0887\"], [0.1111111111111111, \"#46039f\"], [0.2222222222222222, \"#7201a8\"], [0.3333333333333333, \"#9c179e\"], [0.4444444444444444, \"#bd3786\"], [0.5555555555555556, \"#d8576b\"], [0.6666666666666666, \"#ed7953\"], [0.7777777777777778, \"#fb9f3a\"], [0.8888888888888888, \"#fdca26\"], [1.0, \"#f0f921\"]], \"type\": \"heatmapgl\"}], \"histogram\": [{\"marker\": {\"colorbar\": {\"outlinewidth\": 0, \"ticks\": \"\"}}, \"type\": \"histogram\"}], \"histogram2d\": [{\"colorbar\": {\"outlinewidth\": 0, \"ticks\": \"\"}, \"colorscale\": [[0.0, \"#0d0887\"], [0.1111111111111111, \"#46039f\"], [0.2222222222222222, \"#7201a8\"], [0.3333333333333333, \"#9c179e\"], [0.4444444444444444, \"#bd3786\"], [0.5555555555555556, \"#d8576b\"], [0.6666666666666666, \"#ed7953\"], [0.7777777777777778, \"#fb9f3a\"], [0.8888888888888888, \"#fdca26\"], [1.0, \"#f0f921\"]], \"type\": \"histogram2d\"}], \"histogram2dcontour\": [{\"colorbar\": {\"outlinewidth\": 0, \"ticks\": \"\"}, \"colorscale\": [[0.0, \"#0d0887\"], [0.1111111111111111, \"#46039f\"], [0.2222222222222222, \"#7201a8\"], [0.3333333333333333, \"#9c179e\"], [0.4444444444444444, \"#bd3786\"], [0.5555555555555556, \"#d8576b\"], [0.6666666666666666, \"#ed7953\"], [0.7777777777777778, \"#fb9f3a\"], [0.8888888888888888, \"#fdca26\"], [1.0, \"#f0f921\"]], \"type\": \"histogram2dcontour\"}], \"mesh3d\": [{\"colorbar\": {\"outlinewidth\": 0, \"ticks\": \"\"}, \"type\": \"mesh3d\"}], \"parcoords\": [{\"line\": {\"colorbar\": {\"outlinewidth\": 0, \"ticks\": \"\"}}, \"type\": \"parcoords\"}], \"pie\": [{\"automargin\": true, \"type\": \"pie\"}], \"scatter\": [{\"marker\": {\"colorbar\": {\"outlinewidth\": 0, \"ticks\": \"\"}}, \"type\": \"scatter\"}], \"scatter3d\": [{\"line\": {\"colorbar\": {\"outlinewidth\": 0, \"ticks\": \"\"}}, \"marker\": {\"colorbar\": {\"outlinewidth\": 0, \"ticks\": \"\"}}, \"type\": \"scatter3d\"}], \"scattercarpet\": [{\"marker\": {\"colorbar\": {\"outlinewidth\": 0, \"ticks\": \"\"}}, \"type\": \"scattercarpet\"}], \"scattergeo\": [{\"marker\": {\"colorbar\": {\"outlinewidth\": 0, \"ticks\": \"\"}}, \"type\": \"scattergeo\"}], \"scattergl\": [{\"marker\": {\"colorbar\": {\"outlinewidth\": 0, \"ticks\": \"\"}}, \"type\": \"scattergl\"}], \"scattermapbox\": [{\"marker\": {\"colorbar\": {\"outlinewidth\": 0, \"ticks\": \"\"}}, \"type\": \"scattermapbox\"}], \"scatterpolar\": [{\"marker\": {\"colorbar\": {\"outlinewidth\": 0, \"ticks\": \"\"}}, \"type\": \"scatterpolar\"}], \"scatterpolargl\": [{\"marker\": {\"colorbar\": {\"outlinewidth\": 0, \"ticks\": \"\"}}, \"type\": \"scatterpolargl\"}], \"scatterternary\": [{\"marker\": {\"colorbar\": {\"outlinewidth\": 0, \"ticks\": \"\"}}, \"type\": \"scatterternary\"}], \"surface\": [{\"colorbar\": {\"outlinewidth\": 0, \"ticks\": \"\"}, \"colorscale\": [[0.0, \"#0d0887\"], [0.1111111111111111, \"#46039f\"], [0.2222222222222222, \"#7201a8\"], [0.3333333333333333, \"#9c179e\"], [0.4444444444444444, \"#bd3786\"], [0.5555555555555556, \"#d8576b\"], [0.6666666666666666, \"#ed7953\"], [0.7777777777777778, \"#fb9f3a\"], [0.8888888888888888, \"#fdca26\"], [1.0, \"#f0f921\"]], \"type\": \"surface\"}], \"table\": [{\"cells\": {\"fill\": {\"color\": \"#EBF0F8\"}, \"line\": {\"color\": \"white\"}}, \"header\": {\"fill\": {\"color\": \"#C8D4E3\"}, \"line\": {\"color\": \"white\"}}, \"type\": \"table\"}]}, \"layout\": {\"annotationdefaults\": {\"arrowcolor\": \"#2a3f5f\", \"arrowhead\": 0, \"arrowwidth\": 1}, \"coloraxis\": {\"colorbar\": {\"outlinewidth\": 0, \"ticks\": \"\"}}, \"colorscale\": {\"diverging\": [[0, \"#8e0152\"], [0.1, \"#c51b7d\"], [0.2, \"#de77ae\"], [0.3, \"#f1b6da\"], [0.4, \"#fde0ef\"], [0.5, \"#f7f7f7\"], [0.6, \"#e6f5d0\"], [0.7, \"#b8e186\"], [0.8, \"#7fbc41\"], [0.9, \"#4d9221\"], [1, \"#276419\"]], \"sequential\": [[0.0, \"#0d0887\"], [0.1111111111111111, \"#46039f\"], [0.2222222222222222, \"#7201a8\"], [0.3333333333333333, \"#9c179e\"], [0.4444444444444444, \"#bd3786\"], [0.5555555555555556, \"#d8576b\"], [0.6666666666666666, \"#ed7953\"], [0.7777777777777778, \"#fb9f3a\"], [0.8888888888888888, \"#fdca26\"], [1.0, \"#f0f921\"]], \"sequentialminus\": [[0.0, \"#0d0887\"], [0.1111111111111111, \"#46039f\"], [0.2222222222222222, \"#7201a8\"], [0.3333333333333333, \"#9c179e\"], [0.4444444444444444, \"#bd3786\"], [0.5555555555555556, \"#d8576b\"], [0.6666666666666666, \"#ed7953\"], [0.7777777777777778, \"#fb9f3a\"], [0.8888888888888888, \"#fdca26\"], [1.0, \"#f0f921\"]]}, \"colorway\": [\"#636efa\", \"#EF553B\", \"#00cc96\", \"#ab63fa\", \"#FFA15A\", \"#19d3f3\", \"#FF6692\", \"#B6E880\", \"#FF97FF\", \"#FECB52\"], \"font\": {\"color\": \"#2a3f5f\"}, \"geo\": {\"bgcolor\": \"white\", \"lakecolor\": \"white\", \"landcolor\": \"#E5ECF6\", \"showlakes\": true, \"showland\": true, \"subunitcolor\": \"white\"}, \"hoverlabel\": {\"align\": \"left\"}, \"hovermode\": \"closest\", \"mapbox\": {\"style\": \"light\"}, \"paper_bgcolor\": \"white\", \"plot_bgcolor\": \"#E5ECF6\", \"polar\": {\"angularaxis\": {\"gridcolor\": \"white\", \"linecolor\": \"white\", \"ticks\": \"\"}, \"bgcolor\": \"#E5ECF6\", \"radialaxis\": {\"gridcolor\": \"white\", \"linecolor\": \"white\", \"ticks\": \"\"}}, \"scene\": {\"xaxis\": {\"backgroundcolor\": \"#E5ECF6\", \"gridcolor\": \"white\", \"gridwidth\": 2, \"linecolor\": \"white\", \"showbackground\": true, \"ticks\": \"\", \"zerolinecolor\": \"white\"}, \"yaxis\": {\"backgroundcolor\": \"#E5ECF6\", \"gridcolor\": \"white\", \"gridwidth\": 2, \"linecolor\": \"white\", \"showbackground\": true, \"ticks\": \"\", \"zerolinecolor\": \"white\"}, \"zaxis\": {\"backgroundcolor\": \"#E5ECF6\", \"gridcolor\": \"white\", \"gridwidth\": 2, \"linecolor\": \"white\", \"showbackground\": true, \"ticks\": \"\", \"zerolinecolor\": \"white\"}}, \"shapedefaults\": {\"line\": {\"color\": \"#2a3f5f\"}}, \"ternary\": {\"aaxis\": {\"gridcolor\": \"white\", \"linecolor\": \"white\", \"ticks\": \"\"}, \"baxis\": {\"gridcolor\": \"white\", \"linecolor\": \"white\", \"ticks\": \"\"}, \"bgcolor\": \"#E5ECF6\", \"caxis\": {\"gridcolor\": \"white\", \"linecolor\": \"white\", \"ticks\": \"\"}}, \"title\": {\"x\": 0.05}, \"xaxis\": {\"automargin\": true, \"gridcolor\": \"white\", \"linecolor\": \"white\", \"ticks\": \"\", \"title\": {\"standoff\": 15}, \"zerolinecolor\": \"white\", \"zerolinewidth\": 2}, \"yaxis\": {\"automargin\": true, \"gridcolor\": \"white\", \"linecolor\": \"white\", \"ticks\": \"\", \"title\": {\"standoff\": 15}, \"zerolinecolor\": \"white\", \"zerolinewidth\": 2}}}, \"title\": {\"text\": \"Recovered Case Count\", \"x\": 0.5}, \"width\": 1000},\n",
       "                        {\"responsive\": true}\n",
       "                    ).then(function(){\n",
       "                            \n",
       "var gd = document.getElementById('ad468da4-36fc-4052-b7db-27f120c7e628');\n",
       "var x = new MutationObserver(function (mutations, observer) {{\n",
       "        var display = window.getComputedStyle(gd).display;\n",
       "        if (!display || display === 'none') {{\n",
       "            console.log([gd, 'removed!']);\n",
       "            Plotly.purge(gd);\n",
       "            observer.disconnect();\n",
       "        }}\n",
       "}});\n",
       "\n",
       "// Listen for the removal of the full notebook cells\n",
       "var notebookContainer = gd.closest('#notebook-container');\n",
       "if (notebookContainer) {{\n",
       "    x.observe(notebookContainer, {childList: true});\n",
       "}}\n",
       "\n",
       "// Listen for the clearing of the current output cell\n",
       "var outputEl = gd.closest('.output');\n",
       "if (outputEl) {{\n",
       "    x.observe(outputEl, {childList: true});\n",
       "}}\n",
       "\n",
       "                        })\n",
       "                };\n",
       "                });\n",
       "            </script>\n",
       "        </div>"
      ]
     },
     "metadata": {},
     "output_type": "display_data"
    }
   ],
   "source": [
    "plot_static('recovered','No of Recovered cases','greens', value='Recovered')\n"
   ]
  },
  {
   "cell_type": "markdown",
   "metadata": {},
   "source": [
    "## World Choropleth Map for Deceased"
   ]
  },
  {
   "cell_type": "code",
   "execution_count": 60,
   "metadata": {},
   "outputs": [
    {
     "data": {
      "application/vnd.plotly.v1+json": {
       "config": {
        "plotlyServerURL": "https://plot.ly"
       },
       "data": [
        {
         "autocolorscale": false,
         "colorbar": {
          "title": {
           "text": "No of cases of Death"
          }
         },
         "colorscale": [
          [
           0,
           "rgb(255,245,240)"
          ],
          [
           0.125,
           "rgb(254,224,210)"
          ],
          [
           0.25,
           "rgb(252,187,161)"
          ],
          [
           0.375,
           "rgb(252,146,114)"
          ],
          [
           0.5,
           "rgb(251,106,74)"
          ],
          [
           0.625,
           "rgb(239,59,44)"
          ],
          [
           0.75,
           "rgb(203,24,29)"
          ],
          [
           0.875,
           "rgb(165,15,21)"
          ],
          [
           1,
           "rgb(103,0,13)"
          ]
         ],
         "locations": [
          "AUS",
          "AUT",
          "CAN",
          "CHN",
          "DNK",
          "FIN",
          "FRA",
          "DEU",
          "ISL",
          "IRL",
          "ITA",
          "NLD",
          "NOR",
          "RUS",
          "SWE",
          "CHE",
          "GBR",
          "USA",
          "ESP",
          "MEX",
          "CHL",
          "BRA",
          "PER",
          "COL",
          "JPN",
          "UKR",
          "IND",
          "PAK",
          "AFG",
          "ALB",
          "DZA",
          "AND",
          "AGO",
          "ATG",
          "ARG",
          "ARM",
          "AZE",
          "BHS",
          "BHR",
          "BGD",
          "BRB",
          "BLR",
          "BEL",
          "BLZ",
          "BEN",
          "BTN",
          "BOL",
          "BIH",
          "BWA",
          "BRN",
          "BGR",
          "BFA",
          "MMR",
          "BDI",
          "CPV",
          "KHM",
          "CMR",
          "CAF",
          "TCD",
          "COM",
          "COG",
          "COD",
          "CRI",
          "CIV",
          "HRV",
          "CUB",
          "CYP",
          "CZE",
          null,
          "DJI",
          "DMA",
          "DOM",
          "ECU",
          "EGY",
          "SLV",
          "GNQ",
          "ERI",
          "EST",
          "SWZ",
          "ETH",
          "FJI",
          "GAB",
          "GMB",
          "GEO",
          "GHA",
          "GRC",
          "GRD",
          "GTM",
          "GIN",
          "GNB",
          "GUY",
          "HTI",
          "VAT",
          "HND",
          "HUN",
          "IDN",
          "IRN",
          "IRQ",
          "ISR",
          "JAM",
          "JOR",
          "KAZ",
          "KEN",
          "KOR",
          "XKS",
          "KWT",
          "KGZ",
          "LAO",
          "LVA",
          "LBN",
          "LSO",
          "LBR",
          "LBY",
          "LIE",
          "LTU",
          "LUX",
          null,
          "MDG",
          "MWI",
          "MYS",
          "MDV",
          "MLI",
          "MLT",
          "MRT",
          "MUS",
          "MDA",
          "MCO",
          "MNG",
          "MNE",
          "MAR",
          "MOZ",
          "NAM",
          "NPL",
          "NZL",
          "NIC",
          "NER",
          "NGA",
          "MKD",
          "OMN",
          "PAN",
          "PNG",
          "PRY",
          "PHL",
          "POL",
          "PRT",
          "QAT",
          "ROU",
          "RWA",
          "KNA",
          "LCA",
          "VCT",
          "SMR",
          "STP",
          "SAU",
          "SEN",
          "SRB",
          "SYC",
          "SLE",
          "SGP",
          "SVK",
          "SVN",
          "SOM",
          "ZAF",
          "SSD",
          "LKA",
          "SDN",
          "SUR",
          "SYR",
          "TWN",
          "TJK",
          "TZA",
          "THA",
          "TLS",
          "TGO",
          "TTO",
          "TUN",
          "TUR",
          "UGA",
          "ARE",
          "URY",
          "UZB",
          "VEN",
          "VNM",
          "PSE",
          "ESH",
          "YEM",
          "ZMB",
          "ZWE"
         ],
         "marker": {
          "line": {
           "color": "black",
           "width": 0.5
          }
         },
         "reversescale": false,
         "text": [
          "Australia",
          "Austria",
          "Canada",
          "China",
          "Denmark",
          "Finland",
          "France",
          "Germany",
          "Iceland",
          "Ireland",
          "Italy",
          "Netherlands",
          "Norway",
          "Russia",
          "Sweden",
          "Switzerland",
          "United Kingdom",
          "US",
          "Spain",
          "Mexico",
          "Chile",
          "Brazil",
          "Peru",
          "Colombia",
          "Japan",
          "Ukraine",
          "India",
          "Pakistan",
          "Afghanistan",
          "Albania",
          "Algeria",
          "Andorra",
          "Angola",
          "Antigua and Barbuda",
          "Argentina",
          "Armenia",
          "Azerbaijan",
          "Bahamas",
          "Bahrain",
          "Bangladesh",
          "Barbados",
          "Belarus",
          "Belgium",
          "Belize",
          "Benin",
          "Bhutan",
          "Bolivia",
          "Bosnia and Herzegovina",
          "Botswana",
          "Brunei",
          "Bulgaria",
          "Burkina Faso",
          "Burma",
          "Burundi",
          "Cabo Verde",
          "Cambodia",
          "Cameroon",
          "Central African Republic",
          "Chad",
          "Comoros",
          "Congo (Brazzaville)",
          "Congo (Kinshasa)",
          "Costa Rica",
          "Cote d'Ivoire",
          "Croatia",
          "Cuba",
          "Cyprus",
          "Czechia",
          "Diamond Princess",
          "Djibouti",
          "Dominica",
          "Dominican Republic",
          "Ecuador",
          "Egypt",
          "El Salvador",
          "Equatorial Guinea",
          "Eritrea",
          "Estonia",
          "Eswatini",
          "Ethiopia",
          "Fiji",
          "Gabon",
          "Gambia",
          "Georgia",
          "Ghana",
          "Greece",
          "Grenada",
          "Guatemala",
          "Guinea",
          "Guinea-Bissau",
          "Guyana",
          "Haiti",
          "Holy See",
          "Honduras",
          "Hungary",
          "Indonesia",
          "Iran",
          "Iraq",
          "Israel",
          "Jamaica",
          "Jordan",
          "Kazakhstan",
          "Kenya",
          "Korea, South",
          "Kosovo",
          "Kuwait",
          "Kyrgyzstan",
          "Laos",
          "Latvia",
          "Lebanon",
          "Lesotho",
          "Liberia",
          "Libya",
          "Liechtenstein",
          "Lithuania",
          "Luxembourg",
          "MS Zaandam",
          "Madagascar",
          "Malawi",
          "Malaysia",
          "Maldives",
          "Mali",
          "Malta",
          "Mauritania",
          "Mauritius",
          "Moldova",
          "Monaco",
          "Mongolia",
          "Montenegro",
          "Morocco",
          "Mozambique",
          "Namibia",
          "Nepal",
          "New Zealand",
          "Nicaragua",
          "Niger",
          "Nigeria",
          "North Macedonia",
          "Oman",
          "Panama",
          "Papua New Guinea",
          "Paraguay",
          "Philippines",
          "Poland",
          "Portugal",
          "Qatar",
          "Romania",
          "Rwanda",
          "Saint Kitts and Nevis",
          "Saint Lucia",
          "Saint Vincent and the Grenadines",
          "San Marino",
          "Sao Tome and Principe",
          "Saudi Arabia",
          "Senegal",
          "Serbia",
          "Seychelles",
          "Sierra Leone",
          "Singapore",
          "Slovakia",
          "Slovenia",
          "Somalia",
          "South Africa",
          "South Sudan",
          "Sri Lanka",
          "Sudan",
          "Suriname",
          "Syria",
          "Taiwan*",
          "Tajikistan",
          "Tanzania",
          "Thailand",
          "Timor-Leste",
          "Togo",
          "Trinidad and Tobago",
          "Tunisia",
          "Turkey",
          "Uganda",
          "United Arab Emirates",
          "Uruguay",
          "Uzbekistan",
          "Venezuela",
          "Vietnam",
          "West Bank and Gaza",
          "Western Sahara",
          "Yemen",
          "Zambia",
          "Zimbabwe"
         ],
         "type": "choropleth",
         "uid": "d7943610-590c-4d83-9489-7ce6e5d0e019",
         "z": [
          119,
          711,
          8884,
          4644,
          611,
          328,
          30155,
          9090,
          10,
          1752,
          35028,
          12295,
          255,
          12228,
          5619,
          1969,
          45318,
          139266,
          28420,
          38310,
          8347,
          77851,
          12799,
          6288,
          985,
          1496,
          26273,
          5522,
          1147,
          107,
          1057,
          52,
          29,
          3,
          2178,
          631,
          341,
          11,
          124,
          2581,
          7,
          491,
          9800,
          2,
          31,
          0,
          2049,
          245,
          1,
          3,
          297,
          53,
          6,
          1,
          19,
          0,
          373,
          53,
          75,
          7,
          49,
          193,
          47,
          87,
          120,
          87,
          19,
          358,
          13,
          56,
          0,
          942,
          5250,
          4188,
          324,
          51,
          0,
          69,
          21,
          150,
          0,
          46,
          4,
          15,
          144,
          194,
          0,
          1443,
          39,
          26,
          19,
          146,
          0,
          857,
          596,
          4016,
          13979,
          3616,
          392,
          10,
          10,
          375,
          222,
          294,
          124,
          404,
          173,
          0,
          31,
          40,
          6,
          69,
          47,
          1,
          79,
          111,
          2,
          54,
          55,
          122,
          15,
          121,
          9,
          151,
          10,
          675,
          4,
          0,
          28,
          264,
          9,
          2,
          40,
          22,
          99,
          69,
          772,
          406,
          308,
          1038,
          0,
          28,
          1773,
          1618,
          1682,
          153,
          2009,
          4,
          0,
          0,
          0,
          42,
          14,
          2407,
          160,
          452,
          0,
          65,
          27,
          28,
          111,
          93,
          4804,
          43,
          11,
          668,
          19,
          25,
          7,
          56,
          21,
          58,
          0,
          15,
          8,
          50,
          5458,
          0,
          338,
          32,
          80,
          107,
          0,
          55,
          1,
          440,
          109,
          24
         ]
        }
       ],
       "layout": {
        "autosize": true,
        "geo": {
         "bgcolor": "lightgrey",
         "projection": {
          "type": "equirectangular"
         },
         "showcoastlines": false,
         "showframe": false
        },
        "height": 900,
        "template": {
         "data": {
          "bar": [
           {
            "error_x": {
             "color": "#2a3f5f"
            },
            "error_y": {
             "color": "#2a3f5f"
            },
            "marker": {
             "line": {
              "color": "#E5ECF6",
              "width": 0.5
             }
            },
            "type": "bar"
           }
          ],
          "barpolar": [
           {
            "marker": {
             "line": {
              "color": "#E5ECF6",
              "width": 0.5
             }
            },
            "type": "barpolar"
           }
          ],
          "carpet": [
           {
            "aaxis": {
             "endlinecolor": "#2a3f5f",
             "gridcolor": "white",
             "linecolor": "white",
             "minorgridcolor": "white",
             "startlinecolor": "#2a3f5f"
            },
            "baxis": {
             "endlinecolor": "#2a3f5f",
             "gridcolor": "white",
             "linecolor": "white",
             "minorgridcolor": "white",
             "startlinecolor": "#2a3f5f"
            },
            "type": "carpet"
           }
          ],
          "choropleth": [
           {
            "colorbar": {
             "outlinewidth": 0,
             "ticks": ""
            },
            "type": "choropleth"
           }
          ],
          "contour": [
           {
            "colorbar": {
             "outlinewidth": 0,
             "ticks": ""
            },
            "colorscale": [
             [
              0,
              "#0d0887"
             ],
             [
              0.1111111111111111,
              "#46039f"
             ],
             [
              0.2222222222222222,
              "#7201a8"
             ],
             [
              0.3333333333333333,
              "#9c179e"
             ],
             [
              0.4444444444444444,
              "#bd3786"
             ],
             [
              0.5555555555555556,
              "#d8576b"
             ],
             [
              0.6666666666666666,
              "#ed7953"
             ],
             [
              0.7777777777777778,
              "#fb9f3a"
             ],
             [
              0.8888888888888888,
              "#fdca26"
             ],
             [
              1,
              "#f0f921"
             ]
            ],
            "type": "contour"
           }
          ],
          "contourcarpet": [
           {
            "colorbar": {
             "outlinewidth": 0,
             "ticks": ""
            },
            "type": "contourcarpet"
           }
          ],
          "heatmap": [
           {
            "colorbar": {
             "outlinewidth": 0,
             "ticks": ""
            },
            "colorscale": [
             [
              0,
              "#0d0887"
             ],
             [
              0.1111111111111111,
              "#46039f"
             ],
             [
              0.2222222222222222,
              "#7201a8"
             ],
             [
              0.3333333333333333,
              "#9c179e"
             ],
             [
              0.4444444444444444,
              "#bd3786"
             ],
             [
              0.5555555555555556,
              "#d8576b"
             ],
             [
              0.6666666666666666,
              "#ed7953"
             ],
             [
              0.7777777777777778,
              "#fb9f3a"
             ],
             [
              0.8888888888888888,
              "#fdca26"
             ],
             [
              1,
              "#f0f921"
             ]
            ],
            "type": "heatmap"
           }
          ],
          "heatmapgl": [
           {
            "colorbar": {
             "outlinewidth": 0,
             "ticks": ""
            },
            "colorscale": [
             [
              0,
              "#0d0887"
             ],
             [
              0.1111111111111111,
              "#46039f"
             ],
             [
              0.2222222222222222,
              "#7201a8"
             ],
             [
              0.3333333333333333,
              "#9c179e"
             ],
             [
              0.4444444444444444,
              "#bd3786"
             ],
             [
              0.5555555555555556,
              "#d8576b"
             ],
             [
              0.6666666666666666,
              "#ed7953"
             ],
             [
              0.7777777777777778,
              "#fb9f3a"
             ],
             [
              0.8888888888888888,
              "#fdca26"
             ],
             [
              1,
              "#f0f921"
             ]
            ],
            "type": "heatmapgl"
           }
          ],
          "histogram": [
           {
            "marker": {
             "colorbar": {
              "outlinewidth": 0,
              "ticks": ""
             }
            },
            "type": "histogram"
           }
          ],
          "histogram2d": [
           {
            "colorbar": {
             "outlinewidth": 0,
             "ticks": ""
            },
            "colorscale": [
             [
              0,
              "#0d0887"
             ],
             [
              0.1111111111111111,
              "#46039f"
             ],
             [
              0.2222222222222222,
              "#7201a8"
             ],
             [
              0.3333333333333333,
              "#9c179e"
             ],
             [
              0.4444444444444444,
              "#bd3786"
             ],
             [
              0.5555555555555556,
              "#d8576b"
             ],
             [
              0.6666666666666666,
              "#ed7953"
             ],
             [
              0.7777777777777778,
              "#fb9f3a"
             ],
             [
              0.8888888888888888,
              "#fdca26"
             ],
             [
              1,
              "#f0f921"
             ]
            ],
            "type": "histogram2d"
           }
          ],
          "histogram2dcontour": [
           {
            "colorbar": {
             "outlinewidth": 0,
             "ticks": ""
            },
            "colorscale": [
             [
              0,
              "#0d0887"
             ],
             [
              0.1111111111111111,
              "#46039f"
             ],
             [
              0.2222222222222222,
              "#7201a8"
             ],
             [
              0.3333333333333333,
              "#9c179e"
             ],
             [
              0.4444444444444444,
              "#bd3786"
             ],
             [
              0.5555555555555556,
              "#d8576b"
             ],
             [
              0.6666666666666666,
              "#ed7953"
             ],
             [
              0.7777777777777778,
              "#fb9f3a"
             ],
             [
              0.8888888888888888,
              "#fdca26"
             ],
             [
              1,
              "#f0f921"
             ]
            ],
            "type": "histogram2dcontour"
           }
          ],
          "mesh3d": [
           {
            "colorbar": {
             "outlinewidth": 0,
             "ticks": ""
            },
            "type": "mesh3d"
           }
          ],
          "parcoords": [
           {
            "line": {
             "colorbar": {
              "outlinewidth": 0,
              "ticks": ""
             }
            },
            "type": "parcoords"
           }
          ],
          "pie": [
           {
            "automargin": true,
            "type": "pie"
           }
          ],
          "scatter": [
           {
            "marker": {
             "colorbar": {
              "outlinewidth": 0,
              "ticks": ""
             }
            },
            "type": "scatter"
           }
          ],
          "scatter3d": [
           {
            "line": {
             "colorbar": {
              "outlinewidth": 0,
              "ticks": ""
             }
            },
            "marker": {
             "colorbar": {
              "outlinewidth": 0,
              "ticks": ""
             }
            },
            "type": "scatter3d"
           }
          ],
          "scattercarpet": [
           {
            "marker": {
             "colorbar": {
              "outlinewidth": 0,
              "ticks": ""
             }
            },
            "type": "scattercarpet"
           }
          ],
          "scattergeo": [
           {
            "marker": {
             "colorbar": {
              "outlinewidth": 0,
              "ticks": ""
             }
            },
            "type": "scattergeo"
           }
          ],
          "scattergl": [
           {
            "marker": {
             "colorbar": {
              "outlinewidth": 0,
              "ticks": ""
             }
            },
            "type": "scattergl"
           }
          ],
          "scattermapbox": [
           {
            "marker": {
             "colorbar": {
              "outlinewidth": 0,
              "ticks": ""
             }
            },
            "type": "scattermapbox"
           }
          ],
          "scatterpolar": [
           {
            "marker": {
             "colorbar": {
              "outlinewidth": 0,
              "ticks": ""
             }
            },
            "type": "scatterpolar"
           }
          ],
          "scatterpolargl": [
           {
            "marker": {
             "colorbar": {
              "outlinewidth": 0,
              "ticks": ""
             }
            },
            "type": "scatterpolargl"
           }
          ],
          "scatterternary": [
           {
            "marker": {
             "colorbar": {
              "outlinewidth": 0,
              "ticks": ""
             }
            },
            "type": "scatterternary"
           }
          ],
          "surface": [
           {
            "colorbar": {
             "outlinewidth": 0,
             "ticks": ""
            },
            "colorscale": [
             [
              0,
              "#0d0887"
             ],
             [
              0.1111111111111111,
              "#46039f"
             ],
             [
              0.2222222222222222,
              "#7201a8"
             ],
             [
              0.3333333333333333,
              "#9c179e"
             ],
             [
              0.4444444444444444,
              "#bd3786"
             ],
             [
              0.5555555555555556,
              "#d8576b"
             ],
             [
              0.6666666666666666,
              "#ed7953"
             ],
             [
              0.7777777777777778,
              "#fb9f3a"
             ],
             [
              0.8888888888888888,
              "#fdca26"
             ],
             [
              1,
              "#f0f921"
             ]
            ],
            "type": "surface"
           }
          ],
          "table": [
           {
            "cells": {
             "fill": {
              "color": "#EBF0F8"
             },
             "line": {
              "color": "white"
             }
            },
            "header": {
             "fill": {
              "color": "#C8D4E3"
             },
             "line": {
              "color": "white"
             }
            },
            "type": "table"
           }
          ]
         },
         "layout": {
          "annotationdefaults": {
           "arrowcolor": "#2a3f5f",
           "arrowhead": 0,
           "arrowwidth": 1
          },
          "coloraxis": {
           "colorbar": {
            "outlinewidth": 0,
            "ticks": ""
           }
          },
          "colorscale": {
           "diverging": [
            [
             0,
             "#8e0152"
            ],
            [
             0.1,
             "#c51b7d"
            ],
            [
             0.2,
             "#de77ae"
            ],
            [
             0.3,
             "#f1b6da"
            ],
            [
             0.4,
             "#fde0ef"
            ],
            [
             0.5,
             "#f7f7f7"
            ],
            [
             0.6,
             "#e6f5d0"
            ],
            [
             0.7,
             "#b8e186"
            ],
            [
             0.8,
             "#7fbc41"
            ],
            [
             0.9,
             "#4d9221"
            ],
            [
             1,
             "#276419"
            ]
           ],
           "sequential": [
            [
             0,
             "#0d0887"
            ],
            [
             0.1111111111111111,
             "#46039f"
            ],
            [
             0.2222222222222222,
             "#7201a8"
            ],
            [
             0.3333333333333333,
             "#9c179e"
            ],
            [
             0.4444444444444444,
             "#bd3786"
            ],
            [
             0.5555555555555556,
             "#d8576b"
            ],
            [
             0.6666666666666666,
             "#ed7953"
            ],
            [
             0.7777777777777778,
             "#fb9f3a"
            ],
            [
             0.8888888888888888,
             "#fdca26"
            ],
            [
             1,
             "#f0f921"
            ]
           ],
           "sequentialminus": [
            [
             0,
             "#0d0887"
            ],
            [
             0.1111111111111111,
             "#46039f"
            ],
            [
             0.2222222222222222,
             "#7201a8"
            ],
            [
             0.3333333333333333,
             "#9c179e"
            ],
            [
             0.4444444444444444,
             "#bd3786"
            ],
            [
             0.5555555555555556,
             "#d8576b"
            ],
            [
             0.6666666666666666,
             "#ed7953"
            ],
            [
             0.7777777777777778,
             "#fb9f3a"
            ],
            [
             0.8888888888888888,
             "#fdca26"
            ],
            [
             1,
             "#f0f921"
            ]
           ]
          },
          "colorway": [
           "#636efa",
           "#EF553B",
           "#00cc96",
           "#ab63fa",
           "#FFA15A",
           "#19d3f3",
           "#FF6692",
           "#B6E880",
           "#FF97FF",
           "#FECB52"
          ],
          "font": {
           "color": "#2a3f5f"
          },
          "geo": {
           "bgcolor": "white",
           "lakecolor": "white",
           "landcolor": "#E5ECF6",
           "showlakes": true,
           "showland": true,
           "subunitcolor": "white"
          },
          "hoverlabel": {
           "align": "left"
          },
          "hovermode": "closest",
          "mapbox": {
           "style": "light"
          },
          "paper_bgcolor": "white",
          "plot_bgcolor": "#E5ECF6",
          "polar": {
           "angularaxis": {
            "gridcolor": "white",
            "linecolor": "white",
            "ticks": ""
           },
           "bgcolor": "#E5ECF6",
           "radialaxis": {
            "gridcolor": "white",
            "linecolor": "white",
            "ticks": ""
           }
          },
          "scene": {
           "xaxis": {
            "backgroundcolor": "#E5ECF6",
            "gridcolor": "white",
            "gridwidth": 2,
            "linecolor": "white",
            "showbackground": true,
            "ticks": "",
            "zerolinecolor": "white"
           },
           "yaxis": {
            "backgroundcolor": "#E5ECF6",
            "gridcolor": "white",
            "gridwidth": 2,
            "linecolor": "white",
            "showbackground": true,
            "ticks": "",
            "zerolinecolor": "white"
           },
           "zaxis": {
            "backgroundcolor": "#E5ECF6",
            "gridcolor": "white",
            "gridwidth": 2,
            "linecolor": "white",
            "showbackground": true,
            "ticks": "",
            "zerolinecolor": "white"
           }
          },
          "shapedefaults": {
           "line": {
            "color": "#2a3f5f"
           }
          },
          "ternary": {
           "aaxis": {
            "gridcolor": "white",
            "linecolor": "white",
            "ticks": ""
           },
           "baxis": {
            "gridcolor": "white",
            "linecolor": "white",
            "ticks": ""
           },
           "bgcolor": "#E5ECF6",
           "caxis": {
            "gridcolor": "white",
            "linecolor": "white",
            "ticks": ""
           }
          },
          "title": {
           "x": 0.05
          },
          "xaxis": {
           "automargin": true,
           "gridcolor": "white",
           "linecolor": "white",
           "ticks": "",
           "title": {
            "standoff": 15
           },
           "zerolinecolor": "white",
           "zerolinewidth": 2
          },
          "yaxis": {
           "automargin": true,
           "gridcolor": "white",
           "linecolor": "white",
           "ticks": "",
           "title": {
            "standoff": 15
           },
           "zerolinecolor": "white",
           "zerolinewidth": 2
          }
         }
        },
        "title": {
         "text": "Death Case Count",
         "x": 0.5
        },
        "width": 1000
       }
      },
      "text/html": [
       "<div>\n",
       "        \n",
       "        \n",
       "            <div id=\"fad6b7a9-69c1-4d72-b41b-8bf9bb914839\" class=\"plotly-graph-div\" style=\"height:900px; width:1000px;\"></div>\n",
       "            <script type=\"text/javascript\">\n",
       "                require([\"plotly\"], function(Plotly) {\n",
       "                    window.PLOTLYENV=window.PLOTLYENV || {};\n",
       "                    \n",
       "                if (document.getElementById(\"fad6b7a9-69c1-4d72-b41b-8bf9bb914839\")) {\n",
       "                    Plotly.newPlot(\n",
       "                        'fad6b7a9-69c1-4d72-b41b-8bf9bb914839',\n",
       "                        [{\"autocolorscale\": false, \"colorbar\": {\"title\": {\"text\": \"No of cases of Death\"}}, \"colorscale\": [[0.0, \"rgb(255,245,240)\"], [0.125, \"rgb(254,224,210)\"], [0.25, \"rgb(252,187,161)\"], [0.375, \"rgb(252,146,114)\"], [0.5, \"rgb(251,106,74)\"], [0.625, \"rgb(239,59,44)\"], [0.75, \"rgb(203,24,29)\"], [0.875, \"rgb(165,15,21)\"], [1.0, \"rgb(103,0,13)\"]], \"locations\": [\"AUS\", \"AUT\", \"CAN\", \"CHN\", \"DNK\", \"FIN\", \"FRA\", \"DEU\", \"ISL\", \"IRL\", \"ITA\", \"NLD\", \"NOR\", \"RUS\", \"SWE\", \"CHE\", \"GBR\", \"USA\", \"ESP\", \"MEX\", \"CHL\", \"BRA\", \"PER\", \"COL\", \"JPN\", \"UKR\", \"IND\", \"PAK\", \"AFG\", \"ALB\", \"DZA\", \"AND\", \"AGO\", \"ATG\", \"ARG\", \"ARM\", \"AZE\", \"BHS\", \"BHR\", \"BGD\", \"BRB\", \"BLR\", \"BEL\", \"BLZ\", \"BEN\", \"BTN\", \"BOL\", \"BIH\", \"BWA\", \"BRN\", \"BGR\", \"BFA\", \"MMR\", \"BDI\", \"CPV\", \"KHM\", \"CMR\", \"CAF\", \"TCD\", \"COM\", \"COG\", \"COD\", \"CRI\", \"CIV\", \"HRV\", \"CUB\", \"CYP\", \"CZE\", null, \"DJI\", \"DMA\", \"DOM\", \"ECU\", \"EGY\", \"SLV\", \"GNQ\", \"ERI\", \"EST\", \"SWZ\", \"ETH\", \"FJI\", \"GAB\", \"GMB\", \"GEO\", \"GHA\", \"GRC\", \"GRD\", \"GTM\", \"GIN\", \"GNB\", \"GUY\", \"HTI\", \"VAT\", \"HND\", \"HUN\", \"IDN\", \"IRN\", \"IRQ\", \"ISR\", \"JAM\", \"JOR\", \"KAZ\", \"KEN\", \"KOR\", \"XKS\", \"KWT\", \"KGZ\", \"LAO\", \"LVA\", \"LBN\", \"LSO\", \"LBR\", \"LBY\", \"LIE\", \"LTU\", \"LUX\", null, \"MDG\", \"MWI\", \"MYS\", \"MDV\", \"MLI\", \"MLT\", \"MRT\", \"MUS\", \"MDA\", \"MCO\", \"MNG\", \"MNE\", \"MAR\", \"MOZ\", \"NAM\", \"NPL\", \"NZL\", \"NIC\", \"NER\", \"NGA\", \"MKD\", \"OMN\", \"PAN\", \"PNG\", \"PRY\", \"PHL\", \"POL\", \"PRT\", \"QAT\", \"ROU\", \"RWA\", \"KNA\", \"LCA\", \"VCT\", \"SMR\", \"STP\", \"SAU\", \"SEN\", \"SRB\", \"SYC\", \"SLE\", \"SGP\", \"SVK\", \"SVN\", \"SOM\", \"ZAF\", \"SSD\", \"LKA\", \"SDN\", \"SUR\", \"SYR\", \"TWN\", \"TJK\", \"TZA\", \"THA\", \"TLS\", \"TGO\", \"TTO\", \"TUN\", \"TUR\", \"UGA\", \"ARE\", \"URY\", \"UZB\", \"VEN\", \"VNM\", \"PSE\", \"ESH\", \"YEM\", \"ZMB\", \"ZWE\"], \"marker\": {\"line\": {\"color\": \"black\", \"width\": 0.5}}, \"reversescale\": false, \"text\": [\"Australia\", \"Austria\", \"Canada\", \"China\", \"Denmark\", \"Finland\", \"France\", \"Germany\", \"Iceland\", \"Ireland\", \"Italy\", \"Netherlands\", \"Norway\", \"Russia\", \"Sweden\", \"Switzerland\", \"United Kingdom\", \"US\", \"Spain\", \"Mexico\", \"Chile\", \"Brazil\", \"Peru\", \"Colombia\", \"Japan\", \"Ukraine\", \"India\", \"Pakistan\", \"Afghanistan\", \"Albania\", \"Algeria\", \"Andorra\", \"Angola\", \"Antigua and Barbuda\", \"Argentina\", \"Armenia\", \"Azerbaijan\", \"Bahamas\", \"Bahrain\", \"Bangladesh\", \"Barbados\", \"Belarus\", \"Belgium\", \"Belize\", \"Benin\", \"Bhutan\", \"Bolivia\", \"Bosnia and Herzegovina\", \"Botswana\", \"Brunei\", \"Bulgaria\", \"Burkina Faso\", \"Burma\", \"Burundi\", \"Cabo Verde\", \"Cambodia\", \"Cameroon\", \"Central African Republic\", \"Chad\", \"Comoros\", \"Congo (Brazzaville)\", \"Congo (Kinshasa)\", \"Costa Rica\", \"Cote d'Ivoire\", \"Croatia\", \"Cuba\", \"Cyprus\", \"Czechia\", \"Diamond Princess\", \"Djibouti\", \"Dominica\", \"Dominican Republic\", \"Ecuador\", \"Egypt\", \"El Salvador\", \"Equatorial Guinea\", \"Eritrea\", \"Estonia\", \"Eswatini\", \"Ethiopia\", \"Fiji\", \"Gabon\", \"Gambia\", \"Georgia\", \"Ghana\", \"Greece\", \"Grenada\", \"Guatemala\", \"Guinea\", \"Guinea-Bissau\", \"Guyana\", \"Haiti\", \"Holy See\", \"Honduras\", \"Hungary\", \"Indonesia\", \"Iran\", \"Iraq\", \"Israel\", \"Jamaica\", \"Jordan\", \"Kazakhstan\", \"Kenya\", \"Korea, South\", \"Kosovo\", \"Kuwait\", \"Kyrgyzstan\", \"Laos\", \"Latvia\", \"Lebanon\", \"Lesotho\", \"Liberia\", \"Libya\", \"Liechtenstein\", \"Lithuania\", \"Luxembourg\", \"MS Zaandam\", \"Madagascar\", \"Malawi\", \"Malaysia\", \"Maldives\", \"Mali\", \"Malta\", \"Mauritania\", \"Mauritius\", \"Moldova\", \"Monaco\", \"Mongolia\", \"Montenegro\", \"Morocco\", \"Mozambique\", \"Namibia\", \"Nepal\", \"New Zealand\", \"Nicaragua\", \"Niger\", \"Nigeria\", \"North Macedonia\", \"Oman\", \"Panama\", \"Papua New Guinea\", \"Paraguay\", \"Philippines\", \"Poland\", \"Portugal\", \"Qatar\", \"Romania\", \"Rwanda\", \"Saint Kitts and Nevis\", \"Saint Lucia\", \"Saint Vincent and the Grenadines\", \"San Marino\", \"Sao Tome and Principe\", \"Saudi Arabia\", \"Senegal\", \"Serbia\", \"Seychelles\", \"Sierra Leone\", \"Singapore\", \"Slovakia\", \"Slovenia\", \"Somalia\", \"South Africa\", \"South Sudan\", \"Sri Lanka\", \"Sudan\", \"Suriname\", \"Syria\", \"Taiwan*\", \"Tajikistan\", \"Tanzania\", \"Thailand\", \"Timor-Leste\", \"Togo\", \"Trinidad and Tobago\", \"Tunisia\", \"Turkey\", \"Uganda\", \"United Arab Emirates\", \"Uruguay\", \"Uzbekistan\", \"Venezuela\", \"Vietnam\", \"West Bank and Gaza\", \"Western Sahara\", \"Yemen\", \"Zambia\", \"Zimbabwe\"], \"type\": \"choropleth\", \"uid\": \"d7943610-590c-4d83-9489-7ce6e5d0e019\", \"z\": [119.0, 711.0, 8884.0, 4644.0, 611.0, 328.0, 30155.0, 9090.0, 10.0, 1752.0, 35028.0, 12295.0, 255.0, 12228.0, 5619.0, 1969.0, 45318.0, 139266.0, 28420.0, 38310.0, 8347.0, 77851.0, 12799.0, 6288.0, 985.0, 1496.0, 26273.0, 5522.0, 1147.0, 107.0, 1057.0, 52.0, 29.0, 3.0, 2178.0, 631.0, 341.0, 11.0, 124.0, 2581.0, 7.0, 491.0, 9800.0, 2.0, 31.0, 0.0, 2049.0, 245.0, 1.0, 3.0, 297.0, 53.0, 6.0, 1.0, 19.0, 0.0, 373.0, 53.0, 75.0, 7.0, 49.0, 193.0, 47.0, 87.0, 120.0, 87.0, 19.0, 358.0, 13.0, 56.0, 0.0, 942.0, 5250.0, 4188.0, 324.0, 51.0, 0.0, 69.0, 21.0, 150.0, 0.0, 46.0, 4.0, 15.0, 144.0, 194.0, 0.0, 1443.0, 39.0, 26.0, 19.0, 146.0, 0.0, 857.0, 596.0, 4016.0, 13979.0, 3616.0, 392.0, 10.0, 10.0, 375.0, 222.0, 294.0, 124.0, 404.0, 173.0, 0.0, 31.0, 40.0, 6.0, 69.0, 47.0, 1.0, 79.0, 111.0, 2.0, 54.0, 55.0, 122.0, 15.0, 121.0, 9.0, 151.0, 10.0, 675.0, 4.0, 0.0, 28.0, 264.0, 9.0, 2.0, 40.0, 22.0, 99.0, 69.0, 772.0, 406.0, 308.0, 1038.0, 0.0, 28.0, 1773.0, 1618.0, 1682.0, 153.0, 2009.0, 4.0, 0.0, 0.0, 0.0, 42.0, 14.0, 2407.0, 160.0, 452.0, 0.0, 65.0, 27.0, 28.0, 111.0, 93.0, 4804.0, 43.0, 11.0, 668.0, 19.0, 25.0, 7.0, 56.0, 21.0, 58.0, 0.0, 15.0, 8.0, 50.0, 5458.0, 0.0, 338.0, 32.0, 80.0, 107.0, 0.0, 55.0, 1.0, 440.0, 109.0, 24.0]}],\n",
       "                        {\"autosize\": true, \"geo\": {\"bgcolor\": \"lightgrey\", \"projection\": {\"type\": \"equirectangular\"}, \"showcoastlines\": false, \"showframe\": false}, \"height\": 900, \"template\": {\"data\": {\"bar\": [{\"error_x\": {\"color\": \"#2a3f5f\"}, \"error_y\": {\"color\": \"#2a3f5f\"}, \"marker\": {\"line\": {\"color\": \"#E5ECF6\", \"width\": 0.5}}, \"type\": \"bar\"}], \"barpolar\": [{\"marker\": {\"line\": {\"color\": \"#E5ECF6\", \"width\": 0.5}}, \"type\": \"barpolar\"}], \"carpet\": [{\"aaxis\": {\"endlinecolor\": \"#2a3f5f\", \"gridcolor\": \"white\", \"linecolor\": \"white\", \"minorgridcolor\": \"white\", \"startlinecolor\": \"#2a3f5f\"}, \"baxis\": {\"endlinecolor\": \"#2a3f5f\", \"gridcolor\": \"white\", \"linecolor\": \"white\", \"minorgridcolor\": \"white\", \"startlinecolor\": \"#2a3f5f\"}, \"type\": \"carpet\"}], \"choropleth\": [{\"colorbar\": {\"outlinewidth\": 0, \"ticks\": \"\"}, \"type\": \"choropleth\"}], \"contour\": [{\"colorbar\": {\"outlinewidth\": 0, \"ticks\": \"\"}, \"colorscale\": [[0.0, \"#0d0887\"], [0.1111111111111111, \"#46039f\"], [0.2222222222222222, \"#7201a8\"], [0.3333333333333333, \"#9c179e\"], [0.4444444444444444, \"#bd3786\"], [0.5555555555555556, \"#d8576b\"], [0.6666666666666666, \"#ed7953\"], [0.7777777777777778, \"#fb9f3a\"], [0.8888888888888888, \"#fdca26\"], [1.0, \"#f0f921\"]], \"type\": \"contour\"}], \"contourcarpet\": [{\"colorbar\": {\"outlinewidth\": 0, \"ticks\": \"\"}, \"type\": \"contourcarpet\"}], \"heatmap\": [{\"colorbar\": {\"outlinewidth\": 0, \"ticks\": \"\"}, \"colorscale\": [[0.0, \"#0d0887\"], [0.1111111111111111, \"#46039f\"], [0.2222222222222222, \"#7201a8\"], [0.3333333333333333, \"#9c179e\"], [0.4444444444444444, \"#bd3786\"], [0.5555555555555556, \"#d8576b\"], [0.6666666666666666, \"#ed7953\"], [0.7777777777777778, \"#fb9f3a\"], [0.8888888888888888, \"#fdca26\"], [1.0, \"#f0f921\"]], \"type\": \"heatmap\"}], \"heatmapgl\": [{\"colorbar\": {\"outlinewidth\": 0, \"ticks\": \"\"}, \"colorscale\": [[0.0, \"#0d0887\"], [0.1111111111111111, \"#46039f\"], [0.2222222222222222, \"#7201a8\"], [0.3333333333333333, \"#9c179e\"], [0.4444444444444444, \"#bd3786\"], [0.5555555555555556, \"#d8576b\"], [0.6666666666666666, \"#ed7953\"], [0.7777777777777778, \"#fb9f3a\"], [0.8888888888888888, \"#fdca26\"], [1.0, \"#f0f921\"]], \"type\": \"heatmapgl\"}], \"histogram\": [{\"marker\": {\"colorbar\": {\"outlinewidth\": 0, \"ticks\": \"\"}}, \"type\": \"histogram\"}], \"histogram2d\": [{\"colorbar\": {\"outlinewidth\": 0, \"ticks\": \"\"}, \"colorscale\": [[0.0, \"#0d0887\"], [0.1111111111111111, \"#46039f\"], [0.2222222222222222, \"#7201a8\"], [0.3333333333333333, \"#9c179e\"], [0.4444444444444444, \"#bd3786\"], [0.5555555555555556, \"#d8576b\"], [0.6666666666666666, \"#ed7953\"], [0.7777777777777778, \"#fb9f3a\"], [0.8888888888888888, \"#fdca26\"], [1.0, \"#f0f921\"]], \"type\": \"histogram2d\"}], \"histogram2dcontour\": [{\"colorbar\": {\"outlinewidth\": 0, \"ticks\": \"\"}, \"colorscale\": [[0.0, \"#0d0887\"], [0.1111111111111111, \"#46039f\"], [0.2222222222222222, \"#7201a8\"], [0.3333333333333333, \"#9c179e\"], [0.4444444444444444, \"#bd3786\"], [0.5555555555555556, \"#d8576b\"], [0.6666666666666666, \"#ed7953\"], [0.7777777777777778, \"#fb9f3a\"], [0.8888888888888888, \"#fdca26\"], [1.0, \"#f0f921\"]], \"type\": \"histogram2dcontour\"}], \"mesh3d\": [{\"colorbar\": {\"outlinewidth\": 0, \"ticks\": \"\"}, \"type\": \"mesh3d\"}], \"parcoords\": [{\"line\": {\"colorbar\": {\"outlinewidth\": 0, \"ticks\": \"\"}}, \"type\": \"parcoords\"}], \"pie\": [{\"automargin\": true, \"type\": \"pie\"}], \"scatter\": [{\"marker\": {\"colorbar\": {\"outlinewidth\": 0, \"ticks\": \"\"}}, \"type\": \"scatter\"}], \"scatter3d\": [{\"line\": {\"colorbar\": {\"outlinewidth\": 0, \"ticks\": \"\"}}, \"marker\": {\"colorbar\": {\"outlinewidth\": 0, \"ticks\": \"\"}}, \"type\": \"scatter3d\"}], \"scattercarpet\": [{\"marker\": {\"colorbar\": {\"outlinewidth\": 0, \"ticks\": \"\"}}, \"type\": \"scattercarpet\"}], \"scattergeo\": [{\"marker\": {\"colorbar\": {\"outlinewidth\": 0, \"ticks\": \"\"}}, \"type\": \"scattergeo\"}], \"scattergl\": [{\"marker\": {\"colorbar\": {\"outlinewidth\": 0, \"ticks\": \"\"}}, \"type\": \"scattergl\"}], \"scattermapbox\": [{\"marker\": {\"colorbar\": {\"outlinewidth\": 0, \"ticks\": \"\"}}, \"type\": \"scattermapbox\"}], \"scatterpolar\": [{\"marker\": {\"colorbar\": {\"outlinewidth\": 0, \"ticks\": \"\"}}, \"type\": \"scatterpolar\"}], \"scatterpolargl\": [{\"marker\": {\"colorbar\": {\"outlinewidth\": 0, \"ticks\": \"\"}}, \"type\": \"scatterpolargl\"}], \"scatterternary\": [{\"marker\": {\"colorbar\": {\"outlinewidth\": 0, \"ticks\": \"\"}}, \"type\": \"scatterternary\"}], \"surface\": [{\"colorbar\": {\"outlinewidth\": 0, \"ticks\": \"\"}, \"colorscale\": [[0.0, \"#0d0887\"], [0.1111111111111111, \"#46039f\"], [0.2222222222222222, \"#7201a8\"], [0.3333333333333333, \"#9c179e\"], [0.4444444444444444, \"#bd3786\"], [0.5555555555555556, \"#d8576b\"], [0.6666666666666666, \"#ed7953\"], [0.7777777777777778, \"#fb9f3a\"], [0.8888888888888888, \"#fdca26\"], [1.0, \"#f0f921\"]], \"type\": \"surface\"}], \"table\": [{\"cells\": {\"fill\": {\"color\": \"#EBF0F8\"}, \"line\": {\"color\": \"white\"}}, \"header\": {\"fill\": {\"color\": \"#C8D4E3\"}, \"line\": {\"color\": \"white\"}}, \"type\": \"table\"}]}, \"layout\": {\"annotationdefaults\": {\"arrowcolor\": \"#2a3f5f\", \"arrowhead\": 0, \"arrowwidth\": 1}, \"coloraxis\": {\"colorbar\": {\"outlinewidth\": 0, \"ticks\": \"\"}}, \"colorscale\": {\"diverging\": [[0, \"#8e0152\"], [0.1, \"#c51b7d\"], [0.2, \"#de77ae\"], [0.3, \"#f1b6da\"], [0.4, \"#fde0ef\"], [0.5, \"#f7f7f7\"], [0.6, \"#e6f5d0\"], [0.7, \"#b8e186\"], [0.8, \"#7fbc41\"], [0.9, \"#4d9221\"], [1, \"#276419\"]], \"sequential\": [[0.0, \"#0d0887\"], [0.1111111111111111, \"#46039f\"], [0.2222222222222222, \"#7201a8\"], [0.3333333333333333, \"#9c179e\"], [0.4444444444444444, \"#bd3786\"], [0.5555555555555556, \"#d8576b\"], [0.6666666666666666, \"#ed7953\"], [0.7777777777777778, \"#fb9f3a\"], [0.8888888888888888, \"#fdca26\"], [1.0, \"#f0f921\"]], \"sequentialminus\": [[0.0, \"#0d0887\"], [0.1111111111111111, \"#46039f\"], [0.2222222222222222, \"#7201a8\"], [0.3333333333333333, \"#9c179e\"], [0.4444444444444444, \"#bd3786\"], [0.5555555555555556, \"#d8576b\"], [0.6666666666666666, \"#ed7953\"], [0.7777777777777778, \"#fb9f3a\"], [0.8888888888888888, \"#fdca26\"], [1.0, \"#f0f921\"]]}, \"colorway\": [\"#636efa\", \"#EF553B\", \"#00cc96\", \"#ab63fa\", \"#FFA15A\", \"#19d3f3\", \"#FF6692\", \"#B6E880\", \"#FF97FF\", \"#FECB52\"], \"font\": {\"color\": \"#2a3f5f\"}, \"geo\": {\"bgcolor\": \"white\", \"lakecolor\": \"white\", \"landcolor\": \"#E5ECF6\", \"showlakes\": true, \"showland\": true, \"subunitcolor\": \"white\"}, \"hoverlabel\": {\"align\": \"left\"}, \"hovermode\": \"closest\", \"mapbox\": {\"style\": \"light\"}, \"paper_bgcolor\": \"white\", \"plot_bgcolor\": \"#E5ECF6\", \"polar\": {\"angularaxis\": {\"gridcolor\": \"white\", \"linecolor\": \"white\", \"ticks\": \"\"}, \"bgcolor\": \"#E5ECF6\", \"radialaxis\": {\"gridcolor\": \"white\", \"linecolor\": \"white\", \"ticks\": \"\"}}, \"scene\": {\"xaxis\": {\"backgroundcolor\": \"#E5ECF6\", \"gridcolor\": \"white\", \"gridwidth\": 2, \"linecolor\": \"white\", \"showbackground\": true, \"ticks\": \"\", \"zerolinecolor\": \"white\"}, \"yaxis\": {\"backgroundcolor\": \"#E5ECF6\", \"gridcolor\": \"white\", \"gridwidth\": 2, \"linecolor\": \"white\", \"showbackground\": true, \"ticks\": \"\", \"zerolinecolor\": \"white\"}, \"zaxis\": {\"backgroundcolor\": \"#E5ECF6\", \"gridcolor\": \"white\", \"gridwidth\": 2, \"linecolor\": \"white\", \"showbackground\": true, \"ticks\": \"\", \"zerolinecolor\": \"white\"}}, \"shapedefaults\": {\"line\": {\"color\": \"#2a3f5f\"}}, \"ternary\": {\"aaxis\": {\"gridcolor\": \"white\", \"linecolor\": \"white\", \"ticks\": \"\"}, \"baxis\": {\"gridcolor\": \"white\", \"linecolor\": \"white\", \"ticks\": \"\"}, \"bgcolor\": \"#E5ECF6\", \"caxis\": {\"gridcolor\": \"white\", \"linecolor\": \"white\", \"ticks\": \"\"}}, \"title\": {\"x\": 0.05}, \"xaxis\": {\"automargin\": true, \"gridcolor\": \"white\", \"linecolor\": \"white\", \"ticks\": \"\", \"title\": {\"standoff\": 15}, \"zerolinecolor\": \"white\", \"zerolinewidth\": 2}, \"yaxis\": {\"automargin\": true, \"gridcolor\": \"white\", \"linecolor\": \"white\", \"ticks\": \"\", \"title\": {\"standoff\": 15}, \"zerolinecolor\": \"white\", \"zerolinewidth\": 2}}}, \"title\": {\"text\": \"Death Case Count\", \"x\": 0.5}, \"width\": 1000},\n",
       "                        {\"responsive\": true}\n",
       "                    ).then(function(){\n",
       "                            \n",
       "var gd = document.getElementById('fad6b7a9-69c1-4d72-b41b-8bf9bb914839');\n",
       "var x = new MutationObserver(function (mutations, observer) {{\n",
       "        var display = window.getComputedStyle(gd).display;\n",
       "        if (!display || display === 'none') {{\n",
       "            console.log([gd, 'removed!']);\n",
       "            Plotly.purge(gd);\n",
       "            observer.disconnect();\n",
       "        }}\n",
       "}});\n",
       "\n",
       "// Listen for the removal of the full notebook cells\n",
       "var notebookContainer = gd.closest('#notebook-container');\n",
       "if (notebookContainer) {{\n",
       "    x.observe(notebookContainer, {childList: true});\n",
       "}}\n",
       "\n",
       "// Listen for the clearing of the current output cell\n",
       "var outputEl = gd.closest('.output');\n",
       "if (outputEl) {{\n",
       "    x.observe(outputEl, {childList: true});\n",
       "}}\n",
       "\n",
       "                        })\n",
       "                };\n",
       "                });\n",
       "            </script>\n",
       "        </div>"
      ]
     },
     "metadata": {},
     "output_type": "display_data"
    }
   ],
   "source": [
    "plot_static('deaths','No of cases of Death','reds',value='Death')"
   ]
  },
  {
   "cell_type": "markdown",
   "metadata": {},
   "source": [
    "## Overall Conditions check"
   ]
  },
  {
   "cell_type": "code",
   "execution_count": 14,
   "metadata": {},
   "outputs": [
    {
     "data": {
      "application/vnd.jupyter.widget-view+json": {
       "model_id": "eedee72bc3c44c55b330c8a7dda96f28",
       "version_major": 2,
       "version_minor": 0
      },
      "text/plain": [
       "interactive(children=(Text(value='10', description='n'), Output()), _dom_classes=('widget-interact',))"
      ]
     },
     "metadata": {},
     "output_type": "display_data"
    }
   ],
   "source": [
    "#Numerical data detailing Country wise \n",
    "def cond_check(n):\n",
    "    n = int(n)\n",
    "    Updated_situation = pd.DataFrame({'Country Name': country_df['country'], 'Number of Confirmed Cases': country_df['confirmed'],\n",
    "                          'Number of Deaths': country_df['deaths'],'Number of Recoveries' : country_df['recovered'],\n",
    "                          'Number of Active Cases' : country_df['active'],})\n",
    "# number of cases per country/region\n",
    "    return Updated_situation.head(n).style.background_gradient(cmap='Reds')\n",
    "interact(cond_check, n='10')\n",
    "\n",
    "ipywLayout = widgets.Layout(border='solid 2px green')\n",
    "ipywLayout.display='none' # uncomment this, run cell again - then the graph/figure disappears\n",
    "\n",
    "#'''Current Scenario Sum up'''"
   ]
  },
  {
   "cell_type": "markdown",
   "metadata": {},
   "source": [
    "## Sliding Bar plot for countries with highest mortality rate"
   ]
  },
  {
   "cell_type": "code",
   "execution_count": 24,
   "metadata": {},
   "outputs": [
    {
     "data": {
      "application/vnd.jupyter.widget-view+json": {
       "model_id": "373c7f55d26f496da01f4cd66176de8e",
       "version_major": 2,
       "version_minor": 0
      },
      "text/plain": [
       "interactive(children=(IntSlider(value=10, description='n', max=30, min=-10), Output()), _dom_classes=('widget-…"
      ]
     },
     "metadata": {},
     "output_type": "display_data"
    }
   ],
   "source": [
    "mortality_countrywise = country_df[['mortality_rate','country','confirmed','deaths']]\n",
    "\n",
    "mortality_countrywise=(mortality_countrywise).sort_values(by=\"mortality_rate\",ascending=False)\n",
    "def mortality_bar(n):\n",
    "    \n",
    "    fig = px.bar((mortality_countrywise).head(n), x=\"mortality_rate\", y=\"country\",color='country')\n",
    "    fig.show()\n",
    "\n",
    "interact(mortality_bar, n=10)\n",
    "\n",
    "ipywLayout = widgets.Layout(border='solid 2px ')\n",
    "ipywLayout.display='none'\n"
   ]
  },
  {
   "cell_type": "markdown",
   "metadata": {},
   "source": [
    "## Scatter plot for complete view of mortality rate in the world "
   ]
  },
  {
   "cell_type": "code",
   "execution_count": 56,
   "metadata": {},
   "outputs": [
    {
     "data": {
      "application/vnd.plotly.v1+json": {
       "config": {
        "plotlyServerURL": "https://plot.ly"
       },
       "data": [
        {
         "customdata": [
          [
           "Afghanistan",
           3.2503046275043213,
           35289,
           1147
          ],
          [
           "Albania",
           2.7393753200204807,
           3906,
           107
          ],
          [
           "Algeria",
           4.815928558410789,
           21948,
           1057
          ],
          [
           "Andorra",
           5.909090909090909,
           880,
           52
          ],
          [
           "Angola",
           4.545454545454546,
           638,
           29
          ],
          [
           "Antigua and Barbuda",
           3.947368421052632,
           76,
           3
          ],
          [
           "Argentina",
           1.825634319913496,
           119301,
           2178
          ],
          [
           "Armenia",
           1.831002263362544,
           34462,
           631
          ],
          [
           "Australia",
           1.0401188707280833,
           11441,
           119
          ],
          [
           "Austria",
           3.6325550503244255,
           19573,
           711
          ],
          [
           "Azerbaijan",
           1.2802222555939329,
           26636,
           341
          ],
          [
           "Bahamas",
           8.527131782945737,
           129,
           11
          ],
          [
           "Bahrain",
           0.3495616384292279,
           35473,
           124
          ],
          [
           "Bangladesh",
           1.2773054348579178,
           202066,
           2581
          ],
          [
           "Barbados",
           6.730769230769232,
           104,
           7
          ],
          [
           "Belarus",
           0.7464047915843239,
           65782,
           491
          ],
          [
           "Belgium",
           15.433313910455285,
           63499,
           9800
          ],
          [
           "Belize",
           5,
           40,
           2
          ],
          [
           "Benin",
           1.9350811485642947,
           1602,
           31
          ],
          [
           "Bhutan",
           0,
           87,
           0
          ],
          [
           "Bolivia",
           3.6522762111867673,
           56102,
           2049
          ],
          [
           "Bosnia and Herzegovina",
           3.0981284774911484,
           7908,
           245
          ],
          [
           "Botswana",
           0.19157088122605365,
           522,
           1
          ],
          [
           "Brazil",
           3.8044243151635513,
           2046328,
           77851
          ],
          [
           "Brunei",
           2.127659574468085,
           141,
           3
          ],
          [
           "Bulgaria",
           3.5181236673773992,
           8442,
           297
          ],
          [
           "Burkina Faso",
           5.071770334928231,
           1045,
           53
          ],
          [
           "Burma",
           1.7699115044247788,
           339,
           6
          ],
          [
           "Burundi",
           0.3225806451612903,
           310,
           1
          ],
          [
           "Cabo Verde",
           0.9798865394533264,
           1939,
           19
          ],
          [
           "Cambodia",
           0,
           171,
           0
          ],
          [
           "Cameroon",
           2.3085968929875595,
           16157,
           373
          ],
          [
           "Canada",
           7.963499134986867,
           111559,
           8884
          ],
          [
           "Central African Republic",
           1.2075643654591024,
           4389,
           53
          ],
          [
           "Chad",
           8.455467869222097,
           887,
           75
          ],
          [
           "Chile",
           2.5569861444251454,
           326439,
           8347
          ],
          [
           "China",
           5.443420775019339,
           85314,
           4644
          ],
          [
           "Colombia",
           3.4522894476776105,
           182140,
           6288
          ],
          [
           "Comoros",
           2.1341463414634148,
           328,
           7
          ],
          [
           "Congo (Brazzaville)",
           1.86099506266616,
           2633,
           49
          ],
          [
           "Congo (Kinshasa)",
           2.3185968284478617,
           8324,
           193
          ],
          [
           "Costa Rica",
           0.4714615307453104,
           9969,
           47
          ],
          [
           "Cote d'Ivoire",
           0.6352219626168224,
           13696,
           87
          ],
          [
           "Croatia",
           2.9006526468455403,
           4137,
           120
          ],
          [
           "Cuba",
           3.5597381342062198,
           2444,
           87
          ],
          [
           "Cyprus",
           1.8393030009680544,
           1033,
           19
          ],
          [
           "Czechia",
           2.605152088487848,
           13742,
           358
          ],
          [
           "Denmark",
           4.568565874084044,
           13374,
           611
          ],
          [
           "Diamond Princess",
           1.8258426966292132,
           712,
           13
          ],
          [
           "Djibouti",
           1.119328402958225,
           5003,
           56
          ],
          [
           "Dominica",
           0,
           18,
           0
          ],
          [
           "Dominican Republic",
           1.879751761020095,
           50113,
           942
          ],
          [
           "Ecuador",
           7.246976975318867,
           72444,
           5250
          ],
          [
           "Egypt",
           4.8430742188403455,
           86474,
           4188
          ],
          [
           "El Salvador",
           2.8910502364593555,
           11207,
           324
          ],
          [
           "Equatorial Guinea",
           1.6606968414197332,
           3071,
           51
          ],
          [
           "Eritrea",
           0,
           251,
           0
          ],
          [
           "Estonia",
           3.4141514101929737,
           2021,
           69
          ],
          [
           "Eswatini",
           1.2970969734403952,
           1619,
           21
          ],
          [
           "Ethiopia",
           1.703964557537203,
           8803,
           150
          ],
          [
           "Fiji",
           0,
           26,
           0
          ],
          [
           "Finland",
           4.48209893413501,
           7318,
           328
          ],
          [
           "France",
           14.22788202488405,
           211943,
           30155
          ],
          [
           "Gabon",
           0.7284243863816311,
           6315,
           46
          ],
          [
           "Gambia",
           4.301075268817204,
           93,
           4
          ],
          [
           "Georgia",
           1.4734774066797642,
           1018,
           15
          ],
          [
           "Germany",
           4.492105458229348,
           202355,
           9090
          ],
          [
           "Ghana",
           0.5419238295950625,
           26572,
           144
          ],
          [
           "Greece",
           4.894046417759839,
           3964,
           194
          ],
          [
           "Grenada",
           0,
           23,
           0
          ],
          [
           "Guatemala",
           4.2680942944186455,
           33809,
           1443
          ],
          [
           "Guinea",
           0.6065318818040435,
           6430,
           39
          ],
          [
           "Guinea-Bissau",
           1.3492475350285418,
           1927,
           26
          ],
          [
           "Guyana",
           5.9375,
           320,
           19
          ],
          [
           "Haiti",
           2.0931899641577063,
           6975,
           146
          ],
          [
           "Holy See",
           0,
           12,
           0
          ],
          [
           "Honduras",
           2.6996377382264924,
           31745,
           857
          ],
          [
           "Hungary",
           13.812282734646583,
           4315,
           596
          ],
          [
           "Iceland",
           0.5219206680584552,
           1916,
           10
          ],
          [
           "India",
           2.528477004746488,
           1039084,
           26273
          ],
          [
           "Indonesia",
           4.731274003911311,
           84882,
           4016
          ],
          [
           "Iran",
           5.146793517079888,
           271606,
           13979
          ],
          [
           "Iraq",
           4.101121684000408,
           88171,
           3616
          ],
          [
           "Ireland",
           6.809172172561213,
           25730,
           1752
          ],
          [
           "Israel",
           0.8259761056912283,
           47459,
           392
          ],
          [
           "Italy",
           14.357679522230466,
           243967,
           35028
          ],
          [
           "Jamaica",
           1.3020833333333333,
           768,
           10
          ],
          [
           "Japan",
           3.993351171653288,
           24666,
           985
          ],
          [
           "Jordan",
           0.8271298593879239,
           1209,
           10
          ],
          [
           "Kazakhstan",
           0.5458276931138378,
           68703,
           375
          ],
          [
           "Kenya",
           1.8404907975460123,
           12062,
           222
          ],
          [
           "Korea, South",
           2.1442637298519442,
           13711,
           294
          ],
          [
           "Kosovo",
           2.2660818713450293,
           5472,
           124
          ],
          [
           "Kuwait",
           0.6939076965356143,
           58221,
           404
          ],
          [
           "Kyrgyzstan",
           1.3205098847416228,
           13101,
           173
          ],
          [
           "Laos",
           0,
           19,
           0
          ],
          [
           "Latvia",
           2.607232968881413,
           1189,
           31
          ],
          [
           "Lebanon",
           1.4814814814814814,
           2700,
           40
          ],
          [
           "Lesotho",
           1.929260450160772,
           311,
           6
          ],
          [
           "Liberia",
           6.359447004608295,
           1085,
           69
          ],
          [
           "Libya",
           2.7582159624413145,
           1704,
           47
          ],
          [
           "Liechtenstein",
           1.1764705882352942,
           85,
           1
          ],
          [
           "Lithuania",
           4.1404612159329135,
           1908,
           79
          ],
          [
           "Luxembourg",
           2.0521353300055463,
           5409,
           111
          ],
          [
           "MS Zaandam",
           22.222222222222218,
           9,
           2
          ],
          [
           "Madagascar",
           0.8350085047162518,
           6467,
           54
          ],
          [
           "Malawi",
           1.96078431372549,
           2805,
           55
          ],
          [
           "Malaysia",
           1.3920584208124145,
           8764,
           122
          ],
          [
           "Maldives",
           0.5149330587023687,
           2913,
           15
          ],
          [
           "Mali",
           4.9047426023510345,
           2467,
           121
          ],
          [
           "Malta",
           1.3353115727002969,
           674,
           9
          ],
          [
           "Mauritania",
           2.6444833625218918,
           5710,
           151
          ],
          [
           "Mauritius",
           2.915451895043732,
           343,
           10
          ],
          [
           "Mexico",
           11.56360738670321,
           331298,
           38310
          ],
          [
           "Moldova",
           3.293646921050064,
           20494,
           675
          ],
          [
           "Monaco",
           3.669724770642202,
           109,
           4
          ],
          [
           "Mongolia",
           0,
           287,
           0
          ],
          [
           "Montenegro",
           1.383399209486166,
           2024,
           28
          ],
          [
           "Morocco",
           1.5783809637689823,
           16726,
           264
          ],
          [
           "Mozambique",
           0.6419400855920114,
           1402,
           9
          ],
          [
           "Namibia",
           0.1855287569573284,
           1078,
           2
          ],
          [
           "Nepal",
           0.2292920607623961,
           17445,
           40
          ],
          [
           "Netherlands",
           11.921152652807944,
           103136,
           12295
          ],
          [
           "New Zealand",
           1.4193548387096775,
           1550,
           22
          ],
          [
           "Nicaragua",
           3.145853193517636,
           3147,
           99
          ],
          [
           "Niger",
           6.261343012704173,
           1102,
           69
          ],
          [
           "Nigeria",
           2.1774693969650816,
           35454,
           772
          ],
          [
           "North Macedonia",
           4.620987935351696,
           8786,
           406
          ],
          [
           "Norway",
           2.8254847645429364,
           9025,
           255
          ],
          [
           "Oman",
           0.47020029311187106,
           65504,
           308
          ],
          [
           "Pakistan",
           2.108301484821528,
           261917,
           5522
          ],
          [
           "Panama",
           2.019140989729225,
           51408,
           1038
          ],
          [
           "Papua New Guinea",
           0,
           16,
           0
          ],
          [
           "Paraguay",
           0.8099508244142319,
           3457,
           28
          ],
          [
           "Peru",
           3.704089576514237,
           345537,
           12799
          ],
          [
           "Philippines",
           2.714994487320838,
           65304,
           1773
          ],
          [
           "Poland",
           4.0708498968449645,
           39746,
           1618
          ],
          [
           "Portugal",
           3.498554402312956,
           48077,
           1682
          ],
          [
           "Qatar",
           0.1444786492662751,
           105898,
           153
          ],
          [
           "Romania",
           5.475457196587719,
           36691,
           2009
          ],
          [
           "Russia",
           1.6000732778079467,
           764215,
           12228
          ],
          [
           "Rwanda",
           0.26936026936026936,
           1485,
           4
          ],
          [
           "Saint Kitts and Nevis",
           0,
           17,
           0
          ],
          [
           "Saint Lucia",
           0,
           23,
           0
          ],
          [
           "Saint Vincent and the Grenadines",
           0,
           35,
           0
          ],
          [
           "San Marino",
           6.008583690987124,
           699,
           42
          ],
          [
           "Sao Tome and Principe",
           1.889338731443995,
           741,
           14
          ],
          [
           "Saudi Arabia",
           0.9790482853435616,
           245851,
           2407
          ],
          [
           "Senegal",
           1.8726591760299625,
           8544,
           160
          ],
          [
           "Serbia",
           2.247749763787359,
           20109,
           452
          ],
          [
           "Seychelles",
           0,
           108,
           0
          ],
          [
           "Sierra Leone",
           3.8507109004739335,
           1688,
           65
          ],
          [
           "Singapore",
           0.056657223796034,
           47655,
           27
          ],
          [
           "Slovakia",
           1.4170040485829958,
           1976,
           28
          ],
          [
           "Slovenia",
           5.721649484536082,
           1940,
           111
          ],
          [
           "Somalia",
           2.994204764971024,
           3106,
           93
          ],
          [
           "South Africa",
           1.4230110724716671,
           337594,
           4804
          ],
          [
           "South Sudan",
           1.9625741670470105,
           2191,
           43
          ],
          [
           "Spain",
           10.920059172734431,
           260255,
           28420
          ],
          [
           "Sri Lanka",
           0.4078605858361142,
           2697,
           11
          ],
          [
           "Sudan",
           6.345587536810108,
           10527,
           668
          ],
          [
           "Suriname",
           2.0148462354188763,
           943,
           19
          ],
          [
           "Sweden",
           7.270868648180017,
           77281,
           5619
          ],
          [
           "Switzerland",
           5.898388353004612,
           33382,
           1969
          ],
          [
           "Syria",
           5.040322580645161,
           496,
           25
          ],
          [
           "Taiwan*",
           1.5521064301552103,
           451,
           7
          ],
          [
           "Tajikistan",
           0.825228411435308,
           6786,
           56
          ],
          [
           "Tanzania",
           4.12573673870334,
           509,
           21
          ],
          [
           "Thailand",
           1.786814540973506,
           3246,
           58
          ],
          [
           "Timor-Leste",
           0,
           24,
           0
          ],
          [
           "Togo",
           1.95822454308094,
           766,
           15
          ],
          [
           "Trinidad and Tobago",
           5.882352941176472,
           136,
           8
          ],
          [
           "Tunisia",
           3.74251497005988,
           1336,
           50
          ],
          [
           "Turkey",
           2.505980284574309,
           217799,
           5458
          ],
          [
           "US",
           3.8178969574103236,
           3647715,
           139266
          ],
          [
           "Uganda",
           0,
           1056,
           0
          ],
          [
           "Ukraine",
           2.521362479564492,
           59333,
           1496
          ],
          [
           "United Arab Emirates",
           0.5960043025162667,
           56711,
           338
          ],
          [
           "United Kingdom",
           15.372247323645539,
           294804,
           45318
          ],
          [
           "Uruguay",
           3.085824493731919,
           1037,
           32
          ],
          [
           "Uzbekistan",
           0.5032712632108707,
           15896,
           80
          ],
          [
           "Venezuela",
           0.9561254579572872,
           11191,
           107
          ],
          [
           "Vietnam",
           0,
           382,
           0
          ],
          [
           "West Bank and Gaza",
           0.7083977331272541,
           7764,
           55
          ],
          [
           "Western Sahara",
           10,
           10,
           1
          ],
          [
           "Yemen",
           27.91878172588833,
           1576,
           440
          ],
          [
           "Zambia",
           3.879003558718861,
           2810,
           109
          ],
          [
           "Zimbabwe",
           1.6901408450704225,
           1420,
           24
          ]
         ],
         "hovertemplate": "country=%{customdata[0]}<br>mortality_rate=%{marker.color}<br>confirmed=%{customdata[2]}<br>deaths=%{customdata[3]}<extra></extra>",
         "legendgroup": "",
         "marker": {
          "color": [
           3.2503046275043213,
           2.7393753200204807,
           4.815928558410789,
           5.909090909090909,
           4.545454545454546,
           3.947368421052632,
           1.825634319913496,
           1.831002263362544,
           1.0401188707280833,
           3.6325550503244255,
           1.2802222555939329,
           8.527131782945737,
           0.3495616384292279,
           1.2773054348579178,
           6.730769230769232,
           0.7464047915843239,
           15.433313910455285,
           5,
           1.9350811485642947,
           0,
           3.6522762111867673,
           3.0981284774911484,
           0.19157088122605365,
           3.8044243151635513,
           2.127659574468085,
           3.5181236673773992,
           5.071770334928231,
           1.7699115044247788,
           0.3225806451612903,
           0.9798865394533264,
           0,
           2.3085968929875595,
           7.963499134986867,
           1.2075643654591024,
           8.455467869222097,
           2.5569861444251454,
           5.443420775019339,
           3.4522894476776105,
           2.1341463414634148,
           1.86099506266616,
           2.3185968284478617,
           0.4714615307453104,
           0.6352219626168224,
           2.9006526468455403,
           3.5597381342062198,
           1.8393030009680544,
           2.605152088487848,
           4.568565874084044,
           1.8258426966292132,
           1.119328402958225,
           0,
           1.879751761020095,
           7.246976975318867,
           4.8430742188403455,
           2.8910502364593555,
           1.6606968414197332,
           0,
           3.4141514101929737,
           1.2970969734403952,
           1.703964557537203,
           0,
           4.48209893413501,
           14.22788202488405,
           0.7284243863816311,
           4.301075268817204,
           1.4734774066797642,
           4.492105458229348,
           0.5419238295950625,
           4.894046417759839,
           0,
           4.2680942944186455,
           0.6065318818040435,
           1.3492475350285418,
           5.9375,
           2.0931899641577063,
           0,
           2.6996377382264924,
           13.812282734646583,
           0.5219206680584552,
           2.528477004746488,
           4.731274003911311,
           5.146793517079888,
           4.101121684000408,
           6.809172172561213,
           0.8259761056912283,
           14.357679522230466,
           1.3020833333333333,
           3.993351171653288,
           0.8271298593879239,
           0.5458276931138378,
           1.8404907975460123,
           2.1442637298519442,
           2.2660818713450293,
           0.6939076965356143,
           1.3205098847416228,
           0,
           2.607232968881413,
           1.4814814814814814,
           1.929260450160772,
           6.359447004608295,
           2.7582159624413145,
           1.1764705882352942,
           4.1404612159329135,
           2.0521353300055463,
           22.222222222222218,
           0.8350085047162518,
           1.96078431372549,
           1.3920584208124145,
           0.5149330587023687,
           4.9047426023510345,
           1.3353115727002969,
           2.6444833625218918,
           2.915451895043732,
           11.56360738670321,
           3.293646921050064,
           3.669724770642202,
           0,
           1.383399209486166,
           1.5783809637689823,
           0.6419400855920114,
           0.1855287569573284,
           0.2292920607623961,
           11.921152652807944,
           1.4193548387096775,
           3.145853193517636,
           6.261343012704173,
           2.1774693969650816,
           4.620987935351696,
           2.8254847645429364,
           0.47020029311187106,
           2.108301484821528,
           2.019140989729225,
           0,
           0.8099508244142319,
           3.704089576514237,
           2.714994487320838,
           4.0708498968449645,
           3.498554402312956,
           0.1444786492662751,
           5.475457196587719,
           1.6000732778079467,
           0.26936026936026936,
           0,
           0,
           0,
           6.008583690987124,
           1.889338731443995,
           0.9790482853435616,
           1.8726591760299625,
           2.247749763787359,
           0,
           3.8507109004739335,
           0.056657223796034,
           1.4170040485829958,
           5.721649484536082,
           2.994204764971024,
           1.4230110724716671,
           1.9625741670470105,
           10.920059172734431,
           0.4078605858361142,
           6.345587536810108,
           2.0148462354188763,
           7.270868648180017,
           5.898388353004612,
           5.040322580645161,
           1.5521064301552103,
           0.825228411435308,
           4.12573673870334,
           1.786814540973506,
           0,
           1.95822454308094,
           5.882352941176472,
           3.74251497005988,
           2.505980284574309,
           3.8178969574103236,
           0,
           2.521362479564492,
           0.5960043025162667,
           15.372247323645539,
           3.085824493731919,
           0.5032712632108707,
           0.9561254579572872,
           0,
           0.7083977331272541,
           10,
           27.91878172588833,
           3.879003558718861,
           1.6901408450704225
          ],
          "coloraxis": "coloraxis",
          "symbol": "circle"
         },
         "mode": "markers",
         "name": "",
         "orientation": "v",
         "showlegend": false,
         "type": "scatter",
         "uid": "41d53c03-5309-45c2-8e02-ab80c0d30910",
         "x": [
          "Afghanistan",
          "Albania",
          "Algeria",
          "Andorra",
          "Angola",
          "Antigua and Barbuda",
          "Argentina",
          "Armenia",
          "Australia",
          "Austria",
          "Azerbaijan",
          "Bahamas",
          "Bahrain",
          "Bangladesh",
          "Barbados",
          "Belarus",
          "Belgium",
          "Belize",
          "Benin",
          "Bhutan",
          "Bolivia",
          "Bosnia and Herzegovina",
          "Botswana",
          "Brazil",
          "Brunei",
          "Bulgaria",
          "Burkina Faso",
          "Burma",
          "Burundi",
          "Cabo Verde",
          "Cambodia",
          "Cameroon",
          "Canada",
          "Central African Republic",
          "Chad",
          "Chile",
          "China",
          "Colombia",
          "Comoros",
          "Congo (Brazzaville)",
          "Congo (Kinshasa)",
          "Costa Rica",
          "Cote d'Ivoire",
          "Croatia",
          "Cuba",
          "Cyprus",
          "Czechia",
          "Denmark",
          "Diamond Princess",
          "Djibouti",
          "Dominica",
          "Dominican Republic",
          "Ecuador",
          "Egypt",
          "El Salvador",
          "Equatorial Guinea",
          "Eritrea",
          "Estonia",
          "Eswatini",
          "Ethiopia",
          "Fiji",
          "Finland",
          "France",
          "Gabon",
          "Gambia",
          "Georgia",
          "Germany",
          "Ghana",
          "Greece",
          "Grenada",
          "Guatemala",
          "Guinea",
          "Guinea-Bissau",
          "Guyana",
          "Haiti",
          "Holy See",
          "Honduras",
          "Hungary",
          "Iceland",
          "India",
          "Indonesia",
          "Iran",
          "Iraq",
          "Ireland",
          "Israel",
          "Italy",
          "Jamaica",
          "Japan",
          "Jordan",
          "Kazakhstan",
          "Kenya",
          "Korea, South",
          "Kosovo",
          "Kuwait",
          "Kyrgyzstan",
          "Laos",
          "Latvia",
          "Lebanon",
          "Lesotho",
          "Liberia",
          "Libya",
          "Liechtenstein",
          "Lithuania",
          "Luxembourg",
          "MS Zaandam",
          "Madagascar",
          "Malawi",
          "Malaysia",
          "Maldives",
          "Mali",
          "Malta",
          "Mauritania",
          "Mauritius",
          "Mexico",
          "Moldova",
          "Monaco",
          "Mongolia",
          "Montenegro",
          "Morocco",
          "Mozambique",
          "Namibia",
          "Nepal",
          "Netherlands",
          "New Zealand",
          "Nicaragua",
          "Niger",
          "Nigeria",
          "North Macedonia",
          "Norway",
          "Oman",
          "Pakistan",
          "Panama",
          "Papua New Guinea",
          "Paraguay",
          "Peru",
          "Philippines",
          "Poland",
          "Portugal",
          "Qatar",
          "Romania",
          "Russia",
          "Rwanda",
          "Saint Kitts and Nevis",
          "Saint Lucia",
          "Saint Vincent and the Grenadines",
          "San Marino",
          "Sao Tome and Principe",
          "Saudi Arabia",
          "Senegal",
          "Serbia",
          "Seychelles",
          "Sierra Leone",
          "Singapore",
          "Slovakia",
          "Slovenia",
          "Somalia",
          "South Africa",
          "South Sudan",
          "Spain",
          "Sri Lanka",
          "Sudan",
          "Suriname",
          "Sweden",
          "Switzerland",
          "Syria",
          "Taiwan*",
          "Tajikistan",
          "Tanzania",
          "Thailand",
          "Timor-Leste",
          "Togo",
          "Trinidad and Tobago",
          "Tunisia",
          "Turkey",
          "US",
          "Uganda",
          "Ukraine",
          "United Arab Emirates",
          "United Kingdom",
          "Uruguay",
          "Uzbekistan",
          "Venezuela",
          "Vietnam",
          "West Bank and Gaza",
          "Western Sahara",
          "Yemen",
          "Zambia",
          "Zimbabwe"
         ],
         "xaxis": "x",
         "y": [
          3.2503046275043213,
          2.7393753200204807,
          4.815928558410789,
          5.909090909090909,
          4.545454545454546,
          3.947368421052632,
          1.825634319913496,
          1.831002263362544,
          1.0401188707280833,
          3.6325550503244255,
          1.2802222555939329,
          8.527131782945737,
          0.3495616384292279,
          1.2773054348579178,
          6.730769230769232,
          0.7464047915843239,
          15.433313910455285,
          5,
          1.9350811485642947,
          0,
          3.6522762111867673,
          3.0981284774911484,
          0.19157088122605365,
          3.8044243151635513,
          2.127659574468085,
          3.5181236673773992,
          5.071770334928231,
          1.7699115044247788,
          0.3225806451612903,
          0.9798865394533264,
          0,
          2.3085968929875595,
          7.963499134986867,
          1.2075643654591024,
          8.455467869222097,
          2.5569861444251454,
          5.443420775019339,
          3.4522894476776105,
          2.1341463414634148,
          1.86099506266616,
          2.3185968284478617,
          0.4714615307453104,
          0.6352219626168224,
          2.9006526468455403,
          3.5597381342062198,
          1.8393030009680544,
          2.605152088487848,
          4.568565874084044,
          1.8258426966292132,
          1.119328402958225,
          0,
          1.879751761020095,
          7.246976975318867,
          4.8430742188403455,
          2.8910502364593555,
          1.6606968414197332,
          0,
          3.4141514101929737,
          1.2970969734403952,
          1.703964557537203,
          0,
          4.48209893413501,
          14.22788202488405,
          0.7284243863816311,
          4.301075268817204,
          1.4734774066797642,
          4.492105458229348,
          0.5419238295950625,
          4.894046417759839,
          0,
          4.2680942944186455,
          0.6065318818040435,
          1.3492475350285418,
          5.9375,
          2.0931899641577063,
          0,
          2.6996377382264924,
          13.812282734646583,
          0.5219206680584552,
          2.528477004746488,
          4.731274003911311,
          5.146793517079888,
          4.101121684000408,
          6.809172172561213,
          0.8259761056912283,
          14.357679522230466,
          1.3020833333333333,
          3.993351171653288,
          0.8271298593879239,
          0.5458276931138378,
          1.8404907975460123,
          2.1442637298519442,
          2.2660818713450293,
          0.6939076965356143,
          1.3205098847416228,
          0,
          2.607232968881413,
          1.4814814814814814,
          1.929260450160772,
          6.359447004608295,
          2.7582159624413145,
          1.1764705882352942,
          4.1404612159329135,
          2.0521353300055463,
          22.222222222222218,
          0.8350085047162518,
          1.96078431372549,
          1.3920584208124145,
          0.5149330587023687,
          4.9047426023510345,
          1.3353115727002969,
          2.6444833625218918,
          2.915451895043732,
          11.56360738670321,
          3.293646921050064,
          3.669724770642202,
          0,
          1.383399209486166,
          1.5783809637689823,
          0.6419400855920114,
          0.1855287569573284,
          0.2292920607623961,
          11.921152652807944,
          1.4193548387096775,
          3.145853193517636,
          6.261343012704173,
          2.1774693969650816,
          4.620987935351696,
          2.8254847645429364,
          0.47020029311187106,
          2.108301484821528,
          2.019140989729225,
          0,
          0.8099508244142319,
          3.704089576514237,
          2.714994487320838,
          4.0708498968449645,
          3.498554402312956,
          0.1444786492662751,
          5.475457196587719,
          1.6000732778079467,
          0.26936026936026936,
          0,
          0,
          0,
          6.008583690987124,
          1.889338731443995,
          0.9790482853435616,
          1.8726591760299625,
          2.247749763787359,
          0,
          3.8507109004739335,
          0.056657223796034,
          1.4170040485829958,
          5.721649484536082,
          2.994204764971024,
          1.4230110724716671,
          1.9625741670470105,
          10.920059172734431,
          0.4078605858361142,
          6.345587536810108,
          2.0148462354188763,
          7.270868648180017,
          5.898388353004612,
          5.040322580645161,
          1.5521064301552103,
          0.825228411435308,
          4.12573673870334,
          1.786814540973506,
          0,
          1.95822454308094,
          5.882352941176472,
          3.74251497005988,
          2.505980284574309,
          3.8178969574103236,
          0,
          2.521362479564492,
          0.5960043025162667,
          15.372247323645539,
          3.085824493731919,
          0.5032712632108707,
          0.9561254579572872,
          0,
          0.7083977331272541,
          10,
          27.91878172588833,
          3.879003558718861,
          1.6901408450704225
         ],
         "yaxis": "y"
        }
       ],
       "layout": {
        "autosize": true,
        "coloraxis": {
         "colorbar": {
          "title": {
           "text": "mortality_rate"
          }
         },
         "colorscale": [
          [
           0,
           "#0d0887"
          ],
          [
           0.1111111111111111,
           "#46039f"
          ],
          [
           0.2222222222222222,
           "#7201a8"
          ],
          [
           0.3333333333333333,
           "#9c179e"
          ],
          [
           0.4444444444444444,
           "#bd3786"
          ],
          [
           0.5555555555555556,
           "#d8576b"
          ],
          [
           0.6666666666666666,
           "#ed7953"
          ],
          [
           0.7777777777777778,
           "#fb9f3a"
          ],
          [
           0.8888888888888888,
           "#fdca26"
          ],
          [
           1,
           "#f0f921"
          ]
         ]
        },
        "height": 900,
        "legend": {
         "tracegroupgap": 0
        },
        "margin": {
         "t": 60
        },
        "template": {
         "data": {
          "bar": [
           {
            "error_x": {
             "color": "#2a3f5f"
            },
            "error_y": {
             "color": "#2a3f5f"
            },
            "marker": {
             "line": {
              "color": "#E5ECF6",
              "width": 0.5
             }
            },
            "type": "bar"
           }
          ],
          "barpolar": [
           {
            "marker": {
             "line": {
              "color": "#E5ECF6",
              "width": 0.5
             }
            },
            "type": "barpolar"
           }
          ],
          "carpet": [
           {
            "aaxis": {
             "endlinecolor": "#2a3f5f",
             "gridcolor": "white",
             "linecolor": "white",
             "minorgridcolor": "white",
             "startlinecolor": "#2a3f5f"
            },
            "baxis": {
             "endlinecolor": "#2a3f5f",
             "gridcolor": "white",
             "linecolor": "white",
             "minorgridcolor": "white",
             "startlinecolor": "#2a3f5f"
            },
            "type": "carpet"
           }
          ],
          "choropleth": [
           {
            "colorbar": {
             "outlinewidth": 0,
             "ticks": ""
            },
            "type": "choropleth"
           }
          ],
          "contour": [
           {
            "colorbar": {
             "outlinewidth": 0,
             "ticks": ""
            },
            "colorscale": [
             [
              0,
              "#0d0887"
             ],
             [
              0.1111111111111111,
              "#46039f"
             ],
             [
              0.2222222222222222,
              "#7201a8"
             ],
             [
              0.3333333333333333,
              "#9c179e"
             ],
             [
              0.4444444444444444,
              "#bd3786"
             ],
             [
              0.5555555555555556,
              "#d8576b"
             ],
             [
              0.6666666666666666,
              "#ed7953"
             ],
             [
              0.7777777777777778,
              "#fb9f3a"
             ],
             [
              0.8888888888888888,
              "#fdca26"
             ],
             [
              1,
              "#f0f921"
             ]
            ],
            "type": "contour"
           }
          ],
          "contourcarpet": [
           {
            "colorbar": {
             "outlinewidth": 0,
             "ticks": ""
            },
            "type": "contourcarpet"
           }
          ],
          "heatmap": [
           {
            "colorbar": {
             "outlinewidth": 0,
             "ticks": ""
            },
            "colorscale": [
             [
              0,
              "#0d0887"
             ],
             [
              0.1111111111111111,
              "#46039f"
             ],
             [
              0.2222222222222222,
              "#7201a8"
             ],
             [
              0.3333333333333333,
              "#9c179e"
             ],
             [
              0.4444444444444444,
              "#bd3786"
             ],
             [
              0.5555555555555556,
              "#d8576b"
             ],
             [
              0.6666666666666666,
              "#ed7953"
             ],
             [
              0.7777777777777778,
              "#fb9f3a"
             ],
             [
              0.8888888888888888,
              "#fdca26"
             ],
             [
              1,
              "#f0f921"
             ]
            ],
            "type": "heatmap"
           }
          ],
          "heatmapgl": [
           {
            "colorbar": {
             "outlinewidth": 0,
             "ticks": ""
            },
            "colorscale": [
             [
              0,
              "#0d0887"
             ],
             [
              0.1111111111111111,
              "#46039f"
             ],
             [
              0.2222222222222222,
              "#7201a8"
             ],
             [
              0.3333333333333333,
              "#9c179e"
             ],
             [
              0.4444444444444444,
              "#bd3786"
             ],
             [
              0.5555555555555556,
              "#d8576b"
             ],
             [
              0.6666666666666666,
              "#ed7953"
             ],
             [
              0.7777777777777778,
              "#fb9f3a"
             ],
             [
              0.8888888888888888,
              "#fdca26"
             ],
             [
              1,
              "#f0f921"
             ]
            ],
            "type": "heatmapgl"
           }
          ],
          "histogram": [
           {
            "marker": {
             "colorbar": {
              "outlinewidth": 0,
              "ticks": ""
             }
            },
            "type": "histogram"
           }
          ],
          "histogram2d": [
           {
            "colorbar": {
             "outlinewidth": 0,
             "ticks": ""
            },
            "colorscale": [
             [
              0,
              "#0d0887"
             ],
             [
              0.1111111111111111,
              "#46039f"
             ],
             [
              0.2222222222222222,
              "#7201a8"
             ],
             [
              0.3333333333333333,
              "#9c179e"
             ],
             [
              0.4444444444444444,
              "#bd3786"
             ],
             [
              0.5555555555555556,
              "#d8576b"
             ],
             [
              0.6666666666666666,
              "#ed7953"
             ],
             [
              0.7777777777777778,
              "#fb9f3a"
             ],
             [
              0.8888888888888888,
              "#fdca26"
             ],
             [
              1,
              "#f0f921"
             ]
            ],
            "type": "histogram2d"
           }
          ],
          "histogram2dcontour": [
           {
            "colorbar": {
             "outlinewidth": 0,
             "ticks": ""
            },
            "colorscale": [
             [
              0,
              "#0d0887"
             ],
             [
              0.1111111111111111,
              "#46039f"
             ],
             [
              0.2222222222222222,
              "#7201a8"
             ],
             [
              0.3333333333333333,
              "#9c179e"
             ],
             [
              0.4444444444444444,
              "#bd3786"
             ],
             [
              0.5555555555555556,
              "#d8576b"
             ],
             [
              0.6666666666666666,
              "#ed7953"
             ],
             [
              0.7777777777777778,
              "#fb9f3a"
             ],
             [
              0.8888888888888888,
              "#fdca26"
             ],
             [
              1,
              "#f0f921"
             ]
            ],
            "type": "histogram2dcontour"
           }
          ],
          "mesh3d": [
           {
            "colorbar": {
             "outlinewidth": 0,
             "ticks": ""
            },
            "type": "mesh3d"
           }
          ],
          "parcoords": [
           {
            "line": {
             "colorbar": {
              "outlinewidth": 0,
              "ticks": ""
             }
            },
            "type": "parcoords"
           }
          ],
          "pie": [
           {
            "automargin": true,
            "type": "pie"
           }
          ],
          "scatter": [
           {
            "marker": {
             "colorbar": {
              "outlinewidth": 0,
              "ticks": ""
             }
            },
            "type": "scatter"
           }
          ],
          "scatter3d": [
           {
            "line": {
             "colorbar": {
              "outlinewidth": 0,
              "ticks": ""
             }
            },
            "marker": {
             "colorbar": {
              "outlinewidth": 0,
              "ticks": ""
             }
            },
            "type": "scatter3d"
           }
          ],
          "scattercarpet": [
           {
            "marker": {
             "colorbar": {
              "outlinewidth": 0,
              "ticks": ""
             }
            },
            "type": "scattercarpet"
           }
          ],
          "scattergeo": [
           {
            "marker": {
             "colorbar": {
              "outlinewidth": 0,
              "ticks": ""
             }
            },
            "type": "scattergeo"
           }
          ],
          "scattergl": [
           {
            "marker": {
             "colorbar": {
              "outlinewidth": 0,
              "ticks": ""
             }
            },
            "type": "scattergl"
           }
          ],
          "scattermapbox": [
           {
            "marker": {
             "colorbar": {
              "outlinewidth": 0,
              "ticks": ""
             }
            },
            "type": "scattermapbox"
           }
          ],
          "scatterpolar": [
           {
            "marker": {
             "colorbar": {
              "outlinewidth": 0,
              "ticks": ""
             }
            },
            "type": "scatterpolar"
           }
          ],
          "scatterpolargl": [
           {
            "marker": {
             "colorbar": {
              "outlinewidth": 0,
              "ticks": ""
             }
            },
            "type": "scatterpolargl"
           }
          ],
          "scatterternary": [
           {
            "marker": {
             "colorbar": {
              "outlinewidth": 0,
              "ticks": ""
             }
            },
            "type": "scatterternary"
           }
          ],
          "surface": [
           {
            "colorbar": {
             "outlinewidth": 0,
             "ticks": ""
            },
            "colorscale": [
             [
              0,
              "#0d0887"
             ],
             [
              0.1111111111111111,
              "#46039f"
             ],
             [
              0.2222222222222222,
              "#7201a8"
             ],
             [
              0.3333333333333333,
              "#9c179e"
             ],
             [
              0.4444444444444444,
              "#bd3786"
             ],
             [
              0.5555555555555556,
              "#d8576b"
             ],
             [
              0.6666666666666666,
              "#ed7953"
             ],
             [
              0.7777777777777778,
              "#fb9f3a"
             ],
             [
              0.8888888888888888,
              "#fdca26"
             ],
             [
              1,
              "#f0f921"
             ]
            ],
            "type": "surface"
           }
          ],
          "table": [
           {
            "cells": {
             "fill": {
              "color": "#EBF0F8"
             },
             "line": {
              "color": "white"
             }
            },
            "header": {
             "fill": {
              "color": "#C8D4E3"
             },
             "line": {
              "color": "white"
             }
            },
            "type": "table"
           }
          ]
         },
         "layout": {
          "annotationdefaults": {
           "arrowcolor": "#2a3f5f",
           "arrowhead": 0,
           "arrowwidth": 1
          },
          "coloraxis": {
           "colorbar": {
            "outlinewidth": 0,
            "ticks": ""
           }
          },
          "colorscale": {
           "diverging": [
            [
             0,
             "#8e0152"
            ],
            [
             0.1,
             "#c51b7d"
            ],
            [
             0.2,
             "#de77ae"
            ],
            [
             0.3,
             "#f1b6da"
            ],
            [
             0.4,
             "#fde0ef"
            ],
            [
             0.5,
             "#f7f7f7"
            ],
            [
             0.6,
             "#e6f5d0"
            ],
            [
             0.7,
             "#b8e186"
            ],
            [
             0.8,
             "#7fbc41"
            ],
            [
             0.9,
             "#4d9221"
            ],
            [
             1,
             "#276419"
            ]
           ],
           "sequential": [
            [
             0,
             "#0d0887"
            ],
            [
             0.1111111111111111,
             "#46039f"
            ],
            [
             0.2222222222222222,
             "#7201a8"
            ],
            [
             0.3333333333333333,
             "#9c179e"
            ],
            [
             0.4444444444444444,
             "#bd3786"
            ],
            [
             0.5555555555555556,
             "#d8576b"
            ],
            [
             0.6666666666666666,
             "#ed7953"
            ],
            [
             0.7777777777777778,
             "#fb9f3a"
            ],
            [
             0.8888888888888888,
             "#fdca26"
            ],
            [
             1,
             "#f0f921"
            ]
           ],
           "sequentialminus": [
            [
             0,
             "#0d0887"
            ],
            [
             0.1111111111111111,
             "#46039f"
            ],
            [
             0.2222222222222222,
             "#7201a8"
            ],
            [
             0.3333333333333333,
             "#9c179e"
            ],
            [
             0.4444444444444444,
             "#bd3786"
            ],
            [
             0.5555555555555556,
             "#d8576b"
            ],
            [
             0.6666666666666666,
             "#ed7953"
            ],
            [
             0.7777777777777778,
             "#fb9f3a"
            ],
            [
             0.8888888888888888,
             "#fdca26"
            ],
            [
             1,
             "#f0f921"
            ]
           ]
          },
          "colorway": [
           "#636efa",
           "#EF553B",
           "#00cc96",
           "#ab63fa",
           "#FFA15A",
           "#19d3f3",
           "#FF6692",
           "#B6E880",
           "#FF97FF",
           "#FECB52"
          ],
          "font": {
           "color": "#2a3f5f"
          },
          "geo": {
           "bgcolor": "white",
           "lakecolor": "white",
           "landcolor": "#E5ECF6",
           "showlakes": true,
           "showland": true,
           "subunitcolor": "white"
          },
          "hoverlabel": {
           "align": "left"
          },
          "hovermode": "closest",
          "mapbox": {
           "style": "light"
          },
          "paper_bgcolor": "white",
          "plot_bgcolor": "#E5ECF6",
          "polar": {
           "angularaxis": {
            "gridcolor": "white",
            "linecolor": "white",
            "ticks": ""
           },
           "bgcolor": "#E5ECF6",
           "radialaxis": {
            "gridcolor": "white",
            "linecolor": "white",
            "ticks": ""
           }
          },
          "scene": {
           "xaxis": {
            "backgroundcolor": "#E5ECF6",
            "gridcolor": "white",
            "gridwidth": 2,
            "linecolor": "white",
            "showbackground": true,
            "ticks": "",
            "zerolinecolor": "white"
           },
           "yaxis": {
            "backgroundcolor": "#E5ECF6",
            "gridcolor": "white",
            "gridwidth": 2,
            "linecolor": "white",
            "showbackground": true,
            "ticks": "",
            "zerolinecolor": "white"
           },
           "zaxis": {
            "backgroundcolor": "#E5ECF6",
            "gridcolor": "white",
            "gridwidth": 2,
            "linecolor": "white",
            "showbackground": true,
            "ticks": "",
            "zerolinecolor": "white"
           }
          },
          "shapedefaults": {
           "line": {
            "color": "#2a3f5f"
           }
          },
          "ternary": {
           "aaxis": {
            "gridcolor": "white",
            "linecolor": "white",
            "ticks": ""
           },
           "baxis": {
            "gridcolor": "white",
            "linecolor": "white",
            "ticks": ""
           },
           "bgcolor": "#E5ECF6",
           "caxis": {
            "gridcolor": "white",
            "linecolor": "white",
            "ticks": ""
           }
          },
          "title": {
           "x": 0.05
          },
          "xaxis": {
           "automargin": true,
           "gridcolor": "white",
           "linecolor": "white",
           "ticks": "",
           "title": {
            "standoff": 15
           },
           "zerolinecolor": "white",
           "zerolinewidth": 2
          },
          "yaxis": {
           "automargin": true,
           "gridcolor": "white",
           "linecolor": "white",
           "ticks": "",
           "title": {
            "standoff": 15
           },
           "zerolinecolor": "white",
           "zerolinewidth": 2
          }
         }
        },
        "width": 1000,
        "xaxis": {
         "anchor": "y",
         "domain": [
          0,
          1
         ],
         "title": {
          "text": "country"
         }
        },
        "yaxis": {
         "anchor": "x",
         "domain": [
          0,
          1
         ],
         "title": {
          "text": "mortality_rate"
         }
        }
       }
      },
      "text/html": [
       "<div>\n",
       "        \n",
       "        \n",
       "            <div id=\"b475f93b-96c7-46e4-b030-7940a2f925e7\" class=\"plotly-graph-div\" style=\"height:900px; width:1000px;\"></div>\n",
       "            <script type=\"text/javascript\">\n",
       "                require([\"plotly\"], function(Plotly) {\n",
       "                    window.PLOTLYENV=window.PLOTLYENV || {};\n",
       "                    \n",
       "                if (document.getElementById(\"b475f93b-96c7-46e4-b030-7940a2f925e7\")) {\n",
       "                    Plotly.newPlot(\n",
       "                        'b475f93b-96c7-46e4-b030-7940a2f925e7',\n",
       "                        [{\"customdata\": [[\"Afghanistan\", 3.2503046275043213, 35289.0, 1147.0], [\"Albania\", 2.7393753200204807, 3906.0, 107.0], [\"Algeria\", 4.815928558410789, 21948.0, 1057.0], [\"Andorra\", 5.909090909090909, 880.0, 52.0], [\"Angola\", 4.545454545454546, 638.0, 29.0], [\"Antigua and Barbuda\", 3.947368421052632, 76.0, 3.0], [\"Argentina\", 1.825634319913496, 119301.0, 2178.0], [\"Armenia\", 1.831002263362544, 34462.0, 631.0], [\"Australia\", 1.0401188707280833, 11441.0, 119.0], [\"Austria\", 3.6325550503244255, 19573.0, 711.0], [\"Azerbaijan\", 1.2802222555939329, 26636.0, 341.0], [\"Bahamas\", 8.527131782945737, 129.0, 11.0], [\"Bahrain\", 0.3495616384292279, 35473.0, 124.0], [\"Bangladesh\", 1.2773054348579178, 202066.0, 2581.0], [\"Barbados\", 6.730769230769232, 104.0, 7.0], [\"Belarus\", 0.7464047915843239, 65782.0, 491.0], [\"Belgium\", 15.433313910455285, 63499.0, 9800.0], [\"Belize\", 5.0, 40.0, 2.0], [\"Benin\", 1.9350811485642947, 1602.0, 31.0], [\"Bhutan\", 0.0, 87.0, 0.0], [\"Bolivia\", 3.6522762111867673, 56102.0, 2049.0], [\"Bosnia and Herzegovina\", 3.0981284774911484, 7908.0, 245.0], [\"Botswana\", 0.19157088122605365, 522.0, 1.0], [\"Brazil\", 3.8044243151635513, 2046328.0, 77851.0], [\"Brunei\", 2.127659574468085, 141.0, 3.0], [\"Bulgaria\", 3.5181236673773992, 8442.0, 297.0], [\"Burkina Faso\", 5.071770334928231, 1045.0, 53.0], [\"Burma\", 1.7699115044247788, 339.0, 6.0], [\"Burundi\", 0.3225806451612903, 310.0, 1.0], [\"Cabo Verde\", 0.9798865394533264, 1939.0, 19.0], [\"Cambodia\", 0.0, 171.0, 0.0], [\"Cameroon\", 2.3085968929875595, 16157.0, 373.0], [\"Canada\", 7.963499134986867, 111559.0, 8884.0], [\"Central African Republic\", 1.2075643654591024, 4389.0, 53.0], [\"Chad\", 8.455467869222097, 887.0, 75.0], [\"Chile\", 2.5569861444251454, 326439.0, 8347.0], [\"China\", 5.443420775019339, 85314.0, 4644.0], [\"Colombia\", 3.4522894476776105, 182140.0, 6288.0], [\"Comoros\", 2.1341463414634148, 328.0, 7.0], [\"Congo (Brazzaville)\", 1.86099506266616, 2633.0, 49.0], [\"Congo (Kinshasa)\", 2.3185968284478617, 8324.0, 193.0], [\"Costa Rica\", 0.4714615307453104, 9969.0, 47.0], [\"Cote d'Ivoire\", 0.6352219626168224, 13696.0, 87.0], [\"Croatia\", 2.9006526468455403, 4137.0, 120.0], [\"Cuba\", 3.5597381342062198, 2444.0, 87.0], [\"Cyprus\", 1.8393030009680544, 1033.0, 19.0], [\"Czechia\", 2.605152088487848, 13742.0, 358.0], [\"Denmark\", 4.568565874084044, 13374.0, 611.0], [\"Diamond Princess\", 1.8258426966292132, 712.0, 13.0], [\"Djibouti\", 1.119328402958225, 5003.0, 56.0], [\"Dominica\", 0.0, 18.0, 0.0], [\"Dominican Republic\", 1.879751761020095, 50113.0, 942.0], [\"Ecuador\", 7.246976975318867, 72444.0, 5250.0], [\"Egypt\", 4.8430742188403455, 86474.0, 4188.0], [\"El Salvador\", 2.8910502364593555, 11207.0, 324.0], [\"Equatorial Guinea\", 1.6606968414197332, 3071.0, 51.0], [\"Eritrea\", 0.0, 251.0, 0.0], [\"Estonia\", 3.4141514101929737, 2021.0, 69.0], [\"Eswatini\", 1.2970969734403952, 1619.0, 21.0], [\"Ethiopia\", 1.703964557537203, 8803.0, 150.0], [\"Fiji\", 0.0, 26.0, 0.0], [\"Finland\", 4.48209893413501, 7318.0, 328.0], [\"France\", 14.22788202488405, 211943.0, 30155.0], [\"Gabon\", 0.7284243863816311, 6315.0, 46.0], [\"Gambia\", 4.301075268817204, 93.0, 4.0], [\"Georgia\", 1.4734774066797642, 1018.0, 15.0], [\"Germany\", 4.492105458229348, 202355.0, 9090.0], [\"Ghana\", 0.5419238295950625, 26572.0, 144.0], [\"Greece\", 4.894046417759839, 3964.0, 194.0], [\"Grenada\", 0.0, 23.0, 0.0], [\"Guatemala\", 4.2680942944186455, 33809.0, 1443.0], [\"Guinea\", 0.6065318818040435, 6430.0, 39.0], [\"Guinea-Bissau\", 1.3492475350285418, 1927.0, 26.0], [\"Guyana\", 5.9375, 320.0, 19.0], [\"Haiti\", 2.0931899641577063, 6975.0, 146.0], [\"Holy See\", 0.0, 12.0, 0.0], [\"Honduras\", 2.6996377382264924, 31745.0, 857.0], [\"Hungary\", 13.812282734646583, 4315.0, 596.0], [\"Iceland\", 0.5219206680584552, 1916.0, 10.0], [\"India\", 2.528477004746488, 1039084.0, 26273.0], [\"Indonesia\", 4.731274003911311, 84882.0, 4016.0], [\"Iran\", 5.146793517079888, 271606.0, 13979.0], [\"Iraq\", 4.101121684000408, 88171.0, 3616.0], [\"Ireland\", 6.809172172561213, 25730.0, 1752.0], [\"Israel\", 0.8259761056912283, 47459.0, 392.0], [\"Italy\", 14.357679522230466, 243967.0, 35028.0], [\"Jamaica\", 1.3020833333333333, 768.0, 10.0], [\"Japan\", 3.993351171653288, 24666.0, 985.0], [\"Jordan\", 0.8271298593879239, 1209.0, 10.0], [\"Kazakhstan\", 0.5458276931138378, 68703.0, 375.0], [\"Kenya\", 1.8404907975460123, 12062.0, 222.0], [\"Korea, South\", 2.1442637298519442, 13711.0, 294.0], [\"Kosovo\", 2.2660818713450293, 5472.0, 124.0], [\"Kuwait\", 0.6939076965356143, 58221.0, 404.0], [\"Kyrgyzstan\", 1.3205098847416228, 13101.0, 173.0], [\"Laos\", 0.0, 19.0, 0.0], [\"Latvia\", 2.607232968881413, 1189.0, 31.0], [\"Lebanon\", 1.4814814814814814, 2700.0, 40.0], [\"Lesotho\", 1.929260450160772, 311.0, 6.0], [\"Liberia\", 6.359447004608295, 1085.0, 69.0], [\"Libya\", 2.7582159624413145, 1704.0, 47.0], [\"Liechtenstein\", 1.1764705882352942, 85.0, 1.0], [\"Lithuania\", 4.1404612159329135, 1908.0, 79.0], [\"Luxembourg\", 2.0521353300055463, 5409.0, 111.0], [\"MS Zaandam\", 22.222222222222218, 9.0, 2.0], [\"Madagascar\", 0.8350085047162518, 6467.0, 54.0], [\"Malawi\", 1.96078431372549, 2805.0, 55.0], [\"Malaysia\", 1.3920584208124145, 8764.0, 122.0], [\"Maldives\", 0.5149330587023687, 2913.0, 15.0], [\"Mali\", 4.9047426023510345, 2467.0, 121.0], [\"Malta\", 1.3353115727002969, 674.0, 9.0], [\"Mauritania\", 2.6444833625218918, 5710.0, 151.0], [\"Mauritius\", 2.915451895043732, 343.0, 10.0], [\"Mexico\", 11.56360738670321, 331298.0, 38310.0], [\"Moldova\", 3.293646921050064, 20494.0, 675.0], [\"Monaco\", 3.669724770642202, 109.0, 4.0], [\"Mongolia\", 0.0, 287.0, 0.0], [\"Montenegro\", 1.383399209486166, 2024.0, 28.0], [\"Morocco\", 1.5783809637689823, 16726.0, 264.0], [\"Mozambique\", 0.6419400855920114, 1402.0, 9.0], [\"Namibia\", 0.1855287569573284, 1078.0, 2.0], [\"Nepal\", 0.2292920607623961, 17445.0, 40.0], [\"Netherlands\", 11.921152652807944, 103136.0, 12295.0], [\"New Zealand\", 1.4193548387096775, 1550.0, 22.0], [\"Nicaragua\", 3.145853193517636, 3147.0, 99.0], [\"Niger\", 6.261343012704173, 1102.0, 69.0], [\"Nigeria\", 2.1774693969650816, 35454.0, 772.0], [\"North Macedonia\", 4.620987935351696, 8786.0, 406.0], [\"Norway\", 2.8254847645429364, 9025.0, 255.0], [\"Oman\", 0.47020029311187106, 65504.0, 308.0], [\"Pakistan\", 2.108301484821528, 261917.0, 5522.0], [\"Panama\", 2.019140989729225, 51408.0, 1038.0], [\"Papua New Guinea\", 0.0, 16.0, 0.0], [\"Paraguay\", 0.8099508244142319, 3457.0, 28.0], [\"Peru\", 3.704089576514237, 345537.0, 12799.0], [\"Philippines\", 2.714994487320838, 65304.0, 1773.0], [\"Poland\", 4.0708498968449645, 39746.0, 1618.0], [\"Portugal\", 3.498554402312956, 48077.0, 1682.0], [\"Qatar\", 0.1444786492662751, 105898.0, 153.0], [\"Romania\", 5.475457196587719, 36691.0, 2009.0], [\"Russia\", 1.6000732778079467, 764215.0, 12228.0], [\"Rwanda\", 0.26936026936026936, 1485.0, 4.0], [\"Saint Kitts and Nevis\", 0.0, 17.0, 0.0], [\"Saint Lucia\", 0.0, 23.0, 0.0], [\"Saint Vincent and the Grenadines\", 0.0, 35.0, 0.0], [\"San Marino\", 6.008583690987124, 699.0, 42.0], [\"Sao Tome and Principe\", 1.889338731443995, 741.0, 14.0], [\"Saudi Arabia\", 0.9790482853435616, 245851.0, 2407.0], [\"Senegal\", 1.8726591760299625, 8544.0, 160.0], [\"Serbia\", 2.247749763787359, 20109.0, 452.0], [\"Seychelles\", 0.0, 108.0, 0.0], [\"Sierra Leone\", 3.8507109004739335, 1688.0, 65.0], [\"Singapore\", 0.056657223796034, 47655.0, 27.0], [\"Slovakia\", 1.4170040485829958, 1976.0, 28.0], [\"Slovenia\", 5.721649484536082, 1940.0, 111.0], [\"Somalia\", 2.994204764971024, 3106.0, 93.0], [\"South Africa\", 1.4230110724716671, 337594.0, 4804.0], [\"South Sudan\", 1.9625741670470105, 2191.0, 43.0], [\"Spain\", 10.920059172734431, 260255.0, 28420.0], [\"Sri Lanka\", 0.4078605858361142, 2697.0, 11.0], [\"Sudan\", 6.345587536810108, 10527.0, 668.0], [\"Suriname\", 2.0148462354188763, 943.0, 19.0], [\"Sweden\", 7.270868648180017, 77281.0, 5619.0], [\"Switzerland\", 5.898388353004612, 33382.0, 1969.0], [\"Syria\", 5.040322580645161, 496.0, 25.0], [\"Taiwan*\", 1.5521064301552103, 451.0, 7.0], [\"Tajikistan\", 0.825228411435308, 6786.0, 56.0], [\"Tanzania\", 4.12573673870334, 509.0, 21.0], [\"Thailand\", 1.786814540973506, 3246.0, 58.0], [\"Timor-Leste\", 0.0, 24.0, 0.0], [\"Togo\", 1.95822454308094, 766.0, 15.0], [\"Trinidad and Tobago\", 5.882352941176472, 136.0, 8.0], [\"Tunisia\", 3.74251497005988, 1336.0, 50.0], [\"Turkey\", 2.505980284574309, 217799.0, 5458.0], [\"US\", 3.8178969574103236, 3647715.0, 139266.0], [\"Uganda\", 0.0, 1056.0, 0.0], [\"Ukraine\", 2.521362479564492, 59333.0, 1496.0], [\"United Arab Emirates\", 0.5960043025162667, 56711.0, 338.0], [\"United Kingdom\", 15.372247323645539, 294804.0, 45318.0], [\"Uruguay\", 3.085824493731919, 1037.0, 32.0], [\"Uzbekistan\", 0.5032712632108707, 15896.0, 80.0], [\"Venezuela\", 0.9561254579572872, 11191.0, 107.0], [\"Vietnam\", 0.0, 382.0, 0.0], [\"West Bank and Gaza\", 0.7083977331272541, 7764.0, 55.0], [\"Western Sahara\", 10.0, 10.0, 1.0], [\"Yemen\", 27.91878172588833, 1576.0, 440.0], [\"Zambia\", 3.879003558718861, 2810.0, 109.0], [\"Zimbabwe\", 1.6901408450704225, 1420.0, 24.0]], \"hovertemplate\": \"country=%{customdata[0]}<br>mortality_rate=%{marker.color}<br>confirmed=%{customdata[2]}<br>deaths=%{customdata[3]}<extra></extra>\", \"legendgroup\": \"\", \"marker\": {\"color\": [3.2503046275043213, 2.7393753200204807, 4.815928558410789, 5.909090909090909, 4.545454545454546, 3.947368421052632, 1.825634319913496, 1.831002263362544, 1.0401188707280833, 3.6325550503244255, 1.2802222555939329, 8.527131782945737, 0.3495616384292279, 1.2773054348579178, 6.730769230769232, 0.7464047915843239, 15.433313910455285, 5.0, 1.9350811485642947, 0.0, 3.6522762111867673, 3.0981284774911484, 0.19157088122605365, 3.8044243151635513, 2.127659574468085, 3.5181236673773992, 5.071770334928231, 1.7699115044247788, 0.3225806451612903, 0.9798865394533264, 0.0, 2.3085968929875595, 7.963499134986867, 1.2075643654591024, 8.455467869222097, 2.5569861444251454, 5.443420775019339, 3.4522894476776105, 2.1341463414634148, 1.86099506266616, 2.3185968284478617, 0.4714615307453104, 0.6352219626168224, 2.9006526468455403, 3.5597381342062198, 1.8393030009680544, 2.605152088487848, 4.568565874084044, 1.8258426966292132, 1.119328402958225, 0.0, 1.879751761020095, 7.246976975318867, 4.8430742188403455, 2.8910502364593555, 1.6606968414197332, 0.0, 3.4141514101929737, 1.2970969734403952, 1.703964557537203, 0.0, 4.48209893413501, 14.22788202488405, 0.7284243863816311, 4.301075268817204, 1.4734774066797642, 4.492105458229348, 0.5419238295950625, 4.894046417759839, 0.0, 4.2680942944186455, 0.6065318818040435, 1.3492475350285418, 5.9375, 2.0931899641577063, 0.0, 2.6996377382264924, 13.812282734646583, 0.5219206680584552, 2.528477004746488, 4.731274003911311, 5.146793517079888, 4.101121684000408, 6.809172172561213, 0.8259761056912283, 14.357679522230466, 1.3020833333333333, 3.993351171653288, 0.8271298593879239, 0.5458276931138378, 1.8404907975460123, 2.1442637298519442, 2.2660818713450293, 0.6939076965356143, 1.3205098847416228, 0.0, 2.607232968881413, 1.4814814814814814, 1.929260450160772, 6.359447004608295, 2.7582159624413145, 1.1764705882352942, 4.1404612159329135, 2.0521353300055463, 22.222222222222218, 0.8350085047162518, 1.96078431372549, 1.3920584208124145, 0.5149330587023687, 4.9047426023510345, 1.3353115727002969, 2.6444833625218918, 2.915451895043732, 11.56360738670321, 3.293646921050064, 3.669724770642202, 0.0, 1.383399209486166, 1.5783809637689823, 0.6419400855920114, 0.1855287569573284, 0.2292920607623961, 11.921152652807944, 1.4193548387096775, 3.145853193517636, 6.261343012704173, 2.1774693969650816, 4.620987935351696, 2.8254847645429364, 0.47020029311187106, 2.108301484821528, 2.019140989729225, 0.0, 0.8099508244142319, 3.704089576514237, 2.714994487320838, 4.0708498968449645, 3.498554402312956, 0.1444786492662751, 5.475457196587719, 1.6000732778079467, 0.26936026936026936, 0.0, 0.0, 0.0, 6.008583690987124, 1.889338731443995, 0.9790482853435616, 1.8726591760299625, 2.247749763787359, 0.0, 3.8507109004739335, 0.056657223796034, 1.4170040485829958, 5.721649484536082, 2.994204764971024, 1.4230110724716671, 1.9625741670470105, 10.920059172734431, 0.4078605858361142, 6.345587536810108, 2.0148462354188763, 7.270868648180017, 5.898388353004612, 5.040322580645161, 1.5521064301552103, 0.825228411435308, 4.12573673870334, 1.786814540973506, 0.0, 1.95822454308094, 5.882352941176472, 3.74251497005988, 2.505980284574309, 3.8178969574103236, 0.0, 2.521362479564492, 0.5960043025162667, 15.372247323645539, 3.085824493731919, 0.5032712632108707, 0.9561254579572872, 0.0, 0.7083977331272541, 10.0, 27.91878172588833, 3.879003558718861, 1.6901408450704225], \"coloraxis\": \"coloraxis\", \"symbol\": \"circle\"}, \"mode\": \"markers\", \"name\": \"\", \"orientation\": \"v\", \"showlegend\": false, \"type\": \"scatter\", \"uid\": \"41d53c03-5309-45c2-8e02-ab80c0d30910\", \"x\": [\"Afghanistan\", \"Albania\", \"Algeria\", \"Andorra\", \"Angola\", \"Antigua and Barbuda\", \"Argentina\", \"Armenia\", \"Australia\", \"Austria\", \"Azerbaijan\", \"Bahamas\", \"Bahrain\", \"Bangladesh\", \"Barbados\", \"Belarus\", \"Belgium\", \"Belize\", \"Benin\", \"Bhutan\", \"Bolivia\", \"Bosnia and Herzegovina\", \"Botswana\", \"Brazil\", \"Brunei\", \"Bulgaria\", \"Burkina Faso\", \"Burma\", \"Burundi\", \"Cabo Verde\", \"Cambodia\", \"Cameroon\", \"Canada\", \"Central African Republic\", \"Chad\", \"Chile\", \"China\", \"Colombia\", \"Comoros\", \"Congo (Brazzaville)\", \"Congo (Kinshasa)\", \"Costa Rica\", \"Cote d'Ivoire\", \"Croatia\", \"Cuba\", \"Cyprus\", \"Czechia\", \"Denmark\", \"Diamond Princess\", \"Djibouti\", \"Dominica\", \"Dominican Republic\", \"Ecuador\", \"Egypt\", \"El Salvador\", \"Equatorial Guinea\", \"Eritrea\", \"Estonia\", \"Eswatini\", \"Ethiopia\", \"Fiji\", \"Finland\", \"France\", \"Gabon\", \"Gambia\", \"Georgia\", \"Germany\", \"Ghana\", \"Greece\", \"Grenada\", \"Guatemala\", \"Guinea\", \"Guinea-Bissau\", \"Guyana\", \"Haiti\", \"Holy See\", \"Honduras\", \"Hungary\", \"Iceland\", \"India\", \"Indonesia\", \"Iran\", \"Iraq\", \"Ireland\", \"Israel\", \"Italy\", \"Jamaica\", \"Japan\", \"Jordan\", \"Kazakhstan\", \"Kenya\", \"Korea, South\", \"Kosovo\", \"Kuwait\", \"Kyrgyzstan\", \"Laos\", \"Latvia\", \"Lebanon\", \"Lesotho\", \"Liberia\", \"Libya\", \"Liechtenstein\", \"Lithuania\", \"Luxembourg\", \"MS Zaandam\", \"Madagascar\", \"Malawi\", \"Malaysia\", \"Maldives\", \"Mali\", \"Malta\", \"Mauritania\", \"Mauritius\", \"Mexico\", \"Moldova\", \"Monaco\", \"Mongolia\", \"Montenegro\", \"Morocco\", \"Mozambique\", \"Namibia\", \"Nepal\", \"Netherlands\", \"New Zealand\", \"Nicaragua\", \"Niger\", \"Nigeria\", \"North Macedonia\", \"Norway\", \"Oman\", \"Pakistan\", \"Panama\", \"Papua New Guinea\", \"Paraguay\", \"Peru\", \"Philippines\", \"Poland\", \"Portugal\", \"Qatar\", \"Romania\", \"Russia\", \"Rwanda\", \"Saint Kitts and Nevis\", \"Saint Lucia\", \"Saint Vincent and the Grenadines\", \"San Marino\", \"Sao Tome and Principe\", \"Saudi Arabia\", \"Senegal\", \"Serbia\", \"Seychelles\", \"Sierra Leone\", \"Singapore\", \"Slovakia\", \"Slovenia\", \"Somalia\", \"South Africa\", \"South Sudan\", \"Spain\", \"Sri Lanka\", \"Sudan\", \"Suriname\", \"Sweden\", \"Switzerland\", \"Syria\", \"Taiwan*\", \"Tajikistan\", \"Tanzania\", \"Thailand\", \"Timor-Leste\", \"Togo\", \"Trinidad and Tobago\", \"Tunisia\", \"Turkey\", \"US\", \"Uganda\", \"Ukraine\", \"United Arab Emirates\", \"United Kingdom\", \"Uruguay\", \"Uzbekistan\", \"Venezuela\", \"Vietnam\", \"West Bank and Gaza\", \"Western Sahara\", \"Yemen\", \"Zambia\", \"Zimbabwe\"], \"xaxis\": \"x\", \"y\": [3.2503046275043213, 2.7393753200204807, 4.815928558410789, 5.909090909090909, 4.545454545454546, 3.947368421052632, 1.825634319913496, 1.831002263362544, 1.0401188707280833, 3.6325550503244255, 1.2802222555939329, 8.527131782945737, 0.3495616384292279, 1.2773054348579178, 6.730769230769232, 0.7464047915843239, 15.433313910455285, 5.0, 1.9350811485642947, 0.0, 3.6522762111867673, 3.0981284774911484, 0.19157088122605365, 3.8044243151635513, 2.127659574468085, 3.5181236673773992, 5.071770334928231, 1.7699115044247788, 0.3225806451612903, 0.9798865394533264, 0.0, 2.3085968929875595, 7.963499134986867, 1.2075643654591024, 8.455467869222097, 2.5569861444251454, 5.443420775019339, 3.4522894476776105, 2.1341463414634148, 1.86099506266616, 2.3185968284478617, 0.4714615307453104, 0.6352219626168224, 2.9006526468455403, 3.5597381342062198, 1.8393030009680544, 2.605152088487848, 4.568565874084044, 1.8258426966292132, 1.119328402958225, 0.0, 1.879751761020095, 7.246976975318867, 4.8430742188403455, 2.8910502364593555, 1.6606968414197332, 0.0, 3.4141514101929737, 1.2970969734403952, 1.703964557537203, 0.0, 4.48209893413501, 14.22788202488405, 0.7284243863816311, 4.301075268817204, 1.4734774066797642, 4.492105458229348, 0.5419238295950625, 4.894046417759839, 0.0, 4.2680942944186455, 0.6065318818040435, 1.3492475350285418, 5.9375, 2.0931899641577063, 0.0, 2.6996377382264924, 13.812282734646583, 0.5219206680584552, 2.528477004746488, 4.731274003911311, 5.146793517079888, 4.101121684000408, 6.809172172561213, 0.8259761056912283, 14.357679522230466, 1.3020833333333333, 3.993351171653288, 0.8271298593879239, 0.5458276931138378, 1.8404907975460123, 2.1442637298519442, 2.2660818713450293, 0.6939076965356143, 1.3205098847416228, 0.0, 2.607232968881413, 1.4814814814814814, 1.929260450160772, 6.359447004608295, 2.7582159624413145, 1.1764705882352942, 4.1404612159329135, 2.0521353300055463, 22.222222222222218, 0.8350085047162518, 1.96078431372549, 1.3920584208124145, 0.5149330587023687, 4.9047426023510345, 1.3353115727002969, 2.6444833625218918, 2.915451895043732, 11.56360738670321, 3.293646921050064, 3.669724770642202, 0.0, 1.383399209486166, 1.5783809637689823, 0.6419400855920114, 0.1855287569573284, 0.2292920607623961, 11.921152652807944, 1.4193548387096775, 3.145853193517636, 6.261343012704173, 2.1774693969650816, 4.620987935351696, 2.8254847645429364, 0.47020029311187106, 2.108301484821528, 2.019140989729225, 0.0, 0.8099508244142319, 3.704089576514237, 2.714994487320838, 4.0708498968449645, 3.498554402312956, 0.1444786492662751, 5.475457196587719, 1.6000732778079467, 0.26936026936026936, 0.0, 0.0, 0.0, 6.008583690987124, 1.889338731443995, 0.9790482853435616, 1.8726591760299625, 2.247749763787359, 0.0, 3.8507109004739335, 0.056657223796034, 1.4170040485829958, 5.721649484536082, 2.994204764971024, 1.4230110724716671, 1.9625741670470105, 10.920059172734431, 0.4078605858361142, 6.345587536810108, 2.0148462354188763, 7.270868648180017, 5.898388353004612, 5.040322580645161, 1.5521064301552103, 0.825228411435308, 4.12573673870334, 1.786814540973506, 0.0, 1.95822454308094, 5.882352941176472, 3.74251497005988, 2.505980284574309, 3.8178969574103236, 0.0, 2.521362479564492, 0.5960043025162667, 15.372247323645539, 3.085824493731919, 0.5032712632108707, 0.9561254579572872, 0.0, 0.7083977331272541, 10.0, 27.91878172588833, 3.879003558718861, 1.6901408450704225], \"yaxis\": \"y\"}],\n",
       "                        {\"autosize\": true, \"coloraxis\": {\"colorbar\": {\"title\": {\"text\": \"mortality_rate\"}}, \"colorscale\": [[0.0, \"#0d0887\"], [0.1111111111111111, \"#46039f\"], [0.2222222222222222, \"#7201a8\"], [0.3333333333333333, \"#9c179e\"], [0.4444444444444444, \"#bd3786\"], [0.5555555555555556, \"#d8576b\"], [0.6666666666666666, \"#ed7953\"], [0.7777777777777778, \"#fb9f3a\"], [0.8888888888888888, \"#fdca26\"], [1.0, \"#f0f921\"]]}, \"height\": 900, \"legend\": {\"tracegroupgap\": 0}, \"margin\": {\"t\": 60}, \"template\": {\"data\": {\"bar\": [{\"error_x\": {\"color\": \"#2a3f5f\"}, \"error_y\": {\"color\": \"#2a3f5f\"}, \"marker\": {\"line\": {\"color\": \"#E5ECF6\", \"width\": 0.5}}, \"type\": \"bar\"}], \"barpolar\": [{\"marker\": {\"line\": {\"color\": \"#E5ECF6\", \"width\": 0.5}}, \"type\": \"barpolar\"}], \"carpet\": [{\"aaxis\": {\"endlinecolor\": \"#2a3f5f\", \"gridcolor\": \"white\", \"linecolor\": \"white\", \"minorgridcolor\": \"white\", \"startlinecolor\": \"#2a3f5f\"}, \"baxis\": {\"endlinecolor\": \"#2a3f5f\", \"gridcolor\": \"white\", \"linecolor\": \"white\", \"minorgridcolor\": \"white\", \"startlinecolor\": \"#2a3f5f\"}, \"type\": \"carpet\"}], \"choropleth\": [{\"colorbar\": {\"outlinewidth\": 0, \"ticks\": \"\"}, \"type\": \"choropleth\"}], \"contour\": [{\"colorbar\": {\"outlinewidth\": 0, \"ticks\": \"\"}, \"colorscale\": [[0.0, \"#0d0887\"], [0.1111111111111111, \"#46039f\"], [0.2222222222222222, \"#7201a8\"], [0.3333333333333333, \"#9c179e\"], [0.4444444444444444, \"#bd3786\"], [0.5555555555555556, \"#d8576b\"], [0.6666666666666666, \"#ed7953\"], [0.7777777777777778, \"#fb9f3a\"], [0.8888888888888888, \"#fdca26\"], [1.0, \"#f0f921\"]], \"type\": \"contour\"}], \"contourcarpet\": [{\"colorbar\": {\"outlinewidth\": 0, \"ticks\": \"\"}, \"type\": \"contourcarpet\"}], \"heatmap\": [{\"colorbar\": {\"outlinewidth\": 0, \"ticks\": \"\"}, \"colorscale\": [[0.0, \"#0d0887\"], [0.1111111111111111, \"#46039f\"], [0.2222222222222222, \"#7201a8\"], [0.3333333333333333, \"#9c179e\"], [0.4444444444444444, \"#bd3786\"], [0.5555555555555556, \"#d8576b\"], [0.6666666666666666, \"#ed7953\"], [0.7777777777777778, \"#fb9f3a\"], [0.8888888888888888, \"#fdca26\"], [1.0, \"#f0f921\"]], \"type\": \"heatmap\"}], \"heatmapgl\": [{\"colorbar\": {\"outlinewidth\": 0, \"ticks\": \"\"}, \"colorscale\": [[0.0, \"#0d0887\"], [0.1111111111111111, \"#46039f\"], [0.2222222222222222, \"#7201a8\"], [0.3333333333333333, \"#9c179e\"], [0.4444444444444444, \"#bd3786\"], [0.5555555555555556, \"#d8576b\"], [0.6666666666666666, \"#ed7953\"], [0.7777777777777778, \"#fb9f3a\"], [0.8888888888888888, \"#fdca26\"], [1.0, \"#f0f921\"]], \"type\": \"heatmapgl\"}], \"histogram\": [{\"marker\": {\"colorbar\": {\"outlinewidth\": 0, \"ticks\": \"\"}}, \"type\": \"histogram\"}], \"histogram2d\": [{\"colorbar\": {\"outlinewidth\": 0, \"ticks\": \"\"}, \"colorscale\": [[0.0, \"#0d0887\"], [0.1111111111111111, \"#46039f\"], [0.2222222222222222, \"#7201a8\"], [0.3333333333333333, \"#9c179e\"], [0.4444444444444444, \"#bd3786\"], [0.5555555555555556, \"#d8576b\"], [0.6666666666666666, \"#ed7953\"], [0.7777777777777778, \"#fb9f3a\"], [0.8888888888888888, \"#fdca26\"], [1.0, \"#f0f921\"]], \"type\": \"histogram2d\"}], \"histogram2dcontour\": [{\"colorbar\": {\"outlinewidth\": 0, \"ticks\": \"\"}, \"colorscale\": [[0.0, \"#0d0887\"], [0.1111111111111111, \"#46039f\"], [0.2222222222222222, \"#7201a8\"], [0.3333333333333333, \"#9c179e\"], [0.4444444444444444, \"#bd3786\"], [0.5555555555555556, \"#d8576b\"], [0.6666666666666666, \"#ed7953\"], [0.7777777777777778, \"#fb9f3a\"], [0.8888888888888888, \"#fdca26\"], [1.0, \"#f0f921\"]], \"type\": \"histogram2dcontour\"}], \"mesh3d\": [{\"colorbar\": {\"outlinewidth\": 0, \"ticks\": \"\"}, \"type\": \"mesh3d\"}], \"parcoords\": [{\"line\": {\"colorbar\": {\"outlinewidth\": 0, \"ticks\": \"\"}}, \"type\": \"parcoords\"}], \"pie\": [{\"automargin\": true, \"type\": \"pie\"}], \"scatter\": [{\"marker\": {\"colorbar\": {\"outlinewidth\": 0, \"ticks\": \"\"}}, \"type\": \"scatter\"}], \"scatter3d\": [{\"line\": {\"colorbar\": {\"outlinewidth\": 0, \"ticks\": \"\"}}, \"marker\": {\"colorbar\": {\"outlinewidth\": 0, \"ticks\": \"\"}}, \"type\": \"scatter3d\"}], \"scattercarpet\": [{\"marker\": {\"colorbar\": {\"outlinewidth\": 0, \"ticks\": \"\"}}, \"type\": \"scattercarpet\"}], \"scattergeo\": [{\"marker\": {\"colorbar\": {\"outlinewidth\": 0, \"ticks\": \"\"}}, \"type\": \"scattergeo\"}], \"scattergl\": [{\"marker\": {\"colorbar\": {\"outlinewidth\": 0, \"ticks\": \"\"}}, \"type\": \"scattergl\"}], \"scattermapbox\": [{\"marker\": {\"colorbar\": {\"outlinewidth\": 0, \"ticks\": \"\"}}, \"type\": \"scattermapbox\"}], \"scatterpolar\": [{\"marker\": {\"colorbar\": {\"outlinewidth\": 0, \"ticks\": \"\"}}, \"type\": \"scatterpolar\"}], \"scatterpolargl\": [{\"marker\": {\"colorbar\": {\"outlinewidth\": 0, \"ticks\": \"\"}}, \"type\": \"scatterpolargl\"}], \"scatterternary\": [{\"marker\": {\"colorbar\": {\"outlinewidth\": 0, \"ticks\": \"\"}}, \"type\": \"scatterternary\"}], \"surface\": [{\"colorbar\": {\"outlinewidth\": 0, \"ticks\": \"\"}, \"colorscale\": [[0.0, \"#0d0887\"], [0.1111111111111111, \"#46039f\"], [0.2222222222222222, \"#7201a8\"], [0.3333333333333333, \"#9c179e\"], [0.4444444444444444, \"#bd3786\"], [0.5555555555555556, \"#d8576b\"], [0.6666666666666666, \"#ed7953\"], [0.7777777777777778, \"#fb9f3a\"], [0.8888888888888888, \"#fdca26\"], [1.0, \"#f0f921\"]], \"type\": \"surface\"}], \"table\": [{\"cells\": {\"fill\": {\"color\": \"#EBF0F8\"}, \"line\": {\"color\": \"white\"}}, \"header\": {\"fill\": {\"color\": \"#C8D4E3\"}, \"line\": {\"color\": \"white\"}}, \"type\": \"table\"}]}, \"layout\": {\"annotationdefaults\": {\"arrowcolor\": \"#2a3f5f\", \"arrowhead\": 0, \"arrowwidth\": 1}, \"coloraxis\": {\"colorbar\": {\"outlinewidth\": 0, \"ticks\": \"\"}}, \"colorscale\": {\"diverging\": [[0, \"#8e0152\"], [0.1, \"#c51b7d\"], [0.2, \"#de77ae\"], [0.3, \"#f1b6da\"], [0.4, \"#fde0ef\"], [0.5, \"#f7f7f7\"], [0.6, \"#e6f5d0\"], [0.7, \"#b8e186\"], [0.8, \"#7fbc41\"], [0.9, \"#4d9221\"], [1, \"#276419\"]], \"sequential\": [[0.0, \"#0d0887\"], [0.1111111111111111, \"#46039f\"], [0.2222222222222222, \"#7201a8\"], [0.3333333333333333, \"#9c179e\"], [0.4444444444444444, \"#bd3786\"], [0.5555555555555556, \"#d8576b\"], [0.6666666666666666, \"#ed7953\"], [0.7777777777777778, \"#fb9f3a\"], [0.8888888888888888, \"#fdca26\"], [1.0, \"#f0f921\"]], \"sequentialminus\": [[0.0, \"#0d0887\"], [0.1111111111111111, \"#46039f\"], [0.2222222222222222, \"#7201a8\"], [0.3333333333333333, \"#9c179e\"], [0.4444444444444444, \"#bd3786\"], [0.5555555555555556, \"#d8576b\"], [0.6666666666666666, \"#ed7953\"], [0.7777777777777778, \"#fb9f3a\"], [0.8888888888888888, \"#fdca26\"], [1.0, \"#f0f921\"]]}, \"colorway\": [\"#636efa\", \"#EF553B\", \"#00cc96\", \"#ab63fa\", \"#FFA15A\", \"#19d3f3\", \"#FF6692\", \"#B6E880\", \"#FF97FF\", \"#FECB52\"], \"font\": {\"color\": \"#2a3f5f\"}, \"geo\": {\"bgcolor\": \"white\", \"lakecolor\": \"white\", \"landcolor\": \"#E5ECF6\", \"showlakes\": true, \"showland\": true, \"subunitcolor\": \"white\"}, \"hoverlabel\": {\"align\": \"left\"}, \"hovermode\": \"closest\", \"mapbox\": {\"style\": \"light\"}, \"paper_bgcolor\": \"white\", \"plot_bgcolor\": \"#E5ECF6\", \"polar\": {\"angularaxis\": {\"gridcolor\": \"white\", \"linecolor\": \"white\", \"ticks\": \"\"}, \"bgcolor\": \"#E5ECF6\", \"radialaxis\": {\"gridcolor\": \"white\", \"linecolor\": \"white\", \"ticks\": \"\"}}, \"scene\": {\"xaxis\": {\"backgroundcolor\": \"#E5ECF6\", \"gridcolor\": \"white\", \"gridwidth\": 2, \"linecolor\": \"white\", \"showbackground\": true, \"ticks\": \"\", \"zerolinecolor\": \"white\"}, \"yaxis\": {\"backgroundcolor\": \"#E5ECF6\", \"gridcolor\": \"white\", \"gridwidth\": 2, \"linecolor\": \"white\", \"showbackground\": true, \"ticks\": \"\", \"zerolinecolor\": \"white\"}, \"zaxis\": {\"backgroundcolor\": \"#E5ECF6\", \"gridcolor\": \"white\", \"gridwidth\": 2, \"linecolor\": \"white\", \"showbackground\": true, \"ticks\": \"\", \"zerolinecolor\": \"white\"}}, \"shapedefaults\": {\"line\": {\"color\": \"#2a3f5f\"}}, \"ternary\": {\"aaxis\": {\"gridcolor\": \"white\", \"linecolor\": \"white\", \"ticks\": \"\"}, \"baxis\": {\"gridcolor\": \"white\", \"linecolor\": \"white\", \"ticks\": \"\"}, \"bgcolor\": \"#E5ECF6\", \"caxis\": {\"gridcolor\": \"white\", \"linecolor\": \"white\", \"ticks\": \"\"}}, \"title\": {\"x\": 0.05}, \"xaxis\": {\"automargin\": true, \"gridcolor\": \"white\", \"linecolor\": \"white\", \"ticks\": \"\", \"title\": {\"standoff\": 15}, \"zerolinecolor\": \"white\", \"zerolinewidth\": 2}, \"yaxis\": {\"automargin\": true, \"gridcolor\": \"white\", \"linecolor\": \"white\", \"ticks\": \"\", \"title\": {\"standoff\": 15}, \"zerolinecolor\": \"white\", \"zerolinewidth\": 2}}}, \"width\": 1000, \"xaxis\": {\"anchor\": \"y\", \"domain\": [0.0, 1.0], \"title\": {\"text\": \"country\"}}, \"yaxis\": {\"anchor\": \"x\", \"domain\": [0.0, 1.0], \"title\": {\"text\": \"mortality_rate\"}}},\n",
       "                        {\"responsive\": true}\n",
       "                    ).then(function(){\n",
       "                            \n",
       "var gd = document.getElementById('b475f93b-96c7-46e4-b030-7940a2f925e7');\n",
       "var x = new MutationObserver(function (mutations, observer) {{\n",
       "        var display = window.getComputedStyle(gd).display;\n",
       "        if (!display || display === 'none') {{\n",
       "            console.log([gd, 'removed!']);\n",
       "            Plotly.purge(gd);\n",
       "            observer.disconnect();\n",
       "        }}\n",
       "}});\n",
       "\n",
       "// Listen for the removal of the full notebook cells\n",
       "var notebookContainer = gd.closest('#notebook-container');\n",
       "if (notebookContainer) {{\n",
       "    x.observe(notebookContainer, {childList: true});\n",
       "}}\n",
       "\n",
       "// Listen for the clearing of the current output cell\n",
       "var outputEl = gd.closest('.output');\n",
       "if (outputEl) {{\n",
       "    x.observe(outputEl, {childList: true});\n",
       "}}\n",
       "\n",
       "                        })\n",
       "                };\n",
       "                });\n",
       "            </script>\n",
       "        </div>"
      ]
     },
     "metadata": {},
     "output_type": "display_data"
    }
   ],
   "source": [
    "#Mortality rate scatter plot for all countries\n",
    "fig = px.scatter(mortality_countrywise.sort_values(by=\"country\",ascending=True), x=\"country\", y=\"mortality_rate\", color=\"mortality_rate\",\n",
    "                hover_data=['country','mortality_rate','confirmed','deaths'])\n",
    "fig.update_layout( autosize=True, width=1000, height=900,\n",
    ")\n",
    "fig = go.FigureWidget(fig)\n",
    "\n",
    "fig.show()"
   ]
  },
  {
   "cell_type": "code",
   "execution_count": 17,
   "metadata": {},
   "outputs": [],
   "source": [
    "# 1.2 Tidying the data\n",
    "# Using melt() command in pandas\n",
    "id_list = confirmed_df.columns.to_list()[:4]\n",
    "vars_list =confirmed_df.columns.to_list()[4:]\n",
    "confirmed_tidy = pd.melt(confirmed_df, id_vars=id_list,\\\n",
    "     value_vars=vars_list, var_name='Date', value_name='Confirmed')\n",
    "deaths_tidy = pd.melt(death_df, id_vars=id_list,\\\n",
    "     value_vars=vars_list, var_name='Date', value_name='Deaths')\n",
    "recovered_tidy = pd.melt(recovered_df, id_vars=id_list,\\\n",
    "     value_vars=vars_list, var_name='Date', value_name='Recovered')\n",
    "\n",
    "# 1.3 Merging the three dataframes into one\n",
    "data_frames = [confirmed_tidy, deaths_tidy, recovered_tidy]          \n",
    "df_corona = reduce(lambda left, right: pd.merge(left, right, on =\\\n",
    "               id_list+['Date'], how='outer'), data_frames)\n",
    "\n",
    "# 1.4 Each row should only represent one observation\n",
    "id_vars = df_corona.columns[:5]\n",
    "data_type = ['Confirmed', 'Deaths', 'Recovered']\n",
    "df_corona = pd.melt(df_corona, id_vars=id_vars,\n",
    "          value_vars=data_type, var_name='type', value_name='Count')\n",
    "\n",
    "df_corona['Date'] = pd.to_datetime(df_corona['Date'],\n",
    "            format='%m/%d/%y', )\n",
    "\n",
    "#df_corona.head()"
   ]
  },
  {
   "cell_type": "markdown",
   "metadata": {},
   "source": [
    "## Bar plot for 10 countries with highest death cases:"
   ]
  },
  {
   "cell_type": "code",
   "execution_count": 51,
   "metadata": {},
   "outputs": [
    {
     "data": {
      "application/vnd.plotly.v1+json": {
       "config": {
        "plotlyServerURL": "https://plot.ly"
       },
       "data": [
        {
         "alignmentgroup": "True",
         "hovertemplate": "country=%{y}<br>Count=%{x}<extra></extra>",
         "legendgroup": "US",
         "marker": {
          "color": "#636efa"
         },
         "name": "US",
         "offsetgroup": "US",
         "orientation": "h",
         "showlegend": true,
         "textposition": "auto",
         "type": "bar",
         "uid": "98d0be44-5985-40fc-9e3f-ae80bd3661d0",
         "x": [
          138358
         ],
         "xaxis": "x",
         "y": [
          "US"
         ],
         "yaxis": "y"
        },
        {
         "alignmentgroup": "True",
         "hovertemplate": "country=%{y}<br>Count=%{x}<extra></extra>",
         "legendgroup": "Brazil",
         "marker": {
          "color": "#EF553B"
         },
         "name": "Brazil",
         "offsetgroup": "Brazil",
         "orientation": "h",
         "showlegend": true,
         "textposition": "auto",
         "type": "bar",
         "uid": "498a7db3-28a0-471b-88c3-077b91c0044c",
         "x": [
          76688
         ],
         "xaxis": "x",
         "y": [
          "Brazil"
         ],
         "yaxis": "y"
        },
        {
         "alignmentgroup": "True",
         "hovertemplate": "country=%{y}<br>Count=%{x}<extra></extra>",
         "legendgroup": "United Kingdom",
         "marker": {
          "color": "#00cc96"
         },
         "name": "United Kingdom",
         "offsetgroup": "United Kingdom",
         "orientation": "h",
         "showlegend": true,
         "textposition": "auto",
         "type": "bar",
         "uid": "dfaf8164-3a74-40b3-ae91-46bf14e8e1bd",
         "x": [
          45119
         ],
         "xaxis": "x",
         "y": [
          "United Kingdom"
         ],
         "yaxis": "y"
        },
        {
         "alignmentgroup": "True",
         "hovertemplate": "country=%{y}<br>Count=%{x}<extra></extra>",
         "legendgroup": "Mexico",
         "marker": {
          "color": "#ab63fa"
         },
         "name": "Mexico",
         "offsetgroup": "Mexico",
         "orientation": "h",
         "showlegend": true,
         "textposition": "auto",
         "type": "bar",
         "uid": "4d614598-1886-4ac4-b1b2-b42dd495cdda",
         "x": [
          37574
         ],
         "xaxis": "x",
         "y": [
          "Mexico"
         ],
         "yaxis": "y"
        },
        {
         "alignmentgroup": "True",
         "hovertemplate": "country=%{y}<br>Count=%{x}<extra></extra>",
         "legendgroup": "Italy",
         "marker": {
          "color": "#FFA15A"
         },
         "name": "Italy",
         "offsetgroup": "Italy",
         "orientation": "h",
         "showlegend": true,
         "textposition": "auto",
         "type": "bar",
         "uid": "7f754996-a000-499a-ae96-08c4e17c9253",
         "x": [
          35017
         ],
         "xaxis": "x",
         "y": [
          "Italy"
         ],
         "yaxis": "y"
        },
        {
         "alignmentgroup": "True",
         "hovertemplate": "country=%{y}<br>Count=%{x}<extra></extra>",
         "legendgroup": "France",
         "marker": {
          "color": "#19d3f3"
         },
         "name": "France",
         "offsetgroup": "France",
         "orientation": "h",
         "showlegend": true,
         "textposition": "auto",
         "type": "bar",
         "uid": "3d859a63-5364-4925-9f23-0ed4db33e14f",
         "x": [
          30035
         ],
         "xaxis": "x",
         "y": [
          "France"
         ],
         "yaxis": "y"
        },
        {
         "alignmentgroup": "True",
         "hovertemplate": "country=%{y}<br>Count=%{x}<extra></extra>",
         "legendgroup": "Spain",
         "marker": {
          "color": "#FF6692"
         },
         "name": "Spain",
         "offsetgroup": "Spain",
         "orientation": "h",
         "showlegend": true,
         "textposition": "auto",
         "type": "bar",
         "uid": "864ecb1e-84fd-43cd-9443-3b26199d72e7",
         "x": [
          28416
         ],
         "xaxis": "x",
         "y": [
          "Spain"
         ],
         "yaxis": "y"
        },
        {
         "alignmentgroup": "True",
         "hovertemplate": "country=%{y}<br>Count=%{x}<extra></extra>",
         "legendgroup": "India",
         "marker": {
          "color": "#B6E880"
         },
         "name": "India",
         "offsetgroup": "India",
         "orientation": "h",
         "showlegend": true,
         "textposition": "auto",
         "type": "bar",
         "uid": "9d7130b4-e90e-44cd-8905-fd39bb68a799",
         "x": [
          25602
         ],
         "xaxis": "x",
         "y": [
          "India"
         ],
         "yaxis": "y"
        },
        {
         "alignmentgroup": "True",
         "hovertemplate": "country=%{y}<br>Count=%{x}<extra></extra>",
         "legendgroup": "Iran",
         "marker": {
          "color": "#FF97FF"
         },
         "name": "Iran",
         "offsetgroup": "Iran",
         "orientation": "h",
         "showlegend": true,
         "textposition": "auto",
         "type": "bar",
         "uid": "575888ec-01da-4d6f-9d13-d31b0cc4cd52",
         "x": [
          13608
         ],
         "xaxis": "x",
         "y": [
          "Iran"
         ],
         "yaxis": "y"
        },
        {
         "alignmentgroup": "True",
         "hovertemplate": "country=%{y}<br>Count=%{x}<extra></extra>",
         "legendgroup": "Peru",
         "marker": {
          "color": "#FECB52"
         },
         "name": "Peru",
         "offsetgroup": "Peru",
         "orientation": "h",
         "showlegend": true,
         "textposition": "auto",
         "type": "bar",
         "uid": "51b21250-ca04-44a4-8982-eb7350744a03",
         "x": [
          12615
         ],
         "xaxis": "x",
         "y": [
          "Peru"
         ],
         "yaxis": "y"
        }
       ],
       "layout": {
        "autosize": true,
        "barmode": "relative",
        "height": 900,
        "legend": {
         "title": {
          "text": "country"
         },
         "tracegroupgap": 0
        },
        "template": {
         "data": {
          "bar": [
           {
            "error_x": {
             "color": "#2a3f5f"
            },
            "error_y": {
             "color": "#2a3f5f"
            },
            "marker": {
             "line": {
              "color": "#E5ECF6",
              "width": 0.5
             }
            },
            "type": "bar"
           }
          ],
          "barpolar": [
           {
            "marker": {
             "line": {
              "color": "#E5ECF6",
              "width": 0.5
             }
            },
            "type": "barpolar"
           }
          ],
          "carpet": [
           {
            "aaxis": {
             "endlinecolor": "#2a3f5f",
             "gridcolor": "white",
             "linecolor": "white",
             "minorgridcolor": "white",
             "startlinecolor": "#2a3f5f"
            },
            "baxis": {
             "endlinecolor": "#2a3f5f",
             "gridcolor": "white",
             "linecolor": "white",
             "minorgridcolor": "white",
             "startlinecolor": "#2a3f5f"
            },
            "type": "carpet"
           }
          ],
          "choropleth": [
           {
            "colorbar": {
             "outlinewidth": 0,
             "ticks": ""
            },
            "type": "choropleth"
           }
          ],
          "contour": [
           {
            "colorbar": {
             "outlinewidth": 0,
             "ticks": ""
            },
            "colorscale": [
             [
              0,
              "#0d0887"
             ],
             [
              0.1111111111111111,
              "#46039f"
             ],
             [
              0.2222222222222222,
              "#7201a8"
             ],
             [
              0.3333333333333333,
              "#9c179e"
             ],
             [
              0.4444444444444444,
              "#bd3786"
             ],
             [
              0.5555555555555556,
              "#d8576b"
             ],
             [
              0.6666666666666666,
              "#ed7953"
             ],
             [
              0.7777777777777778,
              "#fb9f3a"
             ],
             [
              0.8888888888888888,
              "#fdca26"
             ],
             [
              1,
              "#f0f921"
             ]
            ],
            "type": "contour"
           }
          ],
          "contourcarpet": [
           {
            "colorbar": {
             "outlinewidth": 0,
             "ticks": ""
            },
            "type": "contourcarpet"
           }
          ],
          "heatmap": [
           {
            "colorbar": {
             "outlinewidth": 0,
             "ticks": ""
            },
            "colorscale": [
             [
              0,
              "#0d0887"
             ],
             [
              0.1111111111111111,
              "#46039f"
             ],
             [
              0.2222222222222222,
              "#7201a8"
             ],
             [
              0.3333333333333333,
              "#9c179e"
             ],
             [
              0.4444444444444444,
              "#bd3786"
             ],
             [
              0.5555555555555556,
              "#d8576b"
             ],
             [
              0.6666666666666666,
              "#ed7953"
             ],
             [
              0.7777777777777778,
              "#fb9f3a"
             ],
             [
              0.8888888888888888,
              "#fdca26"
             ],
             [
              1,
              "#f0f921"
             ]
            ],
            "type": "heatmap"
           }
          ],
          "heatmapgl": [
           {
            "colorbar": {
             "outlinewidth": 0,
             "ticks": ""
            },
            "colorscale": [
             [
              0,
              "#0d0887"
             ],
             [
              0.1111111111111111,
              "#46039f"
             ],
             [
              0.2222222222222222,
              "#7201a8"
             ],
             [
              0.3333333333333333,
              "#9c179e"
             ],
             [
              0.4444444444444444,
              "#bd3786"
             ],
             [
              0.5555555555555556,
              "#d8576b"
             ],
             [
              0.6666666666666666,
              "#ed7953"
             ],
             [
              0.7777777777777778,
              "#fb9f3a"
             ],
             [
              0.8888888888888888,
              "#fdca26"
             ],
             [
              1,
              "#f0f921"
             ]
            ],
            "type": "heatmapgl"
           }
          ],
          "histogram": [
           {
            "marker": {
             "colorbar": {
              "outlinewidth": 0,
              "ticks": ""
             }
            },
            "type": "histogram"
           }
          ],
          "histogram2d": [
           {
            "colorbar": {
             "outlinewidth": 0,
             "ticks": ""
            },
            "colorscale": [
             [
              0,
              "#0d0887"
             ],
             [
              0.1111111111111111,
              "#46039f"
             ],
             [
              0.2222222222222222,
              "#7201a8"
             ],
             [
              0.3333333333333333,
              "#9c179e"
             ],
             [
              0.4444444444444444,
              "#bd3786"
             ],
             [
              0.5555555555555556,
              "#d8576b"
             ],
             [
              0.6666666666666666,
              "#ed7953"
             ],
             [
              0.7777777777777778,
              "#fb9f3a"
             ],
             [
              0.8888888888888888,
              "#fdca26"
             ],
             [
              1,
              "#f0f921"
             ]
            ],
            "type": "histogram2d"
           }
          ],
          "histogram2dcontour": [
           {
            "colorbar": {
             "outlinewidth": 0,
             "ticks": ""
            },
            "colorscale": [
             [
              0,
              "#0d0887"
             ],
             [
              0.1111111111111111,
              "#46039f"
             ],
             [
              0.2222222222222222,
              "#7201a8"
             ],
             [
              0.3333333333333333,
              "#9c179e"
             ],
             [
              0.4444444444444444,
              "#bd3786"
             ],
             [
              0.5555555555555556,
              "#d8576b"
             ],
             [
              0.6666666666666666,
              "#ed7953"
             ],
             [
              0.7777777777777778,
              "#fb9f3a"
             ],
             [
              0.8888888888888888,
              "#fdca26"
             ],
             [
              1,
              "#f0f921"
             ]
            ],
            "type": "histogram2dcontour"
           }
          ],
          "mesh3d": [
           {
            "colorbar": {
             "outlinewidth": 0,
             "ticks": ""
            },
            "type": "mesh3d"
           }
          ],
          "parcoords": [
           {
            "line": {
             "colorbar": {
              "outlinewidth": 0,
              "ticks": ""
             }
            },
            "type": "parcoords"
           }
          ],
          "pie": [
           {
            "automargin": true,
            "type": "pie"
           }
          ],
          "scatter": [
           {
            "marker": {
             "colorbar": {
              "outlinewidth": 0,
              "ticks": ""
             }
            },
            "type": "scatter"
           }
          ],
          "scatter3d": [
           {
            "line": {
             "colorbar": {
              "outlinewidth": 0,
              "ticks": ""
             }
            },
            "marker": {
             "colorbar": {
              "outlinewidth": 0,
              "ticks": ""
             }
            },
            "type": "scatter3d"
           }
          ],
          "scattercarpet": [
           {
            "marker": {
             "colorbar": {
              "outlinewidth": 0,
              "ticks": ""
             }
            },
            "type": "scattercarpet"
           }
          ],
          "scattergeo": [
           {
            "marker": {
             "colorbar": {
              "outlinewidth": 0,
              "ticks": ""
             }
            },
            "type": "scattergeo"
           }
          ],
          "scattergl": [
           {
            "marker": {
             "colorbar": {
              "outlinewidth": 0,
              "ticks": ""
             }
            },
            "type": "scattergl"
           }
          ],
          "scattermapbox": [
           {
            "marker": {
             "colorbar": {
              "outlinewidth": 0,
              "ticks": ""
             }
            },
            "type": "scattermapbox"
           }
          ],
          "scatterpolar": [
           {
            "marker": {
             "colorbar": {
              "outlinewidth": 0,
              "ticks": ""
             }
            },
            "type": "scatterpolar"
           }
          ],
          "scatterpolargl": [
           {
            "marker": {
             "colorbar": {
              "outlinewidth": 0,
              "ticks": ""
             }
            },
            "type": "scatterpolargl"
           }
          ],
          "scatterternary": [
           {
            "marker": {
             "colorbar": {
              "outlinewidth": 0,
              "ticks": ""
             }
            },
            "type": "scatterternary"
           }
          ],
          "surface": [
           {
            "colorbar": {
             "outlinewidth": 0,
             "ticks": ""
            },
            "colorscale": [
             [
              0,
              "#0d0887"
             ],
             [
              0.1111111111111111,
              "#46039f"
             ],
             [
              0.2222222222222222,
              "#7201a8"
             ],
             [
              0.3333333333333333,
              "#9c179e"
             ],
             [
              0.4444444444444444,
              "#bd3786"
             ],
             [
              0.5555555555555556,
              "#d8576b"
             ],
             [
              0.6666666666666666,
              "#ed7953"
             ],
             [
              0.7777777777777778,
              "#fb9f3a"
             ],
             [
              0.8888888888888888,
              "#fdca26"
             ],
             [
              1,
              "#f0f921"
             ]
            ],
            "type": "surface"
           }
          ],
          "table": [
           {
            "cells": {
             "fill": {
              "color": "#EBF0F8"
             },
             "line": {
              "color": "white"
             }
            },
            "header": {
             "fill": {
              "color": "#C8D4E3"
             },
             "line": {
              "color": "white"
             }
            },
            "type": "table"
           }
          ]
         },
         "layout": {
          "annotationdefaults": {
           "arrowcolor": "#2a3f5f",
           "arrowhead": 0,
           "arrowwidth": 1
          },
          "coloraxis": {
           "colorbar": {
            "outlinewidth": 0,
            "ticks": ""
           }
          },
          "colorscale": {
           "diverging": [
            [
             0,
             "#8e0152"
            ],
            [
             0.1,
             "#c51b7d"
            ],
            [
             0.2,
             "#de77ae"
            ],
            [
             0.3,
             "#f1b6da"
            ],
            [
             0.4,
             "#fde0ef"
            ],
            [
             0.5,
             "#f7f7f7"
            ],
            [
             0.6,
             "#e6f5d0"
            ],
            [
             0.7,
             "#b8e186"
            ],
            [
             0.8,
             "#7fbc41"
            ],
            [
             0.9,
             "#4d9221"
            ],
            [
             1,
             "#276419"
            ]
           ],
           "sequential": [
            [
             0,
             "#0d0887"
            ],
            [
             0.1111111111111111,
             "#46039f"
            ],
            [
             0.2222222222222222,
             "#7201a8"
            ],
            [
             0.3333333333333333,
             "#9c179e"
            ],
            [
             0.4444444444444444,
             "#bd3786"
            ],
            [
             0.5555555555555556,
             "#d8576b"
            ],
            [
             0.6666666666666666,
             "#ed7953"
            ],
            [
             0.7777777777777778,
             "#fb9f3a"
            ],
            [
             0.8888888888888888,
             "#fdca26"
            ],
            [
             1,
             "#f0f921"
            ]
           ],
           "sequentialminus": [
            [
             0,
             "#0d0887"
            ],
            [
             0.1111111111111111,
             "#46039f"
            ],
            [
             0.2222222222222222,
             "#7201a8"
            ],
            [
             0.3333333333333333,
             "#9c179e"
            ],
            [
             0.4444444444444444,
             "#bd3786"
            ],
            [
             0.5555555555555556,
             "#d8576b"
            ],
            [
             0.6666666666666666,
             "#ed7953"
            ],
            [
             0.7777777777777778,
             "#fb9f3a"
            ],
            [
             0.8888888888888888,
             "#fdca26"
            ],
            [
             1,
             "#f0f921"
            ]
           ]
          },
          "colorway": [
           "#636efa",
           "#EF553B",
           "#00cc96",
           "#ab63fa",
           "#FFA15A",
           "#19d3f3",
           "#FF6692",
           "#B6E880",
           "#FF97FF",
           "#FECB52"
          ],
          "font": {
           "color": "#2a3f5f"
          },
          "geo": {
           "bgcolor": "white",
           "lakecolor": "white",
           "landcolor": "#E5ECF6",
           "showlakes": true,
           "showland": true,
           "subunitcolor": "white"
          },
          "hoverlabel": {
           "align": "left"
          },
          "hovermode": "closest",
          "mapbox": {
           "style": "light"
          },
          "paper_bgcolor": "white",
          "plot_bgcolor": "#E5ECF6",
          "polar": {
           "angularaxis": {
            "gridcolor": "white",
            "linecolor": "white",
            "ticks": ""
           },
           "bgcolor": "#E5ECF6",
           "radialaxis": {
            "gridcolor": "white",
            "linecolor": "white",
            "ticks": ""
           }
          },
          "scene": {
           "xaxis": {
            "backgroundcolor": "#E5ECF6",
            "gridcolor": "white",
            "gridwidth": 2,
            "linecolor": "white",
            "showbackground": true,
            "ticks": "",
            "zerolinecolor": "white"
           },
           "yaxis": {
            "backgroundcolor": "#E5ECF6",
            "gridcolor": "white",
            "gridwidth": 2,
            "linecolor": "white",
            "showbackground": true,
            "ticks": "",
            "zerolinecolor": "white"
           },
           "zaxis": {
            "backgroundcolor": "#E5ECF6",
            "gridcolor": "white",
            "gridwidth": 2,
            "linecolor": "white",
            "showbackground": true,
            "ticks": "",
            "zerolinecolor": "white"
           }
          },
          "shapedefaults": {
           "line": {
            "color": "#2a3f5f"
           }
          },
          "ternary": {
           "aaxis": {
            "gridcolor": "white",
            "linecolor": "white",
            "ticks": ""
           },
           "baxis": {
            "gridcolor": "white",
            "linecolor": "white",
            "ticks": ""
           },
           "bgcolor": "#E5ECF6",
           "caxis": {
            "gridcolor": "white",
            "linecolor": "white",
            "ticks": ""
           }
          },
          "title": {
           "x": 0.05
          },
          "xaxis": {
           "automargin": true,
           "gridcolor": "white",
           "linecolor": "white",
           "ticks": "",
           "title": {
            "standoff": 15
           },
           "zerolinecolor": "white",
           "zerolinewidth": 2
          },
          "yaxis": {
           "automargin": true,
           "gridcolor": "white",
           "linecolor": "white",
           "ticks": "",
           "title": {
            "standoff": 15
           },
           "zerolinecolor": "white",
           "zerolinewidth": 2
          }
         }
        },
        "title": {
         "text": "COVID Death cases till 16/07/2020"
        },
        "width": 1000,
        "xaxis": {
         "anchor": "y",
         "domain": [
          0,
          1
         ],
         "title": {
          "text": "Count"
         }
        },
        "yaxis": {
         "anchor": "x",
         "categoryarray": [
          "Peru",
          "Iran",
          "India",
          "Spain",
          "France",
          "Italy",
          "Mexico",
          "United Kingdom",
          "Brazil",
          "US"
         ],
         "categoryorder": "array",
         "domain": [
          0,
          1
         ],
         "title": {
          "text": "country"
         }
        }
       }
      },
      "text/html": [
       "<div>\n",
       "        \n",
       "        \n",
       "            <div id=\"77860c70-e6da-47cb-9211-5ae6b74e96cf\" class=\"plotly-graph-div\" style=\"height:900px; width:1000px;\"></div>\n",
       "            <script type=\"text/javascript\">\n",
       "                require([\"plotly\"], function(Plotly) {\n",
       "                    window.PLOTLYENV=window.PLOTLYENV || {};\n",
       "                    \n",
       "                if (document.getElementById(\"77860c70-e6da-47cb-9211-5ae6b74e96cf\")) {\n",
       "                    Plotly.newPlot(\n",
       "                        '77860c70-e6da-47cb-9211-5ae6b74e96cf',\n",
       "                        [{\"alignmentgroup\": \"True\", \"hovertemplate\": \"country=%{y}<br>Count=%{x}<extra></extra>\", \"legendgroup\": \"US\", \"marker\": {\"color\": \"#636efa\"}, \"name\": \"US\", \"offsetgroup\": \"US\", \"orientation\": \"h\", \"showlegend\": true, \"textposition\": \"auto\", \"type\": \"bar\", \"uid\": \"98d0be44-5985-40fc-9e3f-ae80bd3661d0\", \"x\": [138358.0], \"xaxis\": \"x\", \"y\": [\"US\"], \"yaxis\": \"y\"}, {\"alignmentgroup\": \"True\", \"hovertemplate\": \"country=%{y}<br>Count=%{x}<extra></extra>\", \"legendgroup\": \"Brazil\", \"marker\": {\"color\": \"#EF553B\"}, \"name\": \"Brazil\", \"offsetgroup\": \"Brazil\", \"orientation\": \"h\", \"showlegend\": true, \"textposition\": \"auto\", \"type\": \"bar\", \"uid\": \"498a7db3-28a0-471b-88c3-077b91c0044c\", \"x\": [76688.0], \"xaxis\": \"x\", \"y\": [\"Brazil\"], \"yaxis\": \"y\"}, {\"alignmentgroup\": \"True\", \"hovertemplate\": \"country=%{y}<br>Count=%{x}<extra></extra>\", \"legendgroup\": \"United Kingdom\", \"marker\": {\"color\": \"#00cc96\"}, \"name\": \"United Kingdom\", \"offsetgroup\": \"United Kingdom\", \"orientation\": \"h\", \"showlegend\": true, \"textposition\": \"auto\", \"type\": \"bar\", \"uid\": \"dfaf8164-3a74-40b3-ae91-46bf14e8e1bd\", \"x\": [45119.0], \"xaxis\": \"x\", \"y\": [\"United Kingdom\"], \"yaxis\": \"y\"}, {\"alignmentgroup\": \"True\", \"hovertemplate\": \"country=%{y}<br>Count=%{x}<extra></extra>\", \"legendgroup\": \"Mexico\", \"marker\": {\"color\": \"#ab63fa\"}, \"name\": \"Mexico\", \"offsetgroup\": \"Mexico\", \"orientation\": \"h\", \"showlegend\": true, \"textposition\": \"auto\", \"type\": \"bar\", \"uid\": \"4d614598-1886-4ac4-b1b2-b42dd495cdda\", \"x\": [37574.0], \"xaxis\": \"x\", \"y\": [\"Mexico\"], \"yaxis\": \"y\"}, {\"alignmentgroup\": \"True\", \"hovertemplate\": \"country=%{y}<br>Count=%{x}<extra></extra>\", \"legendgroup\": \"Italy\", \"marker\": {\"color\": \"#FFA15A\"}, \"name\": \"Italy\", \"offsetgroup\": \"Italy\", \"orientation\": \"h\", \"showlegend\": true, \"textposition\": \"auto\", \"type\": \"bar\", \"uid\": \"7f754996-a000-499a-ae96-08c4e17c9253\", \"x\": [35017.0], \"xaxis\": \"x\", \"y\": [\"Italy\"], \"yaxis\": \"y\"}, {\"alignmentgroup\": \"True\", \"hovertemplate\": \"country=%{y}<br>Count=%{x}<extra></extra>\", \"legendgroup\": \"France\", \"marker\": {\"color\": \"#19d3f3\"}, \"name\": \"France\", \"offsetgroup\": \"France\", \"orientation\": \"h\", \"showlegend\": true, \"textposition\": \"auto\", \"type\": \"bar\", \"uid\": \"3d859a63-5364-4925-9f23-0ed4db33e14f\", \"x\": [30035.0], \"xaxis\": \"x\", \"y\": [\"France\"], \"yaxis\": \"y\"}, {\"alignmentgroup\": \"True\", \"hovertemplate\": \"country=%{y}<br>Count=%{x}<extra></extra>\", \"legendgroup\": \"Spain\", \"marker\": {\"color\": \"#FF6692\"}, \"name\": \"Spain\", \"offsetgroup\": \"Spain\", \"orientation\": \"h\", \"showlegend\": true, \"textposition\": \"auto\", \"type\": \"bar\", \"uid\": \"864ecb1e-84fd-43cd-9443-3b26199d72e7\", \"x\": [28416.0], \"xaxis\": \"x\", \"y\": [\"Spain\"], \"yaxis\": \"y\"}, {\"alignmentgroup\": \"True\", \"hovertemplate\": \"country=%{y}<br>Count=%{x}<extra></extra>\", \"legendgroup\": \"India\", \"marker\": {\"color\": \"#B6E880\"}, \"name\": \"India\", \"offsetgroup\": \"India\", \"orientation\": \"h\", \"showlegend\": true, \"textposition\": \"auto\", \"type\": \"bar\", \"uid\": \"9d7130b4-e90e-44cd-8905-fd39bb68a799\", \"x\": [25602.0], \"xaxis\": \"x\", \"y\": [\"India\"], \"yaxis\": \"y\"}, {\"alignmentgroup\": \"True\", \"hovertemplate\": \"country=%{y}<br>Count=%{x}<extra></extra>\", \"legendgroup\": \"Iran\", \"marker\": {\"color\": \"#FF97FF\"}, \"name\": \"Iran\", \"offsetgroup\": \"Iran\", \"orientation\": \"h\", \"showlegend\": true, \"textposition\": \"auto\", \"type\": \"bar\", \"uid\": \"575888ec-01da-4d6f-9d13-d31b0cc4cd52\", \"x\": [13608.0], \"xaxis\": \"x\", \"y\": [\"Iran\"], \"yaxis\": \"y\"}, {\"alignmentgroup\": \"True\", \"hovertemplate\": \"country=%{y}<br>Count=%{x}<extra></extra>\", \"legendgroup\": \"Peru\", \"marker\": {\"color\": \"#FECB52\"}, \"name\": \"Peru\", \"offsetgroup\": \"Peru\", \"orientation\": \"h\", \"showlegend\": true, \"textposition\": \"auto\", \"type\": \"bar\", \"uid\": \"51b21250-ca04-44a4-8982-eb7350744a03\", \"x\": [12615.0], \"xaxis\": \"x\", \"y\": [\"Peru\"], \"yaxis\": \"y\"}],\n",
       "                        {\"autosize\": true, \"barmode\": \"relative\", \"height\": 900, \"legend\": {\"title\": {\"text\": \"country\"}, \"tracegroupgap\": 0}, \"template\": {\"data\": {\"bar\": [{\"error_x\": {\"color\": \"#2a3f5f\"}, \"error_y\": {\"color\": \"#2a3f5f\"}, \"marker\": {\"line\": {\"color\": \"#E5ECF6\", \"width\": 0.5}}, \"type\": \"bar\"}], \"barpolar\": [{\"marker\": {\"line\": {\"color\": \"#E5ECF6\", \"width\": 0.5}}, \"type\": \"barpolar\"}], \"carpet\": [{\"aaxis\": {\"endlinecolor\": \"#2a3f5f\", \"gridcolor\": \"white\", \"linecolor\": \"white\", \"minorgridcolor\": \"white\", \"startlinecolor\": \"#2a3f5f\"}, \"baxis\": {\"endlinecolor\": \"#2a3f5f\", \"gridcolor\": \"white\", \"linecolor\": \"white\", \"minorgridcolor\": \"white\", \"startlinecolor\": \"#2a3f5f\"}, \"type\": \"carpet\"}], \"choropleth\": [{\"colorbar\": {\"outlinewidth\": 0, \"ticks\": \"\"}, \"type\": \"choropleth\"}], \"contour\": [{\"colorbar\": {\"outlinewidth\": 0, \"ticks\": \"\"}, \"colorscale\": [[0.0, \"#0d0887\"], [0.1111111111111111, \"#46039f\"], [0.2222222222222222, \"#7201a8\"], [0.3333333333333333, \"#9c179e\"], [0.4444444444444444, \"#bd3786\"], [0.5555555555555556, \"#d8576b\"], [0.6666666666666666, \"#ed7953\"], [0.7777777777777778, \"#fb9f3a\"], [0.8888888888888888, \"#fdca26\"], [1.0, \"#f0f921\"]], \"type\": \"contour\"}], \"contourcarpet\": [{\"colorbar\": {\"outlinewidth\": 0, \"ticks\": \"\"}, \"type\": \"contourcarpet\"}], \"heatmap\": [{\"colorbar\": {\"outlinewidth\": 0, \"ticks\": \"\"}, \"colorscale\": [[0.0, \"#0d0887\"], [0.1111111111111111, \"#46039f\"], [0.2222222222222222, \"#7201a8\"], [0.3333333333333333, \"#9c179e\"], [0.4444444444444444, \"#bd3786\"], [0.5555555555555556, \"#d8576b\"], [0.6666666666666666, \"#ed7953\"], [0.7777777777777778, \"#fb9f3a\"], [0.8888888888888888, \"#fdca26\"], [1.0, \"#f0f921\"]], \"type\": \"heatmap\"}], \"heatmapgl\": [{\"colorbar\": {\"outlinewidth\": 0, \"ticks\": \"\"}, \"colorscale\": [[0.0, \"#0d0887\"], [0.1111111111111111, \"#46039f\"], [0.2222222222222222, \"#7201a8\"], [0.3333333333333333, \"#9c179e\"], [0.4444444444444444, \"#bd3786\"], [0.5555555555555556, \"#d8576b\"], [0.6666666666666666, \"#ed7953\"], [0.7777777777777778, \"#fb9f3a\"], [0.8888888888888888, \"#fdca26\"], [1.0, \"#f0f921\"]], \"type\": \"heatmapgl\"}], \"histogram\": [{\"marker\": {\"colorbar\": {\"outlinewidth\": 0, \"ticks\": \"\"}}, \"type\": \"histogram\"}], \"histogram2d\": [{\"colorbar\": {\"outlinewidth\": 0, \"ticks\": \"\"}, \"colorscale\": [[0.0, \"#0d0887\"], [0.1111111111111111, \"#46039f\"], [0.2222222222222222, \"#7201a8\"], [0.3333333333333333, \"#9c179e\"], [0.4444444444444444, \"#bd3786\"], [0.5555555555555556, \"#d8576b\"], [0.6666666666666666, \"#ed7953\"], [0.7777777777777778, \"#fb9f3a\"], [0.8888888888888888, \"#fdca26\"], [1.0, \"#f0f921\"]], \"type\": \"histogram2d\"}], \"histogram2dcontour\": [{\"colorbar\": {\"outlinewidth\": 0, \"ticks\": \"\"}, \"colorscale\": [[0.0, \"#0d0887\"], [0.1111111111111111, \"#46039f\"], [0.2222222222222222, \"#7201a8\"], [0.3333333333333333, \"#9c179e\"], [0.4444444444444444, \"#bd3786\"], [0.5555555555555556, \"#d8576b\"], [0.6666666666666666, \"#ed7953\"], [0.7777777777777778, \"#fb9f3a\"], [0.8888888888888888, \"#fdca26\"], [1.0, \"#f0f921\"]], \"type\": \"histogram2dcontour\"}], \"mesh3d\": [{\"colorbar\": {\"outlinewidth\": 0, \"ticks\": \"\"}, \"type\": \"mesh3d\"}], \"parcoords\": [{\"line\": {\"colorbar\": {\"outlinewidth\": 0, \"ticks\": \"\"}}, \"type\": \"parcoords\"}], \"pie\": [{\"automargin\": true, \"type\": \"pie\"}], \"scatter\": [{\"marker\": {\"colorbar\": {\"outlinewidth\": 0, \"ticks\": \"\"}}, \"type\": \"scatter\"}], \"scatter3d\": [{\"line\": {\"colorbar\": {\"outlinewidth\": 0, \"ticks\": \"\"}}, \"marker\": {\"colorbar\": {\"outlinewidth\": 0, \"ticks\": \"\"}}, \"type\": \"scatter3d\"}], \"scattercarpet\": [{\"marker\": {\"colorbar\": {\"outlinewidth\": 0, \"ticks\": \"\"}}, \"type\": \"scattercarpet\"}], \"scattergeo\": [{\"marker\": {\"colorbar\": {\"outlinewidth\": 0, \"ticks\": \"\"}}, \"type\": \"scattergeo\"}], \"scattergl\": [{\"marker\": {\"colorbar\": {\"outlinewidth\": 0, \"ticks\": \"\"}}, \"type\": \"scattergl\"}], \"scattermapbox\": [{\"marker\": {\"colorbar\": {\"outlinewidth\": 0, \"ticks\": \"\"}}, \"type\": \"scattermapbox\"}], \"scatterpolar\": [{\"marker\": {\"colorbar\": {\"outlinewidth\": 0, \"ticks\": \"\"}}, \"type\": \"scatterpolar\"}], \"scatterpolargl\": [{\"marker\": {\"colorbar\": {\"outlinewidth\": 0, \"ticks\": \"\"}}, \"type\": \"scatterpolargl\"}], \"scatterternary\": [{\"marker\": {\"colorbar\": {\"outlinewidth\": 0, \"ticks\": \"\"}}, \"type\": \"scatterternary\"}], \"surface\": [{\"colorbar\": {\"outlinewidth\": 0, \"ticks\": \"\"}, \"colorscale\": [[0.0, \"#0d0887\"], [0.1111111111111111, \"#46039f\"], [0.2222222222222222, \"#7201a8\"], [0.3333333333333333, \"#9c179e\"], [0.4444444444444444, \"#bd3786\"], [0.5555555555555556, \"#d8576b\"], [0.6666666666666666, \"#ed7953\"], [0.7777777777777778, \"#fb9f3a\"], [0.8888888888888888, \"#fdca26\"], [1.0, \"#f0f921\"]], \"type\": \"surface\"}], \"table\": [{\"cells\": {\"fill\": {\"color\": \"#EBF0F8\"}, \"line\": {\"color\": \"white\"}}, \"header\": {\"fill\": {\"color\": \"#C8D4E3\"}, \"line\": {\"color\": \"white\"}}, \"type\": \"table\"}]}, \"layout\": {\"annotationdefaults\": {\"arrowcolor\": \"#2a3f5f\", \"arrowhead\": 0, \"arrowwidth\": 1}, \"coloraxis\": {\"colorbar\": {\"outlinewidth\": 0, \"ticks\": \"\"}}, \"colorscale\": {\"diverging\": [[0, \"#8e0152\"], [0.1, \"#c51b7d\"], [0.2, \"#de77ae\"], [0.3, \"#f1b6da\"], [0.4, \"#fde0ef\"], [0.5, \"#f7f7f7\"], [0.6, \"#e6f5d0\"], [0.7, \"#b8e186\"], [0.8, \"#7fbc41\"], [0.9, \"#4d9221\"], [1, \"#276419\"]], \"sequential\": [[0.0, \"#0d0887\"], [0.1111111111111111, \"#46039f\"], [0.2222222222222222, \"#7201a8\"], [0.3333333333333333, \"#9c179e\"], [0.4444444444444444, \"#bd3786\"], [0.5555555555555556, \"#d8576b\"], [0.6666666666666666, \"#ed7953\"], [0.7777777777777778, \"#fb9f3a\"], [0.8888888888888888, \"#fdca26\"], [1.0, \"#f0f921\"]], \"sequentialminus\": [[0.0, \"#0d0887\"], [0.1111111111111111, \"#46039f\"], [0.2222222222222222, \"#7201a8\"], [0.3333333333333333, \"#9c179e\"], [0.4444444444444444, \"#bd3786\"], [0.5555555555555556, \"#d8576b\"], [0.6666666666666666, \"#ed7953\"], [0.7777777777777778, \"#fb9f3a\"], [0.8888888888888888, \"#fdca26\"], [1.0, \"#f0f921\"]]}, \"colorway\": [\"#636efa\", \"#EF553B\", \"#00cc96\", \"#ab63fa\", \"#FFA15A\", \"#19d3f3\", \"#FF6692\", \"#B6E880\", \"#FF97FF\", \"#FECB52\"], \"font\": {\"color\": \"#2a3f5f\"}, \"geo\": {\"bgcolor\": \"white\", \"lakecolor\": \"white\", \"landcolor\": \"#E5ECF6\", \"showlakes\": true, \"showland\": true, \"subunitcolor\": \"white\"}, \"hoverlabel\": {\"align\": \"left\"}, \"hovermode\": \"closest\", \"mapbox\": {\"style\": \"light\"}, \"paper_bgcolor\": \"white\", \"plot_bgcolor\": \"#E5ECF6\", \"polar\": {\"angularaxis\": {\"gridcolor\": \"white\", \"linecolor\": \"white\", \"ticks\": \"\"}, \"bgcolor\": \"#E5ECF6\", \"radialaxis\": {\"gridcolor\": \"white\", \"linecolor\": \"white\", \"ticks\": \"\"}}, \"scene\": {\"xaxis\": {\"backgroundcolor\": \"#E5ECF6\", \"gridcolor\": \"white\", \"gridwidth\": 2, \"linecolor\": \"white\", \"showbackground\": true, \"ticks\": \"\", \"zerolinecolor\": \"white\"}, \"yaxis\": {\"backgroundcolor\": \"#E5ECF6\", \"gridcolor\": \"white\", \"gridwidth\": 2, \"linecolor\": \"white\", \"showbackground\": true, \"ticks\": \"\", \"zerolinecolor\": \"white\"}, \"zaxis\": {\"backgroundcolor\": \"#E5ECF6\", \"gridcolor\": \"white\", \"gridwidth\": 2, \"linecolor\": \"white\", \"showbackground\": true, \"ticks\": \"\", \"zerolinecolor\": \"white\"}}, \"shapedefaults\": {\"line\": {\"color\": \"#2a3f5f\"}}, \"ternary\": {\"aaxis\": {\"gridcolor\": \"white\", \"linecolor\": \"white\", \"ticks\": \"\"}, \"baxis\": {\"gridcolor\": \"white\", \"linecolor\": \"white\", \"ticks\": \"\"}, \"bgcolor\": \"#E5ECF6\", \"caxis\": {\"gridcolor\": \"white\", \"linecolor\": \"white\", \"ticks\": \"\"}}, \"title\": {\"x\": 0.05}, \"xaxis\": {\"automargin\": true, \"gridcolor\": \"white\", \"linecolor\": \"white\", \"ticks\": \"\", \"title\": {\"standoff\": 15}, \"zerolinecolor\": \"white\", \"zerolinewidth\": 2}, \"yaxis\": {\"automargin\": true, \"gridcolor\": \"white\", \"linecolor\": \"white\", \"ticks\": \"\", \"title\": {\"standoff\": 15}, \"zerolinecolor\": \"white\", \"zerolinewidth\": 2}}}, \"title\": {\"text\": \"COVID Death cases till 16/07/2020\"}, \"width\": 1000, \"xaxis\": {\"anchor\": \"y\", \"domain\": [0.0, 1.0], \"title\": {\"text\": \"Count\"}}, \"yaxis\": {\"anchor\": \"x\", \"categoryarray\": [\"Peru\", \"Iran\", \"India\", \"Spain\", \"France\", \"Italy\", \"Mexico\", \"United Kingdom\", \"Brazil\", \"US\"], \"categoryorder\": \"array\", \"domain\": [0.0, 1.0], \"title\": {\"text\": \"country\"}}},\n",
       "                        {\"responsive\": true}\n",
       "                    ).then(function(){\n",
       "                            \n",
       "var gd = document.getElementById('77860c70-e6da-47cb-9211-5ae6b74e96cf');\n",
       "var x = new MutationObserver(function (mutations, observer) {{\n",
       "        var display = window.getComputedStyle(gd).display;\n",
       "        if (!display || display === 'none') {{\n",
       "            console.log([gd, 'removed!']);\n",
       "            Plotly.purge(gd);\n",
       "            observer.disconnect();\n",
       "        }}\n",
       "}});\n",
       "\n",
       "// Listen for the removal of the full notebook cells\n",
       "var notebookContainer = gd.closest('#notebook-container');\n",
       "if (notebookContainer) {{\n",
       "    x.observe(notebookContainer, {childList: true});\n",
       "}}\n",
       "\n",
       "// Listen for the clearing of the current output cell\n",
       "var outputEl = gd.closest('.output');\n",
       "if (outputEl) {{\n",
       "    x.observe(outputEl, {childList: true});\n",
       "}}\n",
       "\n",
       "                        })\n",
       "                };\n",
       "                });\n",
       "            </script>\n",
       "        </div>"
      ]
     },
     "metadata": {},
     "output_type": "display_data"
    }
   ],
   "source": [
    " \n",
    "death_time_series=df_corona[df_corona['type']=='Deaths'].iloc[:,:]\n",
    "death_time_series = (death_time_series[death_time_series['Date'].eq(\"07/16/2020\")].sort_values(by=\"Count\",ascending=False).head(10))\n",
    "fig = px.bar(death_time_series, x=\"Count\", y=\"country\",color='country',title='COVID Death cases till 16/07/2020')\n",
    "fig.update_layout( autosize=True,width=1000, height=900,)\n",
    "fig = go.FigureWidget(fig)\n",
    "fig.show()\n"
   ]
  },
  {
   "cell_type": "markdown",
   "metadata": {},
   "source": [
    "## Worst hit countries ( Confirmed Count ) sliding bar\n"
   ]
  },
  {
   "cell_type": "code",
   "execution_count": 19,
   "metadata": {},
   "outputs": [
    {
     "data": {
      "application/vnd.jupyter.widget-view+json": {
       "model_id": "186ca0e373584810a64cefa91d4b1d7a",
       "version_major": 2,
       "version_minor": 0
      },
      "text/plain": [
       "interactive(children=(IntSlider(value=10, description='n', max=30, min=-10), Output()), _dom_classes=('widget-…"
      ]
     },
     "metadata": {},
     "output_type": "display_data"
    }
   ],
   "source": [
    "confirmed_time_series=df_corona[df_corona['type']=='Confirmed'].iloc[:,:]\n",
    "confirmed_time_series = (confirmed_time_series[confirmed_time_series['Date'].eq(\"07/15/2020\")].sort_values(by=\"Count\",ascending=False))\n",
    "#print(confirmed_time_series.head())\n",
    "def bubble_chart(n):\n",
    "    fig = px.scatter(confirmed_time_series.head(n), x=\"country\", y=\"Count\", size=\"Count\", color=\"country\",\n",
    "               hover_name=\"country\", size_max=60)\n",
    "    fig.update_layout(\n",
    "    title=str(n) +\" Worst hit countries\",\n",
    "    xaxis_title=\"Countries\",\n",
    "    yaxis_title=\"Confirmed Cases\",\n",
    "    width = 700\n",
    "    )\n",
    "    fig.show();\n",
    "\n",
    "interact(bubble_chart, n=10)\n",
    "\n",
    "ipywLayout = widgets.Layout(border='solid 2px ')\n",
    "ipywLayout.display='none'"
   ]
  },
  {
   "cell_type": "markdown",
   "metadata": {},
   "source": [
    "## Time series plot for every country:\n"
   ]
  },
  {
   "cell_type": "code",
   "execution_count": 20,
   "metadata": {},
   "outputs": [],
   "source": [
    "def plot_cases_of_a_country(country):\n",
    "    for i in enumerate(df_corona):\n",
    "        if country == 'World' or country == 'world':\n",
    "            df_new=df_corona\n",
    "            \n",
    "        else:    \n",
    "            df_new=df_corona[df_corona['country'] == country].iloc[:,:]\n",
    "            \n",
    "            \n",
    "    corona_sums = df_new.groupby(['type', 'Date'],\\\n",
    "                     as_index=False).agg({'Count':'sum'})\n",
    "    fig = px.line(corona_sums, x='Date', y='Count', color='type',hover_data=['Count'],template='plotly_dark',title='COVID Time series :' + country)\n",
    "\n",
    "    fig.update_layout(legend_orientation=\"h\")\n",
    "    fig.show()\n"
   ]
  },
  {
   "cell_type": "code",
   "execution_count": 21,
   "metadata": {},
   "outputs": [
    {
     "data": {
      "application/vnd.jupyter.widget-view+json": {
       "model_id": "664fd712546048ba9ea1e9b99016d2f9",
       "version_major": 2,
       "version_minor": 0
      },
      "text/plain": [
       "interactive(children=(Dropdown(description='country', options=('Afghanistan', 'Albania', 'Algeria', 'Andorra',…"
      ]
     },
     "metadata": {},
     "output_type": "display_data"
    }
   ],
   "source": [
    "country_list=df_corona['country'].unique().tolist()\n",
    "interact(plot_cases_of_a_country, country=country_list);\n",
    "\n",
    "ipywLayout = widgets.Layout(border='solid 2px ')\n",
    "ipywLayout.display='none'\n"
   ]
  },
  {
   "cell_type": "markdown",
   "metadata": {},
   "source": [
    "### For more information on COVID visit:\n",
    "\n",
    "* https://www.cdc.gov/coronavirus/2019-ncov/\n",
    "\n",
    "* https://www.who.int/emergencies/diseases/novel-coronavirus-2019"
   ]
  },
  {
   "cell_type": "markdown",
   "metadata": {},
   "source": [
    "### Source Code link:\n"
   ]
  },
  {
   "cell_type": "code",
   "execution_count": null,
   "metadata": {},
   "outputs": [],
   "source": []
  }
 ],
 "metadata": {
  "kernelspec": {
   "display_name": "Python 3",
   "language": "python",
   "name": "python3"
  },
  "language_info": {
   "codemirror_mode": {
    "name": "ipython",
    "version": 3
   },
   "file_extension": ".py",
   "mimetype": "text/x-python",
   "name": "python",
   "nbconvert_exporter": "python",
   "pygments_lexer": "ipython3",
   "version": "3.7.6"
  }
 },
 "nbformat": 4,
 "nbformat_minor": 4
}
